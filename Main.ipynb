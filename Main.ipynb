{
 "cells": [
  {
   "cell_type": "code",
   "execution_count": 1,
   "metadata": {},
   "outputs": [
    {
     "name": "stderr",
     "output_type": "stream",
     "text": [
      "/home/ubuntu/anaconda3/lib/python3.8/site-packages/gensim/similarities/__init__.py:15: UserWarning: The gensim.similarities.levenshtein submodule is disabled, because the optional Levenshtein package <https://pypi.org/project/python-Levenshtein/> is unavailable. Install Levenhstein (e.g. `pip install python-Levenshtein`) to suppress this warning.\n",
      "  warnings.warn(msg)\n"
     ]
    }
   ],
   "source": [
    "import pandas as pd\n",
    "import unicodedata\n",
    "import string\n",
    "import re\n",
    "import seaborn as sns\n",
    "import random\n",
    "import itertools\n",
    "\n",
    "import matplotlib.pyplot as plt\n",
    "import matplotlib.cm as cm\n",
    "import nltk\n",
    "from nltk.util import ngrams\n",
    "from nltk.tokenize import sent_tokenize, word_tokenize\n",
    "from nltk.corpus import stopwords\n",
    "from nltk.stem.snowball import SnowballStemmer\n",
    "from nltk.stem import WordNetLemmatizer\n",
    "from wordcloud import WordCloud\n",
    "\n",
    "from textblob import TextBlob\n",
    "\n",
    "from sklearn.model_selection import train_test_split,cross_val_score,KFold,GridSearchCV\n",
    "from sklearn.metrics import precision_recall_curve,precision_score,recall_score,accuracy_score\n",
    "from sklearn.metrics import plot_confusion_matrix,plot_precision_recall_curve,plot_roc_curve\n",
    "from sklearn.metrics import roc_auc_score,roc_curve,classification_report\n",
    "from sklearn.linear_model import LogisticRegression\n",
    "from sklearn.ensemble import GradientBoostingClassifier,RandomForestClassifier\n",
    "from sklearn import feature_extraction,naive_bayes,pipeline,manifold,preprocessing\n",
    "from sklearn.feature_extraction.text import TfidfVectorizer,CountVectorizer\n",
    "from sklearn.naive_bayes import MultinomialNB\n",
    "from sklearn import feature_selection\n",
    "from sklearn.inspection import permutation_importance\n",
    "\n",
    "from lime import lime_text\n",
    "import gensim\n",
    "import gensim.downloader as gensim_api\n",
    "\n",
    "import xgboost as xgb\n",
    "# from tensorflow.keras import models,layers,preprocessing as kprocessing\n",
    "# from tensorflow.keras import backend as K\n",
    "\n",
    "# import transformers\n",
    "\n",
    "import numpy as np\n",
    "import matplotlib"
   ]
  },
  {
   "cell_type": "code",
   "execution_count": 2,
   "metadata": {},
   "outputs": [],
   "source": [
    "col_names = ['target','question_title','question_content','best_answer']\n",
    "target_classes = ['Society & Culture','Science & Mathematics','Health','Education & Reference',\n",
    "                  'Computers & Internet','Sports','Business & Finance','Entertainment & Music',\n",
    "                  'Family & Relationships','Politics & Government']\n",
    "target_classes_dict = {1:'Society & Culture',\n",
    "                       2:'Science & Mathematics',\n",
    "                       3:'Health',\n",
    "                       4:'Education & Reference',\n",
    "                       5:'Computers & Internet',\n",
    "                       6:'Sports',\n",
    "                       7:'Business & Finance',\n",
    "                       8:'Entertainment & Music',\n",
    "                       9:'Family & Relationships',\n",
    "                       10:'Politics & Government'}"
   ]
  },
  {
   "cell_type": "code",
   "execution_count": 3,
   "metadata": {},
   "outputs": [
    {
     "name": "stdout",
     "output_type": "stream",
     "text": [
      "<class 'pandas.core.frame.DataFrame'>\n",
      "RangeIndex: 1400000 entries, 0 to 1399999\n",
      "Data columns (total 4 columns):\n",
      " #   Column            Non-Null Count    Dtype \n",
      "---  ------            --------------    ----- \n",
      " 0   target            1400000 non-null  int64 \n",
      " 1   question_title    1400000 non-null  object\n",
      " 2   question_content  768325 non-null   object\n",
      " 3   best_answer       1375421 non-null  object\n",
      "dtypes: int64(1), object(3)\n",
      "memory usage: 42.7+ MB\n"
     ]
    }
   ],
   "source": [
    "df = pd.read_csv('data_yahoo/train.csv',header=None,names=col_names)\n",
    "# df_test = pd.read_csv('data_yahoo/test.csv',header=None,names=col_names)\n",
    "df.info()"
   ]
  },
  {
   "cell_type": "code",
   "execution_count": 4,
   "metadata": {},
   "outputs": [
    {
     "data": {
      "text/html": [
       "<div>\n",
       "<style scoped>\n",
       "    .dataframe tbody tr th:only-of-type {\n",
       "        vertical-align: middle;\n",
       "    }\n",
       "\n",
       "    .dataframe tbody tr th {\n",
       "        vertical-align: top;\n",
       "    }\n",
       "\n",
       "    .dataframe thead th {\n",
       "        text-align: right;\n",
       "    }\n",
       "</style>\n",
       "<table border=\"1\" class=\"dataframe\">\n",
       "  <thead>\n",
       "    <tr style=\"text-align: right;\">\n",
       "      <th></th>\n",
       "      <th>target</th>\n",
       "      <th>question_title</th>\n",
       "      <th>question_content</th>\n",
       "      <th>best_answer</th>\n",
       "    </tr>\n",
       "  </thead>\n",
       "  <tbody>\n",
       "    <tr>\n",
       "      <th>0</th>\n",
       "      <td>5</td>\n",
       "      <td>why doesn't an optical mouse work on a glass t...</td>\n",
       "      <td>or even on some surfaces?</td>\n",
       "      <td>Optical mice use an LED and a camera to rapidl...</td>\n",
       "    </tr>\n",
       "    <tr>\n",
       "      <th>1</th>\n",
       "      <td>6</td>\n",
       "      <td>What is the best off-road motorcycle trail ?</td>\n",
       "      <td>long-distance trail throughout CA</td>\n",
       "      <td>i hear that the mojave road is amazing!&lt;br /&gt;\\...</td>\n",
       "    </tr>\n",
       "    <tr>\n",
       "      <th>2</th>\n",
       "      <td>3</td>\n",
       "      <td>What is Trans Fat? How to reduce that?</td>\n",
       "      <td>I heard that tras fat is bad for the body.  Wh...</td>\n",
       "      <td>Trans fats occur in manufactured foods during ...</td>\n",
       "    </tr>\n",
       "    <tr>\n",
       "      <th>3</th>\n",
       "      <td>7</td>\n",
       "      <td>How many planes Fedex has?</td>\n",
       "      <td>I heard that it is the largest airline in the ...</td>\n",
       "      <td>according to the www.fedex.com web site:\\nAir ...</td>\n",
       "    </tr>\n",
       "    <tr>\n",
       "      <th>4</th>\n",
       "      <td>7</td>\n",
       "      <td>In the san francisco bay area, does it make se...</td>\n",
       "      <td>the prices of rent and the price of buying doe...</td>\n",
       "      <td>renting vs buying depends on your goals. &lt;br /...</td>\n",
       "    </tr>\n",
       "  </tbody>\n",
       "</table>\n",
       "</div>"
      ],
      "text/plain": [
       "   target                                     question_title  \\\n",
       "0       5  why doesn't an optical mouse work on a glass t...   \n",
       "1       6       What is the best off-road motorcycle trail ?   \n",
       "2       3             What is Trans Fat? How to reduce that?   \n",
       "3       7                         How many planes Fedex has?   \n",
       "4       7  In the san francisco bay area, does it make se...   \n",
       "\n",
       "                                    question_content  \\\n",
       "0                          or even on some surfaces?   \n",
       "1                  long-distance trail throughout CA   \n",
       "2  I heard that tras fat is bad for the body.  Wh...   \n",
       "3  I heard that it is the largest airline in the ...   \n",
       "4  the prices of rent and the price of buying doe...   \n",
       "\n",
       "                                         best_answer  \n",
       "0  Optical mice use an LED and a camera to rapidl...  \n",
       "1  i hear that the mojave road is amazing!<br />\\...  \n",
       "2  Trans fats occur in manufactured foods during ...  \n",
       "3  according to the www.fedex.com web site:\\nAir ...  \n",
       "4  renting vs buying depends on your goals. <br /...  "
      ]
     },
     "execution_count": 4,
     "metadata": {},
     "output_type": "execute_result"
    }
   ],
   "source": [
    "df.head()"
   ]
  },
  {
   "cell_type": "code",
   "execution_count": null,
   "metadata": {},
   "outputs": [],
   "source": []
  },
  {
   "cell_type": "code",
   "execution_count": 5,
   "metadata": {},
   "outputs": [],
   "source": [
    "def get_samples(df, num_samples):\n",
    "    idx_lst = list(range(len(df)))\n",
    "    idx_samps = random.sample(idx_lst, num_samples)\n",
    "    df_samp = df.iloc[idx_samps]\n",
    "    return df_samp"
   ]
  },
  {
   "cell_type": "markdown",
   "metadata": {},
   "source": [
    "### Sampling the dataset since I'm running that on my computer. \n",
    "**** NEED to remove that in AWS"
   ]
  },
  {
   "cell_type": "code",
   "execution_count": 6,
   "metadata": {},
   "outputs": [],
   "source": [
    "# df = get_samples(df,1000000)"
   ]
  },
  {
   "cell_type": "code",
   "execution_count": null,
   "metadata": {},
   "outputs": [],
   "source": []
  },
  {
   "cell_type": "code",
   "execution_count": 7,
   "metadata": {},
   "outputs": [],
   "source": [
    "df.question_content.fillna(value='',axis=0,inplace=True)\n",
    "df.best_answer.fillna(value='',axis=0,inplace=True)"
   ]
  },
  {
   "cell_type": "code",
   "execution_count": 8,
   "metadata": {},
   "outputs": [
    {
     "data": {
      "text/plain": [
       "(1400000, 4)"
      ]
     },
     "execution_count": 8,
     "metadata": {},
     "output_type": "execute_result"
    }
   ],
   "source": [
    "df.shape"
   ]
  },
  {
   "cell_type": "code",
   "execution_count": 9,
   "metadata": {},
   "outputs": [],
   "source": [
    "df['Q'] = df.question_title + df.question_content\n",
    "df['Q&A'] = df.question_title + df.question_content + df.best_answer\n",
    "df['polarity'] = df['Q'].apply(lambda x: TextBlob(x).sentiment.polarity)\n",
    "df['subjectivity'] = df['Q'].apply(lambda x: TextBlob(x).sentiment.subjectivity)"
   ]
  },
  {
   "cell_type": "markdown",
   "metadata": {},
   "source": [
    "### In this part, I wanted to see how subjective or polar the questions are for each category"
   ]
  },
  {
   "cell_type": "code",
   "execution_count": 10,
   "metadata": {},
   "outputs": [
    {
     "data": {
      "image/png": "[encoded data removed]",
      "text/plain": [
       "<Figure size 504x432 with 1 Axes>"
      ]
     },
     "metadata": {
      "needs_background": "light"
     },
     "output_type": "display_data"
    }
   ],
   "source": [
    "filled_markers = ('o', 'D', 'd', 'X','8', 'D','P','s','H', 'p')\n",
    "fig,ax = plt.subplots(figsize=(7,6))\n",
    "for i in range(1,11):\n",
    "     ax.scatter(df[df.target==i]['polarity'].mean(),df[df.target==i]['subjectivity'].mean(),\n",
    "                marker=filled_markers[i-1],label=target_classes[i-1],s=80,);\n",
    "\n",
    "ax.legend(bbox_to_anchor=(1.05, 1), loc='upper left');\n",
    "ax.set_xlabel('Polarity',fontsize=14);\n",
    "ax.set_ylabel('Subjectivity',fontsize=14);\n",
    "ax.set_title('Subjectivity of the Questions versus Polarity',fontsize=14);"
   ]
  },
  {
   "cell_type": "markdown",
   "metadata": {},
   "source": [
    "### In this section, I'm interested to see how many of the following words have been used in the sentence\n",
    "* what\n",
    "* how\n",
    "* I\n",
    "* is\n",
    "* why\n",
    "* can\n",
    "* do\n",
    "* does\n",
    "* where\n",
    "* my"
   ]
  },
  {
   "cell_type": "code",
   "execution_count": 11,
   "metadata": {},
   "outputs": [
    {
     "data": {
      "image/png": "[encoded data removed]",
      "text/plain": [
       "<Figure size 504x504 with 1 Axes>"
      ]
     },
     "metadata": {
      "needs_background": "light"
     },
     "output_type": "display_data"
    }
   ],
   "source": [
    "fig,ax=plt.subplots(figsize=(7,7));\n",
    "ax = sns.violinplot(x='target',y='polarity', data=df , kind='swarm');\n",
    "ax.set_xlabel('Classes');\n",
    "ax.set_ylabel('Polarity');\n",
    "matplotlib.rcParams.update({'font.size': 14})"
   ]
  },
  {
   "cell_type": "code",
   "execution_count": 12,
   "metadata": {},
   "outputs": [
    {
     "data": {
      "image/png": "[encoded data removed]",
      "text/plain": [
       "<Figure size 504x504 with 1 Axes>"
      ]
     },
     "metadata": {
      "needs_background": "light"
     },
     "output_type": "display_data"
    }
   ],
   "source": [
    "fig,ax=plt.subplots(figsize=(7,7));\n",
    "ax = sns.violinplot(x='target',y='subjectivity', data=df , kind='swarm');\n",
    "ax.set_xlabel('Classes');\n",
    "ax.set_ylabel('Subjectivity');\n",
    "matplotlib.rcParams.update({'font.size': 14})"
   ]
  },
  {
   "cell_type": "code",
   "execution_count": 13,
   "metadata": {},
   "outputs": [],
   "source": [
    "df['what']= df['Q'].apply(lambda x:len(re.findall('what',str(x).lower())))\n",
    "df['how'] = df['Q'].apply(lambda x:len(re.findall('how',str(x).lower())))\n",
    "df['am']  = df['Q'].apply(lambda x:len(re.findall('am',str(x).lower())))\n",
    "df['is']  = df['Q'].apply(lambda x:len(re.findall('is',str(x).lower())))\n",
    "df['are'] = df['Q'].apply(lambda x:len(re.findall('are',str(x).lower())))\n",
    "df['why'] = df['Q'].apply(lambda x:len(re.findall('why',str(x).lower())))\n",
    "df['can'] = df['Q'].apply(lambda x:len(re.findall('can',str(x).lower())))\n",
    "df['do']= df['Q'].apply(lambda x:len(re.findall('do',str(x).lower())))\n",
    "df['does']= df['Q'].apply(lambda x:len(re.findall('does',str(x).lower())))\n",
    "df['where']= df['Q'].apply(lambda x:len(re.findall('where',str(x).lower())))\n",
    "df['who']= df['Q'].apply(lambda x:len(re.findall('who',str(x).lower())))"
   ]
  },
  {
   "cell_type": "code",
   "execution_count": 14,
   "metadata": {},
   "outputs": [
    {
     "data": {
      "image/png": "[encoded data removed]",
      "text/plain": [
       "<Figure size 720x432 with 1 Axes>"
      ]
     },
     "metadata": {
      "needs_background": "light"
     },
     "output_type": "display_data"
    }
   ],
   "source": [
    "fig,axs = plt.subplots(figsize=(10,6));\n",
    "axs = sns.violinplot(x='target',y='how', data=df , kind='swarm');\n",
    "axs.set_xlabel('Classes');\n",
    "axs.set_ylabel('counts');\n",
    "matplotlib.rcParams.update({'font.size': 14})"
   ]
  },
  {
   "cell_type": "code",
   "execution_count": 15,
   "metadata": {},
   "outputs": [
    {
     "data": {
      "text/html": [
       "<div>\n",
       "<style scoped>\n",
       "    .dataframe tbody tr th:only-of-type {\n",
       "        vertical-align: middle;\n",
       "    }\n",
       "\n",
       "    .dataframe tbody tr th {\n",
       "        vertical-align: top;\n",
       "    }\n",
       "\n",
       "    .dataframe thead th {\n",
       "        text-align: right;\n",
       "    }\n",
       "</style>\n",
       "<table border=\"1\" class=\"dataframe\">\n",
       "  <thead>\n",
       "    <tr style=\"text-align: right;\">\n",
       "      <th></th>\n",
       "      <th>what</th>\n",
       "      <th>who</th>\n",
       "      <th>why</th>\n",
       "      <th>how</th>\n",
       "      <th>where</th>\n",
       "    </tr>\n",
       "    <tr>\n",
       "      <th>target</th>\n",
       "      <th></th>\n",
       "      <th></th>\n",
       "      <th></th>\n",
       "      <th></th>\n",
       "      <th></th>\n",
       "    </tr>\n",
       "  </thead>\n",
       "  <tbody>\n",
       "    <tr>\n",
       "      <th>1</th>\n",
       "      <td>0.49</td>\n",
       "      <td>0.19</td>\n",
       "      <td>0.26</td>\n",
       "      <td>0.24</td>\n",
       "      <td>0.08</td>\n",
       "    </tr>\n",
       "    <tr>\n",
       "      <th>2</th>\n",
       "      <td>0.45</td>\n",
       "      <td>0.04</td>\n",
       "      <td>0.13</td>\n",
       "      <td>0.31</td>\n",
       "      <td>0.06</td>\n",
       "    </tr>\n",
       "    <tr>\n",
       "      <th>3</th>\n",
       "      <td>0.45</td>\n",
       "      <td>0.06</td>\n",
       "      <td>0.10</td>\n",
       "      <td>0.31</td>\n",
       "      <td>0.05</td>\n",
       "    </tr>\n",
       "    <tr>\n",
       "      <th>4</th>\n",
       "      <td>0.47</td>\n",
       "      <td>0.08</td>\n",
       "      <td>0.08</td>\n",
       "      <td>0.25</td>\n",
       "      <td>0.09</td>\n",
       "    </tr>\n",
       "    <tr>\n",
       "      <th>5</th>\n",
       "      <td>0.31</td>\n",
       "      <td>0.04</td>\n",
       "      <td>0.08</td>\n",
       "      <td>0.50</td>\n",
       "      <td>0.11</td>\n",
       "    </tr>\n",
       "    <tr>\n",
       "      <th>6</th>\n",
       "      <td>0.29</td>\n",
       "      <td>0.24</td>\n",
       "      <td>0.09</td>\n",
       "      <td>0.19</td>\n",
       "      <td>0.08</td>\n",
       "    </tr>\n",
       "    <tr>\n",
       "      <th>7</th>\n",
       "      <td>0.40</td>\n",
       "      <td>0.09</td>\n",
       "      <td>0.08</td>\n",
       "      <td>0.32</td>\n",
       "      <td>0.10</td>\n",
       "    </tr>\n",
       "    <tr>\n",
       "      <th>8</th>\n",
       "      <td>0.41</td>\n",
       "      <td>0.22</td>\n",
       "      <td>0.09</td>\n",
       "      <td>0.21</td>\n",
       "      <td>0.11</td>\n",
       "    </tr>\n",
       "    <tr>\n",
       "      <th>9</th>\n",
       "      <td>0.54</td>\n",
       "      <td>0.16</td>\n",
       "      <td>0.15</td>\n",
       "      <td>0.38</td>\n",
       "      <td>0.06</td>\n",
       "    </tr>\n",
       "    <tr>\n",
       "      <th>10</th>\n",
       "      <td>0.41</td>\n",
       "      <td>0.19</td>\n",
       "      <td>0.21</td>\n",
       "      <td>0.25</td>\n",
       "      <td>0.07</td>\n",
       "    </tr>\n",
       "  </tbody>\n",
       "</table>\n",
       "</div>"
      ],
      "text/plain": [
       "        what   who   why   how  where\n",
       "target                               \n",
       "1       0.49  0.19  0.26  0.24   0.08\n",
       "2       0.45  0.04  0.13  0.31   0.06\n",
       "3       0.45  0.06  0.10  0.31   0.05\n",
       "4       0.47  0.08  0.08  0.25   0.09\n",
       "5       0.31  0.04  0.08  0.50   0.11\n",
       "6       0.29  0.24  0.09  0.19   0.08\n",
       "7       0.40  0.09  0.08  0.32   0.10\n",
       "8       0.41  0.22  0.09  0.21   0.11\n",
       "9       0.54  0.16  0.15  0.38   0.06\n",
       "10      0.41  0.19  0.21  0.25   0.07"
      ]
     },
     "execution_count": 15,
     "metadata": {},
     "output_type": "execute_result"
    }
   ],
   "source": [
    "df.groupby('target')[['what','who','why','how','where']].mean().round(2)"
   ]
  },
  {
   "cell_type": "code",
   "execution_count": 16,
   "metadata": {},
   "outputs": [
    {
     "data": {
      "text/plain": [
       "{1: 'Society & Culture',\n",
       " 2: 'Science & Mathematics',\n",
       " 3: 'Health',\n",
       " 4: 'Education & Reference',\n",
       " 5: 'Computers & Internet',\n",
       " 6: 'Sports',\n",
       " 7: 'Business & Finance',\n",
       " 8: 'Entertainment & Music',\n",
       " 9: 'Family & Relationships',\n",
       " 10: 'Politics & Government'}"
      ]
     },
     "execution_count": 16,
     "metadata": {},
     "output_type": "execute_result"
    }
   ],
   "source": [
    "target_classes_dict"
   ]
  },
  {
   "cell_type": "code",
   "execution_count": 17,
   "metadata": {},
   "outputs": [
    {
     "data": {
      "text/html": [
       "<div>\n",
       "<style scoped>\n",
       "    .dataframe tbody tr th:only-of-type {\n",
       "        vertical-align: middle;\n",
       "    }\n",
       "\n",
       "    .dataframe tbody tr th {\n",
       "        vertical-align: top;\n",
       "    }\n",
       "\n",
       "    .dataframe thead th {\n",
       "        text-align: right;\n",
       "    }\n",
       "</style>\n",
       "<table border=\"1\" class=\"dataframe\">\n",
       "  <thead>\n",
       "    <tr style=\"text-align: right;\">\n",
       "      <th></th>\n",
       "      <th>target</th>\n",
       "      <th>question_title</th>\n",
       "      <th>question_content</th>\n",
       "      <th>best_answer</th>\n",
       "      <th>Q</th>\n",
       "      <th>Q&amp;A</th>\n",
       "      <th>polarity</th>\n",
       "      <th>subjectivity</th>\n",
       "      <th>what</th>\n",
       "      <th>how</th>\n",
       "      <th>am</th>\n",
       "      <th>is</th>\n",
       "      <th>are</th>\n",
       "      <th>why</th>\n",
       "      <th>can</th>\n",
       "      <th>do</th>\n",
       "      <th>does</th>\n",
       "      <th>where</th>\n",
       "      <th>who</th>\n",
       "    </tr>\n",
       "  </thead>\n",
       "  <tbody>\n",
       "    <tr>\n",
       "      <th>0</th>\n",
       "      <td>5</td>\n",
       "      <td>why doesn't an optical mouse work on a glass t...</td>\n",
       "      <td>or even on some surfaces?</td>\n",
       "      <td>Optical mice use an LED and a camera to rapidl...</td>\n",
       "      <td>why doesn't an optical mouse work on a glass t...</td>\n",
       "      <td>why doesn't an optical mouse work on a glass t...</td>\n",
       "      <td>0.00</td>\n",
       "      <td>0.000000</td>\n",
       "      <td>0</td>\n",
       "      <td>0</td>\n",
       "      <td>0</td>\n",
       "      <td>0</td>\n",
       "      <td>0</td>\n",
       "      <td>1</td>\n",
       "      <td>0</td>\n",
       "      <td>1</td>\n",
       "      <td>1</td>\n",
       "      <td>0</td>\n",
       "      <td>0</td>\n",
       "    </tr>\n",
       "    <tr>\n",
       "      <th>1</th>\n",
       "      <td>6</td>\n",
       "      <td>What is the best off-road motorcycle trail ?</td>\n",
       "      <td>long-distance trail throughout CA</td>\n",
       "      <td>i hear that the mojave road is amazing!&lt;br /&gt;\\...</td>\n",
       "      <td>What is the best off-road motorcycle trail ?lo...</td>\n",
       "      <td>What is the best off-road motorcycle trail ?lo...</td>\n",
       "      <td>1.00</td>\n",
       "      <td>0.300000</td>\n",
       "      <td>1</td>\n",
       "      <td>0</td>\n",
       "      <td>0</td>\n",
       "      <td>2</td>\n",
       "      <td>0</td>\n",
       "      <td>0</td>\n",
       "      <td>0</td>\n",
       "      <td>0</td>\n",
       "      <td>0</td>\n",
       "      <td>0</td>\n",
       "      <td>0</td>\n",
       "    </tr>\n",
       "    <tr>\n",
       "      <th>2</th>\n",
       "      <td>3</td>\n",
       "      <td>What is Trans Fat? How to reduce that?</td>\n",
       "      <td>I heard that tras fat is bad for the body.  Wh...</td>\n",
       "      <td>Trans fats occur in manufactured foods during ...</td>\n",
       "      <td>What is Trans Fat? How to reduce that?I heard ...</td>\n",
       "      <td>What is Trans Fat? How to reduce that?I heard ...</td>\n",
       "      <td>-0.35</td>\n",
       "      <td>0.333333</td>\n",
       "      <td>1</td>\n",
       "      <td>1</td>\n",
       "      <td>0</td>\n",
       "      <td>3</td>\n",
       "      <td>0</td>\n",
       "      <td>1</td>\n",
       "      <td>1</td>\n",
       "      <td>0</td>\n",
       "      <td>0</td>\n",
       "      <td>1</td>\n",
       "      <td>0</td>\n",
       "    </tr>\n",
       "    <tr>\n",
       "      <th>3</th>\n",
       "      <td>7</td>\n",
       "      <td>How many planes Fedex has?</td>\n",
       "      <td>I heard that it is the largest airline in the ...</td>\n",
       "      <td>according to the www.fedex.com web site:\\nAir ...</td>\n",
       "      <td>How many planes Fedex has?I heard that it is t...</td>\n",
       "      <td>How many planes Fedex has?I heard that it is t...</td>\n",
       "      <td>0.50</td>\n",
       "      <td>0.500000</td>\n",
       "      <td>0</td>\n",
       "      <td>1</td>\n",
       "      <td>0</td>\n",
       "      <td>1</td>\n",
       "      <td>0</td>\n",
       "      <td>0</td>\n",
       "      <td>0</td>\n",
       "      <td>0</td>\n",
       "      <td>0</td>\n",
       "      <td>0</td>\n",
       "      <td>0</td>\n",
       "    </tr>\n",
       "    <tr>\n",
       "      <th>4</th>\n",
       "      <td>7</td>\n",
       "      <td>In the san francisco bay area, does it make se...</td>\n",
       "      <td>the prices of rent and the price of buying doe...</td>\n",
       "      <td>renting vs buying depends on your goals. &lt;br /...</td>\n",
       "      <td>In the san francisco bay area, does it make se...</td>\n",
       "      <td>In the san francisco bay area, does it make se...</td>\n",
       "      <td>0.50</td>\n",
       "      <td>0.500000</td>\n",
       "      <td>0</td>\n",
       "      <td>0</td>\n",
       "      <td>0</td>\n",
       "      <td>2</td>\n",
       "      <td>1</td>\n",
       "      <td>0</td>\n",
       "      <td>0</td>\n",
       "      <td>2</td>\n",
       "      <td>2</td>\n",
       "      <td>0</td>\n",
       "      <td>0</td>\n",
       "    </tr>\n",
       "  </tbody>\n",
       "</table>\n",
       "</div>"
      ],
      "text/plain": [
       "   target                                     question_title  \\\n",
       "0       5  why doesn't an optical mouse work on a glass t...   \n",
       "1       6       What is the best off-road motorcycle trail ?   \n",
       "2       3             What is Trans Fat? How to reduce that?   \n",
       "3       7                         How many planes Fedex has?   \n",
       "4       7  In the san francisco bay area, does it make se...   \n",
       "\n",
       "                                    question_content  \\\n",
       "0                          or even on some surfaces?   \n",
       "1                  long-distance trail throughout CA   \n",
       "2  I heard that tras fat is bad for the body.  Wh...   \n",
       "3  I heard that it is the largest airline in the ...   \n",
       "4  the prices of rent and the price of buying doe...   \n",
       "\n",
       "                                         best_answer  \\\n",
       "0  Optical mice use an LED and a camera to rapidl...   \n",
       "1  i hear that the mojave road is amazing!<br />\\...   \n",
       "2  Trans fats occur in manufactured foods during ...   \n",
       "3  according to the www.fedex.com web site:\\nAir ...   \n",
       "4  renting vs buying depends on your goals. <br /...   \n",
       "\n",
       "                                                   Q  \\\n",
       "0  why doesn't an optical mouse work on a glass t...   \n",
       "1  What is the best off-road motorcycle trail ?lo...   \n",
       "2  What is Trans Fat? How to reduce that?I heard ...   \n",
       "3  How many planes Fedex has?I heard that it is t...   \n",
       "4  In the san francisco bay area, does it make se...   \n",
       "\n",
       "                                                 Q&A  polarity  subjectivity  \\\n",
       "0  why doesn't an optical mouse work on a glass t...      0.00      0.000000   \n",
       "1  What is the best off-road motorcycle trail ?lo...      1.00      0.300000   \n",
       "2  What is Trans Fat? How to reduce that?I heard ...     -0.35      0.333333   \n",
       "3  How many planes Fedex has?I heard that it is t...      0.50      0.500000   \n",
       "4  In the san francisco bay area, does it make se...      0.50      0.500000   \n",
       "\n",
       "   what  how  am  is  are  why  can  do  does  where  who  \n",
       "0     0    0   0   0    0    1    0   1     1      0    0  \n",
       "1     1    0   0   2    0    0    0   0     0      0    0  \n",
       "2     1    1   0   3    0    1    1   0     0      1    0  \n",
       "3     0    1   0   1    0    0    0   0     0      0    0  \n",
       "4     0    0   0   2    1    0    0   2     2      0    0  "
      ]
     },
     "execution_count": 17,
     "metadata": {},
     "output_type": "execute_result"
    }
   ],
   "source": [
    "df.head(5)"
   ]
  },
  {
   "cell_type": "code",
   "execution_count": 18,
   "metadata": {},
   "outputs": [
    {
     "data": {
      "image/png": "[encoded data removed]",
      "text/plain": [
       "<Figure size 432x360 with 1 Axes>"
      ]
     },
     "metadata": {
      "needs_background": "light"
     },
     "output_type": "display_data"
    }
   ],
   "source": [
    "fig,ax = plt.subplots(figsize=(6,5));\n",
    "ax.barh(y = target_classes,width=df.target.value_counts().values,color='b',alpha=0.4,height=0.6);\n",
    "ax.set_ylabel('Classes');\n",
    "ax.set_xlabel('Counts per Classes');"
   ]
  },
  {
   "cell_type": "code",
   "execution_count": 19,
   "metadata": {},
   "outputs": [],
   "source": [
    "# df['lang'] = df['Q&A'].apply(lambda x:langdetect.detect(x) if x.strip()!=\"\" else \"\")"
   ]
  },
  {
   "cell_type": "code",
   "execution_count": 20,
   "metadata": {},
   "outputs": [],
   "source": [
    "lst_stopwords = stopwords.words('english')+['else',\"ya\"]"
   ]
  },
  {
   "cell_type": "code",
   "execution_count": 21,
   "metadata": {},
   "outputs": [],
   "source": [
    "def text_cleaning(text,stem_flag=False,lem_flag=True,lst_stopwords=None):\n",
    "    text = text.replace('\\\\n',' ')\n",
    "    text = text.replace('\\n',' ')\n",
    "    text = re.sub(r'[^\\w\\s]',' ',str(text).lower().strip())\n",
    "    text = re.sub(\"^\\d+\\s|\\s\\d+\\s|\\s\\d+$\", \" \", str(text).lower().strip())\n",
    "    text = re.sub(' 0 ',' ',str(text).lower().strip())\n",
    "    text = re.sub(' 00 ',' ',str(text).lower().strip())\n",
    "    text = re.sub(' 000 ',' ',str(text).lower().strip())\n",
    "    \n",
    "    lst_text = text.split()\n",
    "    if lst_stopwords is not None:\n",
    "        lst_text = [word for word in lst_text if word not in lst_stopwords]\n",
    "    if stem_flag == True:\n",
    "        ps = nltk.stem.porter.PorterStemmer()\n",
    "        lst_text = [ps.stem(word) for word in lst_text]\n",
    "    if lem_flag == True:\n",
    "        lem = nltk.stem.wordnet.WordNetLemmatizer()\n",
    "        lst_text = [lem.lemmatize(word) for word in lst_text]\n",
    "    lst_text = \" \".join(lst_text)\n",
    "    return lst_text"
   ]
  },
  {
   "cell_type": "code",
   "execution_count": null,
   "metadata": {},
   "outputs": [],
   "source": [
    "df['Text_new'] = df['Q&A'].apply(lambda x:text_cleaning(x,stem_flag=False,lem_flag=True,lst_stopwords=lst_stopwords))"
   ]
  },
  {
   "cell_type": "code",
   "execution_count": null,
   "metadata": {},
   "outputs": [],
   "source": [
    "df.head(5)"
   ]
  },
  {
   "cell_type": "code",
   "execution_count": null,
   "metadata": {},
   "outputs": [],
   "source": []
  },
  {
   "cell_type": "code",
   "execution_count": null,
   "metadata": {},
   "outputs": [],
   "source": []
  },
  {
   "cell_type": "code",
   "execution_count": null,
   "metadata": {},
   "outputs": [],
   "source": [
    "df['word_count'] = df['Q&A'].apply(lambda x:len(str(x).split(\" \")))\n",
    "df['char_count'] = df['Q&A'].apply(lambda x: sum(len(word)for word in str(x).split(\" \")))\n",
    "df['sentence_count'] = df['Q&A'].apply(lambda x:len(str(x).split(\".\")))\n",
    "df['word_length'] = df['char_count']/df['word_count']\n",
    "df['word_per_sentence'] = df['word_count']/df['sentence_count']"
   ]
  },
  {
   "cell_type": "code",
   "execution_count": null,
   "metadata": {},
   "outputs": [],
   "source": [
    "df.head(2)"
   ]
  },
  {
   "cell_type": "code",
   "execution_count": null,
   "metadata": {},
   "outputs": [],
   "source": [
    "colors=['b','g','r','k','magenta','orange','aqua','violet','peachpuff','pink']\n",
    "len(colors)"
   ]
  },
  {
   "cell_type": "code",
   "execution_count": null,
   "metadata": {},
   "outputs": [],
   "source": [
    "plt_list = ['word_count','char_count','sentence_count','word_length','word_per_sentence']\n",
    "fig,ax = plt.subplots(1,2,figsize=(18,6))\n",
    "for i in range(5):#df.target.unique():\n",
    "    sns.histplot(df[df.target==i+1][plt_list[1]],kde=False,bins=10,ax=ax[0],alpha=0.3,color=colors[i],label=target_classes[i]);\n",
    "    sns.histplot(df[df.target==i+1][plt_list[1]],kde=True,bins=10,ax=ax[1],alpha=0.3,color=colors[i],label=target_classes[i]);\n",
    "ax[0].legend();\n",
    "ax[1].legend();\n",
    "plt.show();"
   ]
  },
  {
   "cell_type": "code",
   "execution_count": null,
   "metadata": {},
   "outputs": [],
   "source": [
    "df.groupby('target').word_count.median()"
   ]
  },
  {
   "cell_type": "code",
   "execution_count": null,
   "metadata": {},
   "outputs": [],
   "source": [
    "ax = sns.boxplot(x=\"target\", y=\"word_count\", data=df)\n",
    "ax.set_yscale('log')"
   ]
  },
  {
   "cell_type": "code",
   "execution_count": null,
   "metadata": {},
   "outputs": [],
   "source": [
    "ax = sns.boxplot(x=\"target\", y=\"char_count\", data=df)\n",
    "ax.set_yscale('log')"
   ]
  },
  {
   "cell_type": "code",
   "execution_count": null,
   "metadata": {},
   "outputs": [],
   "source": [
    "ax = sns.boxplot(x=\"target\", y=\"sentence_count\", data=df)\n",
    "ax.set_yscale('log')"
   ]
  },
  {
   "cell_type": "code",
   "execution_count": null,
   "metadata": {},
   "outputs": [],
   "source": [
    "ax = sns.boxplot(x=\"target\", y=\"word_per_sentence\", data=df)\n",
    "ax.set_yscale('log')"
   ]
  },
  {
   "cell_type": "code",
   "execution_count": null,
   "metadata": {},
   "outputs": [],
   "source": []
  },
  {
   "cell_type": "markdown",
   "metadata": {},
   "source": [
    "### Tf-idf Method for text classification"
   ]
  },
  {
   "cell_type": "code",
   "execution_count": null,
   "metadata": {},
   "outputs": [],
   "source": [
    "X = df.Text_new\n",
    "y = df.target"
   ]
  },
  {
   "cell_type": "code",
   "execution_count": null,
   "metadata": {},
   "outputs": [],
   "source": [
    "X_train,X_test,y_train,y_test = train_test_split(X,y,stratify=y,test_size=0.1,random_state=20)"
   ]
  },
  {
   "cell_type": "code",
   "execution_count": null,
   "metadata": {},
   "outputs": [],
   "source": [
    "vect = TfidfVectorizer(max_features=10000,ngram_range=(1,2))"
   ]
  },
  {
   "cell_type": "code",
   "execution_count": null,
   "metadata": {},
   "outputs": [],
   "source": [
    "XX_train = vect.fit_transform(X_train)"
   ]
  },
  {
   "cell_type": "code",
   "execution_count": null,
   "metadata": {},
   "outputs": [],
   "source": [
    "XX_test = vect.transform(X_test)"
   ]
  },
  {
   "cell_type": "code",
   "execution_count": null,
   "metadata": {},
   "outputs": [],
   "source": []
  },
  {
   "cell_type": "code",
   "execution_count": null,
   "metadata": {},
   "outputs": [],
   "source": [
    "vocab = vect.vocabulary_"
   ]
  },
  {
   "cell_type": "code",
   "execution_count": null,
   "metadata": {},
   "outputs": [],
   "source": []
  },
  {
   "cell_type": "code",
   "execution_count": null,
   "metadata": {},
   "outputs": [],
   "source": [
    "# sns.heatmap(XX_train.todense()[:,np.random.randint(0,XX_train.shape[1],100)]==0 , vmin=0 , vmax=1,cbar=False).set_title('Sample of Sparse Matrix');"
   ]
  },
  {
   "cell_type": "code",
   "execution_count": null,
   "metadata": {},
   "outputs": [],
   "source": [
    "X_names = vect.get_feature_names()\n",
    "df_features = pd.DataFrame()\n",
    "for category in np.unique(y_train):\n",
    "    chi2,p = feature_selection.chi2(XX_train,y_train==category)\n",
    "    df_features = df_features.append(pd.DataFrame({'feature':X_names,'Score':1-p,\"y\":category}))\n",
    "    df_features = df_features.sort_values([\"y\",\"Score\"],ascending=[True,False])\n",
    "    df_features = df_features[df_features.Score>0.95]\n",
    "\n",
    "X_names_unique = df_features.feature.unique().tolist()\n",
    "len(X_names_unique)"
   ]
  },
  {
   "cell_type": "code",
   "execution_count": null,
   "metadata": {},
   "outputs": [],
   "source": [
    "df_features.head(5)"
   ]
  },
  {
   "cell_type": "code",
   "execution_count": null,
   "metadata": {},
   "outputs": [],
   "source": [
    "for category in np.unique(y_train):\n",
    "    print(f'category {category}:',target_classes[category-1])\n",
    "    print(f'length of category {category}:',len(df_features[df_features.y==category]))\n",
    "    print(\",\".join(df_features[df_features.y==category].feature[:30]))\n",
    "    print(\"\")"
   ]
  },
  {
   "cell_type": "code",
   "execution_count": null,
   "metadata": {},
   "outputs": [],
   "source": [
    "vect = TfidfVectorizer(vocabulary=X_names_unique)"
   ]
  },
  {
   "cell_type": "code",
   "execution_count": null,
   "metadata": {},
   "outputs": [],
   "source": [
    "XX_train = vect.fit_transform(X_train)\n",
    "XX_train.shape"
   ]
  },
  {
   "cell_type": "code",
   "execution_count": null,
   "metadata": {},
   "outputs": [],
   "source": [
    "XX_test = vect.transform(X_test)"
   ]
  },
  {
   "cell_type": "code",
   "execution_count": null,
   "metadata": {
    "scrolled": true
   },
   "outputs": [],
   "source": [
    "# sns.heatmap(XX_train.todense()[:,np.random.randint(0,XX_train.shape[1],100)]==0 , vmin=0 , vmax=1,cbar=False).set_title('Sample of Sparse Matrix');"
   ]
  },
  {
   "cell_type": "code",
   "execution_count": null,
   "metadata": {},
   "outputs": [],
   "source": []
  },
  {
   "cell_type": "code",
   "execution_count": null,
   "metadata": {},
   "outputs": [],
   "source": []
  },
  {
   "cell_type": "code",
   "execution_count": null,
   "metadata": {},
   "outputs": [],
   "source": []
  },
  {
   "cell_type": "code",
   "execution_count": null,
   "metadata": {},
   "outputs": [],
   "source": [
    "# Creating a cloud of words"
   ]
  },
  {
   "cell_type": "code",
   "execution_count": null,
   "metadata": {},
   "outputs": [],
   "source": [
    "def plot_cloud(wordcloud):\n",
    "    plt.figure(figsize=(10,10))\n",
    "    plt.imshow(wordcloud)\n",
    "    plt.axis('off')"
   ]
  },
  {
   "cell_type": "code",
   "execution_count": null,
   "metadata": {},
   "outputs": [],
   "source": [
    "Text = \" \".join(df_features[df_features.y==10].feature[:30])\n",
    "Text"
   ]
  },
  {
   "cell_type": "code",
   "execution_count": null,
   "metadata": {},
   "outputs": [],
   "source": [
    "wordcloud = WordCloud(width=1000,height=880,random_state=1,background_color='black',colormap='Set2',\n",
    "                      collocations=False,stopwords=lst_stopwords).generate(Text)"
   ]
  },
  {
   "cell_type": "code",
   "execution_count": null,
   "metadata": {},
   "outputs": [],
   "source": [
    "# plot_cloud(wordcloud)"
   ]
  },
  {
   "cell_type": "code",
   "execution_count": null,
   "metadata": {},
   "outputs": [],
   "source": []
  },
  {
   "cell_type": "markdown",
   "metadata": {},
   "source": [
    "## Finding the most frequent word in the corpus"
   ]
  },
  {
   "cell_type": "code",
   "execution_count": null,
   "metadata": {},
   "outputs": [],
   "source": [
    "cvec = CountVectorizer(vocabulary=X_names_unique,ngram_range=(1, 2),stop_words='english')"
   ]
  },
  {
   "cell_type": "code",
   "execution_count": null,
   "metadata": {},
   "outputs": [],
   "source": [
    "X_train_cvec = cvec.fit_transform(X_train)\n",
    "sum_words = np.sum(X_train_cvec.todense(),axis=0)\n",
    "popular_word = pd.DataFrame(data=sum_words.T,index=X_names_unique,columns=['word'])"
   ]
  },
  {
   "cell_type": "code",
   "execution_count": null,
   "metadata": {},
   "outputs": [],
   "source": [
    "popular_word = popular_word.sort_values(by='word',ascending=False)\n",
    "selected_popular_word = popular_word[:10]"
   ]
  },
  {
   "cell_type": "code",
   "execution_count": null,
   "metadata": {},
   "outputs": [],
   "source": [
    "fig,ax=plt.subplots(figsize=(7,7));\n",
    "selected_popular_word.plot.barh(color='b',alpha=0.4,ax=ax);\n",
    "ax = plt.gca().invert_yaxis();\n",
    "plt.title('Most Common Words in Yahoo Answer!');\n",
    "plt.xlabel('Counts');\n",
    "plt.ylabel('Words');\n",
    "plt.xticks(rotation=45);"
   ]
  },
  {
   "cell_type": "code",
   "execution_count": null,
   "metadata": {},
   "outputs": [],
   "source": []
  },
  {
   "cell_type": "code",
   "execution_count": null,
   "metadata": {},
   "outputs": [],
   "source": []
  },
  {
   "cell_type": "code",
   "execution_count": null,
   "metadata": {},
   "outputs": [],
   "source": []
  },
  {
   "cell_type": "markdown",
   "metadata": {},
   "source": [
    "### Naive Bayes Classifier\n",
    "In this section, we used Naive bayes classifer to fit our model to training data"
   ]
  },
  {
   "cell_type": "code",
   "execution_count": null,
   "metadata": {},
   "outputs": [],
   "source": [
    "nb = naive_bayes.MultinomialNB()"
   ]
  },
  {
   "cell_type": "code",
   "execution_count": null,
   "metadata": {},
   "outputs": [],
   "source": [
    "# # pipeline\n",
    "# model = pipeline.Pipeline([(\"vectorizer\",vect),\n",
    "#                            (\"classifier\",nb)])"
   ]
  },
  {
   "cell_type": "code",
   "execution_count": null,
   "metadata": {},
   "outputs": [],
   "source": [
    "cross_val_score(nb,XX_train,y_train,cv=5,n_jobs=-1).mean()"
   ]
  },
  {
   "cell_type": "code",
   "execution_count": null,
   "metadata": {},
   "outputs": [],
   "source": [
    "# Train Classifier\n",
    "#model['classifier'].fit(XX_train,y_train)\n",
    "nb.fit(XX_train,y_train)"
   ]
  },
  {
   "cell_type": "code",
   "execution_count": null,
   "metadata": {},
   "outputs": [],
   "source": [
    "## Test Classifier\n",
    "Predicted_nb = nb.predict(XX_test)\n",
    "Predicted_prob_nb = nb.predict_proba(XX_test)"
   ]
  },
  {
   "cell_type": "code",
   "execution_count": null,
   "metadata": {},
   "outputs": [],
   "source": [
    "fig, ax = plt.subplots(figsize=(10, 10));\n",
    "plot_confusion_matrix(nb,XX_test,y_test,ax=ax);"
   ]
  },
  {
   "cell_type": "code",
   "execution_count": null,
   "metadata": {},
   "outputs": [],
   "source": []
  },
  {
   "cell_type": "code",
   "execution_count": null,
   "metadata": {},
   "outputs": [],
   "source": []
  },
  {
   "cell_type": "code",
   "execution_count": null,
   "metadata": {},
   "outputs": [],
   "source": []
  },
  {
   "cell_type": "markdown",
   "metadata": {},
   "source": [
    "## Logistic Regression Classifier\n",
    "In this section, we used logistic classifer to fit our model to training data"
   ]
  },
  {
   "cell_type": "code",
   "execution_count": null,
   "metadata": {},
   "outputs": [],
   "source": [
    "model_lr = LogisticRegression(max_iter=5000,n_jobs=-1)"
   ]
  },
  {
   "cell_type": "code",
   "execution_count": null,
   "metadata": {},
   "outputs": [],
   "source": [
    "# # pipeline\n",
    "# model_lr = pipeline.Pipeline([(\"vectorizer\",vect),\n",
    "#                            (\"classifier\",lr)])"
   ]
  },
  {
   "cell_type": "code",
   "execution_count": null,
   "metadata": {},
   "outputs": [],
   "source": [
    "cross_val_score(model_lr,XX_train,y_train,cv=5,n_jobs=-1).mean()"
   ]
  },
  {
   "cell_type": "code",
   "execution_count": null,
   "metadata": {},
   "outputs": [],
   "source": [
    "# Train Classifier\n",
    "#model['classifier'].fit(XX_train,y_train)\n",
    "model_lr.fit(XX_train,y_train)"
   ]
  },
  {
   "cell_type": "code",
   "execution_count": null,
   "metadata": {},
   "outputs": [],
   "source": [
    "## Test Classifier\n",
    "Predicted_lr = model_lr.predict(XX_test)\n",
    "Predicted_prob_lr = model_lr.predict_proba(XX_test)"
   ]
  },
  {
   "cell_type": "code",
   "execution_count": null,
   "metadata": {},
   "outputs": [],
   "source": [
    "fig, ax = plt.subplots(figsize=(10, 10));\n",
    "plot_confusion_matrix(model_lr,XX_test,y_test,ax=ax);"
   ]
  },
  {
   "cell_type": "code",
   "execution_count": null,
   "metadata": {},
   "outputs": [],
   "source": [
    "classes = np.unique(y_test)\n",
    "y_test_dummy = pd.get_dummies(y_test).values\n",
    "\n",
    "accuracy = accuracy_score(y_test,Predicted_lr)\n",
    "auc = roc_auc_score(y_test,Predicted_prob_lr,multi_class='ovr')"
   ]
  },
  {
   "cell_type": "code",
   "execution_count": null,
   "metadata": {},
   "outputs": [],
   "source": [
    "fig,axs = plt.subplots(1,2,figsize=(18,7.5))\n",
    "for i in range(10):\n",
    "    # ROC Curve\n",
    "    fpr,tpr,thresholds = roc_curve(y_test_dummy[:,i],Predicted_prob_lr[:,i])\n",
    "    axs[0].plot(fpr,tpr,lw=3,label=target_classes[i],color=colors[i])\n",
    "    axs[0].plot([0,1],[0,1],color='k',ls='--')\n",
    "    axs[0].set_xlabel('False Positive Rate')\n",
    "    axs[0].set_ylabel('True Positive Rate')\n",
    "    axs[0].legend()\n",
    "    axs[0].set_title('ROC Curve')\n",
    "    # Precision-Recall Curve\n",
    "    precision,recall,thresholds = precision_recall_curve(y_test_dummy[:,i],Predicted_prob_lr[:,i])\n",
    "    axs[1].plot(recall,precision,label=target_classes[i],color=colors[i])\n",
    "    axs[1].set_xlabel('Recall')\n",
    "    axs[1].set_ylabel('Precision')\n",
    "    axs[1].set_title('Precision-Recall Curve')\n",
    "    axs[1].legend()"
   ]
  },
  {
   "cell_type": "code",
   "execution_count": null,
   "metadata": {},
   "outputs": [],
   "source": []
  },
  {
   "cell_type": "code",
   "execution_count": null,
   "metadata": {},
   "outputs": [],
   "source": [
    "feature_names = vect.get_feature_names()\n",
    "coef_matrix = model_lr.coef_\n",
    "dict_list=[]\n",
    "for coef_row in coef_matrix:\n",
    "    d={}\n",
    "    for coef,fname in zip(coef_row,feature_names):\n",
    "        d[fname] = coef\n",
    "    sorted_values = list(reversed(sorted(d.values())))\n",
    "    sorted_dict = {}\n",
    "    for i in sorted_values:\n",
    "        for k in d.keys():\n",
    "            if d[k]==i:\n",
    "                sorted_dict[k]=d[k]\n",
    "                break\n",
    "    dict_list.append(sorted_dict)"
   ]
  },
  {
   "cell_type": "code",
   "execution_count": null,
   "metadata": {},
   "outputs": [],
   "source": []
  },
  {
   "cell_type": "code",
   "execution_count": null,
   "metadata": {},
   "outputs": [],
   "source": [
    "def logistic_importance(ax,data,n_features,title):\n",
    "    '''\n",
    "    input: data : dictionary for the purpose of visualization\n",
    "           ax : ax-object\n",
    "    '''\n",
    "    temp_data ={keys:values for (keys,values) in [x for x in data.items()][:n_features]}\n",
    "    ax.barh(list(temp_data.keys()),list(temp_data.values()),color='b',alpha=0.4)\n",
    "    ax.set_xlabel('Beta Coefficient')\n",
    "    ax.set_ylabel('Feature Importance')\n",
    "    ax.set_title(title)\n",
    "    ax.invert_yaxis()"
   ]
  },
  {
   "cell_type": "code",
   "execution_count": null,
   "metadata": {
    "scrolled": false
   },
   "outputs": [],
   "source": [
    "fig,axs = plt.subplots(5,2,figsize=(10,25))\n",
    "n_features = 10\n",
    "for i,ax in enumerate(axs.ravel()):\n",
    "    logistic_importance(ax,dict_list[i],n_features,target_classes[i])\n",
    "fig.tight_layout()"
   ]
  },
  {
   "cell_type": "code",
   "execution_count": null,
   "metadata": {},
   "outputs": [],
   "source": [
    "data = dict_list[5]\n",
    "temp_data ={keys for (keys,values) in [x for x in data.items()][:20]}\n",
    "Text = \" \".join(temp_data)\n",
    "wordcloud = WordCloud(width=1000,height=880,random_state=1,background_color='black',colormap='Set2',\n",
    "                      collocations=False,stopwords=lst_stopwords).generate(Text)"
   ]
  },
  {
   "cell_type": "code",
   "execution_count": null,
   "metadata": {},
   "outputs": [],
   "source": [
    "# plot_cloud(wordcloud)"
   ]
  },
  {
   "cell_type": "code",
   "execution_count": null,
   "metadata": {},
   "outputs": [],
   "source": []
  },
  {
   "cell_type": "code",
   "execution_count": null,
   "metadata": {},
   "outputs": [],
   "source": []
  },
  {
   "cell_type": "code",
   "execution_count": null,
   "metadata": {},
   "outputs": [],
   "source": [
    "print(classification_report(y_test,Predicted_lr,target_names=target_classes))"
   ]
  },
  {
   "cell_type": "code",
   "execution_count": null,
   "metadata": {},
   "outputs": [],
   "source": []
  },
  {
   "cell_type": "markdown",
   "metadata": {},
   "source": [
    "## Random Forest Classifier\n",
    "In this section, we will use random forest classiier to fit our model to the training dataset"
   ]
  },
  {
   "cell_type": "code",
   "execution_count": null,
   "metadata": {},
   "outputs": [],
   "source": [
    "model_rf = RandomForestClassifier(n_estimators=1000,max_features=20,max_depth=10,n_jobs=-1)"
   ]
  },
  {
   "cell_type": "code",
   "execution_count": null,
   "metadata": {},
   "outputs": [],
   "source": [
    "# model_rf = pipeline.Pipeline([(\"vectorizer\",vect),\n",
    "#                               (\"classifier\",rf)])"
   ]
  },
  {
   "cell_type": "code",
   "execution_count": null,
   "metadata": {},
   "outputs": [],
   "source": [
    "cross_val_score(model_rf,XX_train,y_train,cv=5,n_jobs=-1).mean()"
   ]
  },
  {
   "cell_type": "code",
   "execution_count": null,
   "metadata": {},
   "outputs": [],
   "source": [
    "training_scores=[]\n",
    "test_scores=[]\n",
    "# for tree in tree_list:\n",
    "model_rf = RandomForestClassifier(n_estimators=1000,max_features=50,max_depth=300,n_jobs=-1)\n",
    "model_rf.fit(XX_train,y_train)\n",
    "training_scores.append(accuracy_score(y_train,model_rf.predict(XX_train)))\n",
    "test_scores.append(accuracy_score(y_test,model_rf.predict(XX_test)))   "
   ]
  },
  {
   "cell_type": "code",
   "execution_count": null,
   "metadata": {},
   "outputs": [],
   "source": [
    "training_scores"
   ]
  },
  {
   "cell_type": "code",
   "execution_count": null,
   "metadata": {},
   "outputs": [],
   "source": [
    "test_scores"
   ]
  },
  {
   "cell_type": "code",
   "execution_count": null,
   "metadata": {},
   "outputs": [],
   "source": []
  },
  {
   "cell_type": "code",
   "execution_count": null,
   "metadata": {},
   "outputs": [],
   "source": []
  },
  {
   "cell_type": "code",
   "execution_count": null,
   "metadata": {},
   "outputs": [],
   "source": [
    "## Test Classifier\n",
    "Predicted_rf = model_rf.predict(XX_test)\n",
    "Predicted_prob_rf = model_rf.predict_proba(XX_test)"
   ]
  },
  {
   "cell_type": "code",
   "execution_count": null,
   "metadata": {},
   "outputs": [],
   "source": [
    "fig, ax = plt.subplots(figsize=(10, 10));\n",
    "plot_confusion_matrix(model_rf,XX_test,y_test,ax=ax);"
   ]
  },
  {
   "cell_type": "code",
   "execution_count": null,
   "metadata": {},
   "outputs": [],
   "source": [
    "feature_names = list(X_names_unique)\n",
    "feature_scores = pd.DataFrame({'Mean Decrease Impurity' : model_rf.feature_importances_}, index=feature_names)\n",
    "feature_scores = feature_scores.sort_values(by='Mean Decrease Impurity', ascending=False)[:20]\n",
    "feature_scores.plot(kind='barh', color = 'b', alpha=0.3, figsize=(8,8))\n",
    "ax = plt.gca().invert_yaxis()\n",
    "leg = plt.legend( loc = 'lower right')"
   ]
  },
  {
   "cell_type": "code",
   "execution_count": null,
   "metadata": {},
   "outputs": [],
   "source": [
    "fig,axs = plt.subplots(1,2,figsize=(18,7.5))\n",
    "for i in range(10):\n",
    "    # ROC Curve\n",
    "    fpr,tpr,thresholds = roc_curve(y_test_dummy[:,i],Predicted_prob_rf[:,i])\n",
    "    axs[0].plot(fpr,tpr,lw=3,label=target_classes[i],color=colors[i])\n",
    "    axs[0].plot([0,1],[0,1],color='k',ls='--')\n",
    "    axs[0].set_xlabel('False Positive Rate')\n",
    "    axs[0].set_ylabel('True Positive Rate')\n",
    "    axs[0].legend()\n",
    "    axs[0].set_title('ROC Curve')\n",
    "    # Precision-Recall Curve\n",
    "    precision,recall,thresholds = precision_recall_curve(y_test_dummy[:,i],Predicted_prob_rf[:,i])\n",
    "    axs[1].plot(recall,precision,label=target_classes[i],color=colors[i])\n",
    "    axs[1].set_xlabel('Recall')\n",
    "    axs[1].set_ylabel('Precision')\n",
    "    axs[1].set_title('Precision-Recall Curve')\n",
    "    axs[1].legend()"
   ]
  },
  {
   "cell_type": "code",
   "execution_count": null,
   "metadata": {},
   "outputs": [],
   "source": []
  },
  {
   "cell_type": "code",
   "execution_count": null,
   "metadata": {},
   "outputs": [],
   "source": []
  },
  {
   "cell_type": "markdown",
   "metadata": {},
   "source": [
    "\n",
    "Creating permutation would take a long time. You can create one by uncommenting the following lines"
   ]
  },
  {
   "cell_type": "code",
   "execution_count": null,
   "metadata": {},
   "outputs": [],
   "source": [
    "# results = permutation_importance(model_rf, XX_test.todense(), y_test, n_repeats=5, random_state=0)\n",
    "# feature_scores = pd.DataFrame({'feature_importance_mean' : results.importances_mean}, index=feature_names)\n",
    "# feature_scores = feature_scores.sort_values(by='feature_importance_mean', ascending=False)\n",
    "# feature_scores.plot(kind='barh', color = 'b', alpha=0.3, figsize=(8,8))\n",
    "# plt.gca().invert_yaxis()"
   ]
  },
  {
   "cell_type": "markdown",
   "metadata": {},
   "source": [
    "## Gradient Boost\n",
    "* Gradient boost is running so slow, not sugegsted at this time"
   ]
  },
  {
   "cell_type": "code",
   "execution_count": null,
   "metadata": {},
   "outputs": [],
   "source": [
    "gb = GradientBoostingClassifier(max_depth=50)"
   ]
  },
  {
   "cell_type": "code",
   "execution_count": null,
   "metadata": {},
   "outputs": [],
   "source": [
    "# cross_val_score(gb,XX_train,y_train,cv=5,n_jobs=-1).mean()"
   ]
  },
  {
   "cell_type": "code",
   "execution_count": null,
   "metadata": {},
   "outputs": [],
   "source": [
    "# training_scores=[]\n",
    "# test_scores=[]\n",
    "# tree_list=[1000,1500]\n",
    "# for tree in tree_list:\n",
    "#     model_gb = GradientBoostingClassifier(n_estimators=tree,learning_rate=0.01)\n",
    "#     model_gb.fit(XX_train,y_train)\n",
    "#     training_scores.append(accuracy_score(y_train,model_gb.predict(XX_train)))\n",
    "#     test_scores.append(accuracy_score(y_test,model_gb.predict(XX_test)))   "
   ]
  },
  {
   "cell_type": "code",
   "execution_count": null,
   "metadata": {},
   "outputs": [],
   "source": [
    "parameters = {'n_estimators':[500,1000,1500,2000],\n",
    "              'learning_rate':[0.1]}"
   ]
  },
  {
   "cell_type": "code",
   "execution_count": null,
   "metadata": {},
   "outputs": [],
   "source": [
    "gb_tune = GridSearchCV(gb,param_grid=parameters,cv=2,scoring='accuracy',n_jobs=-1,verbose=2)"
   ]
  },
  {
   "cell_type": "code",
   "execution_count": null,
   "metadata": {},
   "outputs": [],
   "source": [
    "# gb_tune.fit(XX_train,y_train)"
   ]
  },
  {
   "cell_type": "code",
   "execution_count": null,
   "metadata": {},
   "outputs": [],
   "source": []
  },
  {
   "cell_type": "code",
   "execution_count": null,
   "metadata": {},
   "outputs": [],
   "source": []
  },
  {
   "cell_type": "markdown",
   "metadata": {},
   "source": [
    "## XGBOOST"
   ]
  },
  {
   "cell_type": "code",
   "execution_count": null,
   "metadata": {},
   "outputs": [],
   "source": [
    "D_train = xgb.DMatrix(XX_train,label=y_train)\n",
    "D_test  = xgb.DMatrix(XX_test,label=y_test)"
   ]
  },
  {
   "cell_type": "code",
   "execution_count": null,
   "metadata": {},
   "outputs": [],
   "source": [
    "model_gb = xgb.XGBClassifier(n_estimators=1000, max_depth=50,learning_rate=0.01,objective='multi:softmax',gamma=0.2,n_jobs=-1)"
   ]
  },
  {
   "cell_type": "code",
   "execution_count": null,
   "metadata": {},
   "outputs": [],
   "source": [
    "y_train_gb = y_train-1"
   ]
  },
  {
   "cell_type": "code",
   "execution_count": null,
   "metadata": {},
   "outputs": [],
   "source": [
    "y_test_gb = y_test -1"
   ]
  },
  {
   "cell_type": "code",
   "execution_count": null,
   "metadata": {},
   "outputs": [],
   "source": [
    "model_gb.fit(XX_train,y_train_gb)"
   ]
  },
  {
   "cell_type": "code",
   "execution_count": null,
   "metadata": {},
   "outputs": [],
   "source": [
    "tt1 = model_gb.predict(XX_train)"
   ]
  },
  {
   "cell_type": "code",
   "execution_count": null,
   "metadata": {},
   "outputs": [],
   "source": [
    "tt2 = model_gb.predict(XX_test)"
   ]
  },
  {
   "cell_type": "code",
   "execution_count": null,
   "metadata": {},
   "outputs": [],
   "source": [
    "plot_confusion_matrix(model_gb,XX_test,y_test_gb);"
   ]
  },
  {
   "cell_type": "code",
   "execution_count": null,
   "metadata": {},
   "outputs": [],
   "source": [
    "# cross_val_score(model_gb,XX_train,y_train,cv=5,n_jobs=-1).mean()"
   ]
  },
  {
   "cell_type": "code",
   "execution_count": null,
   "metadata": {},
   "outputs": [],
   "source": [
    "accuracy_score(y_test_gb,model_gb.predict(XX_test))"
   ]
  },
  {
   "cell_type": "code",
   "execution_count": null,
   "metadata": {},
   "outputs": [],
   "source": []
  },
  {
   "cell_type": "markdown",
   "metadata": {},
   "source": [
    "### Word2Vec Model"
   ]
  },
  {
   "cell_type": "code",
   "execution_count": null,
   "metadata": {},
   "outputs": [],
   "source": [
    "from gensim.models.doc2vec import Doc2Vec,TaggedDocument"
   ]
  },
  {
   "cell_type": "code",
   "execution_count": null,
   "metadata": {},
   "outputs": [],
   "source": []
  },
  {
   "cell_type": "code",
   "execution_count": null,
   "metadata": {},
   "outputs": [],
   "source": []
  },
  {
   "cell_type": "code",
   "execution_count": null,
   "metadata": {},
   "outputs": [],
   "source": []
  },
  {
   "cell_type": "code",
   "execution_count": null,
   "metadata": {},
   "outputs": [],
   "source": []
  },
  {
   "cell_type": "code",
   "execution_count": null,
   "metadata": {},
   "outputs": [],
   "source": []
  },
  {
   "cell_type": "code",
   "execution_count": null,
   "metadata": {},
   "outputs": [],
   "source": []
  },
  {
   "cell_type": "markdown",
   "metadata": {},
   "source": [
    "### Binary Classification"
   ]
  },
  {
   "cell_type": "markdown",
   "metadata": {},
   "source": [
    "* Tried to see how does binary classification works for one of the classes\n",
    "* Can be useful if you need to convert the question into binary classification"
   ]
  },
  {
   "cell_type": "code",
   "execution_count": null,
   "metadata": {},
   "outputs": [],
   "source": [
    "# y_train_binary = y_train.replace([1,2,3,4,6,7,8,9,10],0)\n",
    "# y_train_binary = y_train_binary.replace(5,1)"
   ]
  },
  {
   "cell_type": "code",
   "execution_count": null,
   "metadata": {},
   "outputs": [],
   "source": [
    "# y_test_binary = y_test.replace([1,2,3,4,6,7,8,9,10],0)\n",
    "# y_test_binary = y_test_binary.replace(5,1)\n",
    "# y_test_binary.value_counts()"
   ]
  },
  {
   "cell_type": "code",
   "execution_count": null,
   "metadata": {},
   "outputs": [],
   "source": [
    "# model_lr = LogisticRegression(max_iter=5000,class_weight='balanced')"
   ]
  },
  {
   "cell_type": "code",
   "execution_count": null,
   "metadata": {},
   "outputs": [],
   "source": [
    "# cross_val_score(model_lr,XX_train,y_train_binary,cv=5,n_jobs=-1).mean()\n",
    "# model_lr.fit(XX_train,y_train_binary)"
   ]
  },
  {
   "cell_type": "code",
   "execution_count": null,
   "metadata": {},
   "outputs": [],
   "source": [
    "# ## Test Classifier\n",
    "# Predicted = model_lr.predict(XX_test)\n",
    "# Predicted_prob = model_lr.predict_proba(XX_test)"
   ]
  },
  {
   "cell_type": "code",
   "execution_count": null,
   "metadata": {},
   "outputs": [],
   "source": [
    "# fig, ax = plt.subplots(figsize=(10, 10));\n",
    "# plot_confusion_matrix(model_lr,XX_test,y_test_binary,ax=ax);"
   ]
  },
  {
   "cell_type": "code",
   "execution_count": null,
   "metadata": {},
   "outputs": [],
   "source": []
  },
  {
   "cell_type": "markdown",
   "metadata": {},
   "source": [
    "### GridSearch CV\n",
    "* Following lines used for gridsearchcv on the pipeline\n",
    "* Fault problem in AWS is an issue\n",
    "* use values less than -1 (e.g, -5) for this purpose"
   ]
  },
  {
   "cell_type": "code",
   "execution_count": null,
   "metadata": {},
   "outputs": [],
   "source": [
    "# opt_model = pipeline.Pipeline([\n",
    "#            ('vectopt', TfidfVectorizer()),\n",
    "#            ('classifier', model_lr)])"
   ]
  },
  {
   "cell_type": "code",
   "execution_count": null,
   "metadata": {},
   "outputs": [],
   "source": [
    "# parameters = {\n",
    "#     'vectopt__max_df': (0.98, 1.0),\n",
    "#     'vectopt__min_df': (0.01, 0.02 ),\n",
    "#     'vectopt__max_features': (2000, 5000, 10000),\n",
    "#     'vectopt__ngram_range': ((1, 1), (1, 2), (1,3))  \n",
    "#                 }"
   ]
  },
  {
   "cell_type": "code",
   "execution_count": null,
   "metadata": {},
   "outputs": [],
   "source": [
    "# # lr_gs = GridSearchCV(opt_model,param_grid=parameters,cv=2,verbose=1,scoring='accuracy',n_jobs=-1)\n",
    "# lr_gs = GridSearchCV(opt_model,param_grid=parameters,cv=5,verbose=1,n_jobs=50)"
   ]
  },
  {
   "cell_type": "code",
   "execution_count": null,
   "metadata": {},
   "outputs": [],
   "source": [
    "# lr_gs.fit(X_train,y_train)"
   ]
  },
  {
   "cell_type": "code",
   "execution_count": null,
   "metadata": {
    "scrolled": true
   },
   "outputs": [],
   "source": [
    "# e = pd.DataFrame(lr_gs.cv_results_)"
   ]
  },
  {
   "cell_type": "code",
   "execution_count": null,
   "metadata": {
    "scrolled": true
   },
   "outputs": [],
   "source": [
    "# e.sort_values(by='mean_test_score',axis=0,ascending=False)"
   ]
  },
  {
   "cell_type": "code",
   "execution_count": null,
   "metadata": {},
   "outputs": [],
   "source": []
  },
  {
   "cell_type": "markdown",
   "metadata": {},
   "source": [
    "### USE THE BELOW LINES FOR DEBUGGING"
   ]
  },
  {
   "cell_type": "code",
   "execution_count": null,
   "metadata": {},
   "outputs": [],
   "source": [
    "lr_test = LogisticRegression(max_iter=5000)\n",
    "# pipeline\n",
    "model_test = pipeline.Pipeline([(\"vectorizer\",vect),\n",
    "                                (\"classifier\",lr_test)])\n",
    "model_test.fit(X_train,y_train)\n",
    "## Test Classifier\n",
    "Predicted_test = model_test.predict(X_test)\n",
    "Predicted_prob_test = model_test.predict_proba(X_test)"
   ]
  },
  {
   "cell_type": "code",
   "execution_count": null,
   "metadata": {},
   "outputs": [],
   "source": [
    "# Testing the error\n",
    "X_test[y_test!=Predicted].iloc[1]\n",
    "y_test[y_test!=Predicted]\n",
    "e = Predicted[y_test!=Predicted]\n",
    "index_incorrect = X_test[(y_test!=Predicted) & (y_test==7)].index\n",
    "index_incorrect"
   ]
  },
  {
   "cell_type": "code",
   "execution_count": null,
   "metadata": {},
   "outputs": [],
   "source": [
    "X_test[(y_test!=Predicted) & (y_test==7)].index"
   ]
  },
  {
   "cell_type": "code",
   "execution_count": null,
   "metadata": {},
   "outputs": [],
   "source": [
    "index_number = 43695"
   ]
  },
  {
   "cell_type": "code",
   "execution_count": null,
   "metadata": {},
   "outputs": [],
   "source": [
    "X_test.loc[index_number]"
   ]
  },
  {
   "cell_type": "code",
   "execution_count": null,
   "metadata": {},
   "outputs": [],
   "source": [
    "df.loc[index_number]"
   ]
  },
  {
   "cell_type": "code",
   "execution_count": null,
   "metadata": {},
   "outputs": [],
   "source": [
    "df.loc[index_number]['Q&A']"
   ]
  },
  {
   "cell_type": "code",
   "execution_count": null,
   "metadata": {},
   "outputs": [],
   "source": [
    "vocab"
   ]
  },
  {
   "cell_type": "code",
   "execution_count": null,
   "metadata": {},
   "outputs": [],
   "source": []
  },
  {
   "cell_type": "code",
   "execution_count": null,
   "metadata": {},
   "outputs": [],
   "source": []
  },
  {
   "cell_type": "code",
   "execution_count": null,
   "metadata": {},
   "outputs": [],
   "source": [
    "test_set = 55\n",
    "text = X_test.iloc[test_set]\n",
    "text"
   ]
  },
  {
   "cell_type": "code",
   "execution_count": null,
   "metadata": {},
   "outputs": [],
   "source": [
    "# print('Actual class -->',y_test.iloc[test_set],'|     Predicted class is -->',Predicted_test[test_set],\n",
    "#       '|     Probability -->  ',np.max(Predicted_prob_test[test_set]))\n",
    "print('Actual class -->',target_classes[y_test.iloc[test_set]-1])\n",
    "print('Predicted class -->',target_classes[Predicted[test_set]-1])"
   ]
  },
  {
   "cell_type": "code",
   "execution_count": null,
   "metadata": {},
   "outputs": [],
   "source": [
    "# explainer = lime_text.LimeTextExplainer(class_names=np.unique(y_train))\n",
    "explainer = lime_text.LimeTextExplainer(class_names=target_classes)"
   ]
  },
  {
   "cell_type": "code",
   "execution_count": null,
   "metadata": {},
   "outputs": [],
   "source": [
    "explained = explainer.explain_instance(text,model_test.predict_proba,num_features=5,top_labels=1)"
   ]
  },
  {
   "cell_type": "code",
   "execution_count": null,
   "metadata": {},
   "outputs": [],
   "source": [
    "explained.show_in_notebook(text=text,predict_proba=True)"
   ]
  },
  {
   "cell_type": "code",
   "execution_count": null,
   "metadata": {},
   "outputs": [],
   "source": []
  },
  {
   "cell_type": "code",
   "execution_count": null,
   "metadata": {},
   "outputs": [],
   "source": [
    "gg = model_lr.predict(XX_train)"
   ]
  },
  {
   "cell_type": "code",
   "execution_count": null,
   "metadata": {},
   "outputs": [],
   "source": [
    "index_incorrect_train = X_train[(gg!=y_train) & (y_train==7)].index\n",
    "index_incorrect_train"
   ]
  },
  {
   "cell_type": "code",
   "execution_count": null,
   "metadata": {},
   "outputs": [],
   "source": []
  },
  {
   "cell_type": "code",
   "execution_count": null,
   "metadata": {},
   "outputs": [],
   "source": []
  },
  {
   "cell_type": "code",
   "execution_count": null,
   "metadata": {},
   "outputs": [],
   "source": []
  },
  {
   "cell_type": "code",
   "execution_count": null,
   "metadata": {},
   "outputs": [],
   "source": []
  },
  {
   "cell_type": "code",
   "execution_count": null,
   "metadata": {},
   "outputs": [],
   "source": []
  },
  {
   "cell_type": "code",
   "execution_count": null,
   "metadata": {},
   "outputs": [],
   "source": []
  },
  {
   "cell_type": "code",
   "execution_count": null,
   "metadata": {},
   "outputs": [],
   "source": []
  },
  {
   "cell_type": "code",
   "execution_count": null,
   "metadata": {},
   "outputs": [],
   "source": []
  },
  {
   "cell_type": "code",
   "execution_count": null,
   "metadata": {},
   "outputs": [],
   "source": []
  }
 ],
 "metadata": {
  "kernelspec": {
   "display_name": "Python 3",
   "language": "python",
   "name": "python3"
  },
  "language_info": {
   "codemirror_mode": {
    "name": "ipython",
    "version": 3
   },
   "file_extension": ".py",
   "mimetype": "text/x-python",
   "name": "python",
   "nbconvert_exporter": "python",
   "pygments_lexer": "ipython3",
   "version": "3.8.5"
  }
 },
 "nbformat": 4,
 "nbformat_minor": 4
}
