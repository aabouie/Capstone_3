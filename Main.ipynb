{
 "cells": [
  {
   "cell_type": "code",
   "execution_count": 254,
   "metadata": {},
   "outputs": [],
   "source": [
    "import pandas as pd\n",
    "import unicodedata\n",
    "import string\n",
    "import re\n",
    "import seaborn as sns\n",
    "import random\n",
    "\n",
    "import matplotlib.pyplot as plt\n",
    "import matplotlib.cm as cm\n",
    "import nltk\n",
    "from nltk.util import ngrams\n",
    "from nltk.tokenize import sent_tokenize, word_tokenize\n",
    "from nltk.corpus import stopwords\n",
    "from nltk.stem.snowball import SnowballStemmer\n",
    "from nltk.stem import WordNetLemmatizer\n",
    "import wordcloud\n",
    "import langdetect\n",
    "import spacy\n",
    "\n",
    "from sklearn.model_selection import train_test_split,cross_val_score,KFold\n",
    "from sklearn.metrics import precision_recall_curve,precision_score,recall_score,accuracy_score\n",
    "from sklearn.metrics import plot_confusion_matrix,plot_precision_recall_curve,plot_roc_curve\n",
    "from sklearn.linear_model import LogisticRegression\n",
    "from sklearn.ensemble import GradientBoostingClassifier,RandomForestClassifier\n",
    "from sklearn import feature_extraction,naive_bayes,pipeline,manifold,preprocessing\n",
    "from sklearn.feature_extraction.text import TfidfVectorizer,CountVectorizer\n",
    "from sklearn.naive_bayes import MultinomialNB\n",
    "from sklearn import feature_selection\n",
    "\n",
    "from lime import lime_text\n",
    "import gensim\n",
    "import gensim.downloader as gensim_api\n",
    "\n",
    "from tensorflow.keras import models,layers,preprocessing as kprocessing\n",
    "from tensorflow.keras import backend as K\n",
    "\n",
    "import transformers\n",
    "\n",
    "import numpy as np"
   ]
  },
  {
   "cell_type": "code",
   "execution_count": 200,
   "metadata": {},
   "outputs": [],
   "source": [
    "col_names = ['target','question_title','question_content','best_answer']\n",
    "target_classes = ['Society & Culture','Science & Mathematics','Health','Education & Reference',\n",
    "                  'Computers & Internet','Sports','Business & Finance','Entertainment & Music',\n",
    "                  'Family & Relationships','Politics & Government']\n",
    "target_classes_dict = {1:'Society & Culture',\n",
    "                       2:'Science & Mathematics',\n",
    "                       3:'Health',\n",
    "                       4:'Education & Reference',\n",
    "                       5:'Computers & Internet',\n",
    "                       6:'Sports',\n",
    "                       7:'Business & Finance',\n",
    "                       8:'Entertainment & Music',\n",
    "                       9:'Family & Relationships',\n",
    "                       10:'Politics & Government'}"
   ]
  },
  {
   "cell_type": "code",
   "execution_count": 201,
   "metadata": {},
   "outputs": [
    {
     "name": "stdout",
     "output_type": "stream",
     "text": [
      "<class 'pandas.core.frame.DataFrame'>\n",
      "RangeIndex: 1400000 entries, 0 to 1399999\n",
      "Data columns (total 4 columns):\n",
      " #   Column            Non-Null Count    Dtype \n",
      "---  ------            --------------    ----- \n",
      " 0   target            1400000 non-null  int64 \n",
      " 1   question_title    1400000 non-null  object\n",
      " 2   question_content  768325 non-null   object\n",
      " 3   best_answer       1375421 non-null  object\n",
      "dtypes: int64(1), object(3)\n",
      "memory usage: 42.7+ MB\n"
     ]
    }
   ],
   "source": [
    "df = pd.read_csv('data_yahoo/train.csv',header=None,names=col_names)\n",
    "# df_test = pd.read_csv('data_yahoo/test.csv',header=None,names=col_names)\n",
    "df.info()"
   ]
  },
  {
   "cell_type": "code",
   "execution_count": 202,
   "metadata": {},
   "outputs": [
    {
     "data": {
      "text/html": [
       "<div>\n",
       "<style scoped>\n",
       "    .dataframe tbody tr th:only-of-type {\n",
       "        vertical-align: middle;\n",
       "    }\n",
       "\n",
       "    .dataframe tbody tr th {\n",
       "        vertical-align: top;\n",
       "    }\n",
       "\n",
       "    .dataframe thead th {\n",
       "        text-align: right;\n",
       "    }\n",
       "</style>\n",
       "<table border=\"1\" class=\"dataframe\">\n",
       "  <thead>\n",
       "    <tr style=\"text-align: right;\">\n",
       "      <th></th>\n",
       "      <th>target</th>\n",
       "      <th>question_title</th>\n",
       "      <th>question_content</th>\n",
       "      <th>best_answer</th>\n",
       "    </tr>\n",
       "  </thead>\n",
       "  <tbody>\n",
       "    <tr>\n",
       "      <th>0</th>\n",
       "      <td>5</td>\n",
       "      <td>why doesn't an optical mouse work on a glass t...</td>\n",
       "      <td>or even on some surfaces?</td>\n",
       "      <td>Optical mice use an LED and a camera to rapidl...</td>\n",
       "    </tr>\n",
       "    <tr>\n",
       "      <th>1</th>\n",
       "      <td>6</td>\n",
       "      <td>What is the best off-road motorcycle trail ?</td>\n",
       "      <td>long-distance trail throughout CA</td>\n",
       "      <td>i hear that the mojave road is amazing!&lt;br /&gt;\\...</td>\n",
       "    </tr>\n",
       "    <tr>\n",
       "      <th>2</th>\n",
       "      <td>3</td>\n",
       "      <td>What is Trans Fat? How to reduce that?</td>\n",
       "      <td>I heard that tras fat is bad for the body.  Wh...</td>\n",
       "      <td>Trans fats occur in manufactured foods during ...</td>\n",
       "    </tr>\n",
       "    <tr>\n",
       "      <th>3</th>\n",
       "      <td>7</td>\n",
       "      <td>How many planes Fedex has?</td>\n",
       "      <td>I heard that it is the largest airline in the ...</td>\n",
       "      <td>according to the www.fedex.com web site:\\nAir ...</td>\n",
       "    </tr>\n",
       "    <tr>\n",
       "      <th>4</th>\n",
       "      <td>7</td>\n",
       "      <td>In the san francisco bay area, does it make se...</td>\n",
       "      <td>the prices of rent and the price of buying doe...</td>\n",
       "      <td>renting vs buying depends on your goals. &lt;br /...</td>\n",
       "    </tr>\n",
       "  </tbody>\n",
       "</table>\n",
       "</div>"
      ],
      "text/plain": [
       "   target                                     question_title  \\\n",
       "0       5  why doesn't an optical mouse work on a glass t...   \n",
       "1       6       What is the best off-road motorcycle trail ?   \n",
       "2       3             What is Trans Fat? How to reduce that?   \n",
       "3       7                         How many planes Fedex has?   \n",
       "4       7  In the san francisco bay area, does it make se...   \n",
       "\n",
       "                                    question_content  \\\n",
       "0                          or even on some surfaces?   \n",
       "1                  long-distance trail throughout CA   \n",
       "2  I heard that tras fat is bad for the body.  Wh...   \n",
       "3  I heard that it is the largest airline in the ...   \n",
       "4  the prices of rent and the price of buying doe...   \n",
       "\n",
       "                                         best_answer  \n",
       "0  Optical mice use an LED and a camera to rapidl...  \n",
       "1  i hear that the mojave road is amazing!<br />\\...  \n",
       "2  Trans fats occur in manufactured foods during ...  \n",
       "3  according to the www.fedex.com web site:\\nAir ...  \n",
       "4  renting vs buying depends on your goals. <br /...  "
      ]
     },
     "execution_count": 202,
     "metadata": {},
     "output_type": "execute_result"
    }
   ],
   "source": [
    "df.head()"
   ]
  },
  {
   "cell_type": "code",
   "execution_count": 203,
   "metadata": {},
   "outputs": [],
   "source": [
    "def get_samples(df, num_samples):\n",
    "    idx_lst = list(range(len(df)))\n",
    "    idx_samps = random.sample(idx_lst, num_samples)\n",
    "    df_samp = df.iloc[idx_samps]\n",
    "    return df_samp"
   ]
  },
  {
   "cell_type": "markdown",
   "metadata": {},
   "source": [
    "### Sampling the dataset since I'm running that on my computer. NEED to remove that in AWS"
   ]
  },
  {
   "cell_type": "code",
   "execution_count": 204,
   "metadata": {},
   "outputs": [],
   "source": [
    "df = get_samples(df,100000)"
   ]
  },
  {
   "cell_type": "code",
   "execution_count": null,
   "metadata": {},
   "outputs": [],
   "source": []
  },
  {
   "cell_type": "code",
   "execution_count": 205,
   "metadata": {},
   "outputs": [],
   "source": [
    "df.question_content.fillna(value='',axis=0,inplace=True)\n",
    "df.best_answer.fillna(value='',axis=0,inplace=True)"
   ]
  },
  {
   "cell_type": "code",
   "execution_count": null,
   "metadata": {},
   "outputs": [],
   "source": []
  },
  {
   "cell_type": "code",
   "execution_count": 206,
   "metadata": {},
   "outputs": [],
   "source": [
    "df['Q'] = df.question_title + df.question_content\n",
    "df['Q&A'] = df.question_title + df.question_content + df.best_answer"
   ]
  },
  {
   "cell_type": "code",
   "execution_count": 207,
   "metadata": {},
   "outputs": [
    {
     "data": {
      "text/html": [
       "<div>\n",
       "<style scoped>\n",
       "    .dataframe tbody tr th:only-of-type {\n",
       "        vertical-align: middle;\n",
       "    }\n",
       "\n",
       "    .dataframe tbody tr th {\n",
       "        vertical-align: top;\n",
       "    }\n",
       "\n",
       "    .dataframe thead th {\n",
       "        text-align: right;\n",
       "    }\n",
       "</style>\n",
       "<table border=\"1\" class=\"dataframe\">\n",
       "  <thead>\n",
       "    <tr style=\"text-align: right;\">\n",
       "      <th></th>\n",
       "      <th>target</th>\n",
       "      <th>question_title</th>\n",
       "      <th>question_content</th>\n",
       "      <th>best_answer</th>\n",
       "      <th>Q</th>\n",
       "      <th>Q&amp;A</th>\n",
       "    </tr>\n",
       "  </thead>\n",
       "  <tbody>\n",
       "    <tr>\n",
       "      <th>250885</th>\n",
       "      <td>7</td>\n",
       "      <td>is there anyone out there who needs a new friend?</td>\n",
       "      <td>i need someone i can talk to im loosing my min...</td>\n",
       "      <td>Talk to me friend. email me at mhasalek@yahoo....</td>\n",
       "      <td>is there anyone out there who needs a new frie...</td>\n",
       "      <td>is there anyone out there who needs a new frie...</td>\n",
       "    </tr>\n",
       "    <tr>\n",
       "      <th>1035828</th>\n",
       "      <td>2</td>\n",
       "      <td>a question in math?</td>\n",
       "      <td>We all know that, if we want to know is a numb...</td>\n",
       "      <td>Numerals whose sum of digits is divisible by 3...</td>\n",
       "      <td>a question in math?We all know that, if we wan...</td>\n",
       "      <td>a question in math?We all know that, if we wan...</td>\n",
       "    </tr>\n",
       "    <tr>\n",
       "      <th>22614</th>\n",
       "      <td>7</td>\n",
       "      <td>can somebody help me?</td>\n",
       "      <td></td>\n",
       "      <td>Yes.  You.  If you don't help yourself, no one...</td>\n",
       "      <td>can somebody help me?</td>\n",
       "      <td>can somebody help me?Yes.  You.  If you don't ...</td>\n",
       "    </tr>\n",
       "    <tr>\n",
       "      <th>1195019</th>\n",
       "      <td>7</td>\n",
       "      <td>How can I reduce my tax payable income to save...</td>\n",
       "      <td>There may be certain govt bonds, investments t...</td>\n",
       "      <td>YOU SHOULD GET PAID NOT TAXED!\\n\\n\\nThe Alaska...</td>\n",
       "      <td>How can I reduce my tax payable income to save...</td>\n",
       "      <td>How can I reduce my tax payable income to save...</td>\n",
       "    </tr>\n",
       "    <tr>\n",
       "      <th>203659</th>\n",
       "      <td>3</td>\n",
       "      <td>Is it a good idea to take specially formulated...</td>\n",
       "      <td>Some sources say it is difficult to get all th...</td>\n",
       "      <td>Since you may be in the process of getting pre...</td>\n",
       "      <td>Is it a good idea to take specially formulated...</td>\n",
       "      <td>Is it a good idea to take specially formulated...</td>\n",
       "    </tr>\n",
       "  </tbody>\n",
       "</table>\n",
       "</div>"
      ],
      "text/plain": [
       "         target                                     question_title  \\\n",
       "250885        7  is there anyone out there who needs a new friend?   \n",
       "1035828       2                                a question in math?   \n",
       "22614         7                              can somebody help me?   \n",
       "1195019       7  How can I reduce my tax payable income to save...   \n",
       "203659        3  Is it a good idea to take specially formulated...   \n",
       "\n",
       "                                          question_content  \\\n",
       "250885   i need someone i can talk to im loosing my min...   \n",
       "1035828  We all know that, if we want to know is a numb...   \n",
       "22614                                                        \n",
       "1195019  There may be certain govt bonds, investments t...   \n",
       "203659   Some sources say it is difficult to get all th...   \n",
       "\n",
       "                                               best_answer  \\\n",
       "250885   Talk to me friend. email me at mhasalek@yahoo....   \n",
       "1035828  Numerals whose sum of digits is divisible by 3...   \n",
       "22614    Yes.  You.  If you don't help yourself, no one...   \n",
       "1195019  YOU SHOULD GET PAID NOT TAXED!\\n\\n\\nThe Alaska...   \n",
       "203659   Since you may be in the process of getting pre...   \n",
       "\n",
       "                                                         Q  \\\n",
       "250885   is there anyone out there who needs a new frie...   \n",
       "1035828  a question in math?We all know that, if we wan...   \n",
       "22614                                can somebody help me?   \n",
       "1195019  How can I reduce my tax payable income to save...   \n",
       "203659   Is it a good idea to take specially formulated...   \n",
       "\n",
       "                                                       Q&A  \n",
       "250885   is there anyone out there who needs a new frie...  \n",
       "1035828  a question in math?We all know that, if we wan...  \n",
       "22614    can somebody help me?Yes.  You.  If you don't ...  \n",
       "1195019  How can I reduce my tax payable income to save...  \n",
       "203659   Is it a good idea to take specially formulated...  "
      ]
     },
     "execution_count": 207,
     "metadata": {},
     "output_type": "execute_result"
    }
   ],
   "source": [
    "df.head(5)"
   ]
  },
  {
   "cell_type": "code",
   "execution_count": 208,
   "metadata": {},
   "outputs": [
    {
     "data": {
      "image/png": "[encoded data removed]",
      "text/plain": [
       "<Figure size 432x360 with 1 Axes>"
      ]
     },
     "metadata": {
      "needs_background": "light"
     },
     "output_type": "display_data"
    }
   ],
   "source": [
    "fig,ax = plt.subplots(figsize=(6,5));\n",
    "ax.barh(y = target_classes,width=df.target.value_counts().values,color='b',alpha=0.4,height=0.6);\n",
    "ax.set_ylabel('Classes');\n",
    "ax.set_xlabel('Counts per Classes');"
   ]
  },
  {
   "cell_type": "code",
   "execution_count": 209,
   "metadata": {},
   "outputs": [],
   "source": [
    "# df['lang'] = df['Q&A'].apply(lambda x:langdetect.detect(x) if x.strip()!=\"\" else \"\")"
   ]
  },
  {
   "cell_type": "code",
   "execution_count": 210,
   "metadata": {},
   "outputs": [],
   "source": [
    "lst_stopwords = stopwords.words('english')"
   ]
  },
  {
   "cell_type": "code",
   "execution_count": 211,
   "metadata": {},
   "outputs": [],
   "source": [
    "def text_cleaning(text,stem_flag=False,lem_flag=True,lst_stopwords=None):\n",
    "    text = text.replace('\\\\n',' ')\n",
    "    text = text.replace('\\n',' ')\n",
    "    text = re.sub(r'[^\\w\\s]',' ',str(text).lower().strip())\n",
    "    lst_text = text.split()\n",
    "    if lst_stopwords is not None:\n",
    "        lst_text = [word for word in lst_text if word not in lst_stopwords]\n",
    "    if stem_flag == True:\n",
    "        ps = nltk.stem.porter.PorterStemmer()\n",
    "        lst_text = [ps.stem(word) for word in lst_text]\n",
    "    if lem_flag == True:\n",
    "        lem = nltk.stem.wordnet.WordNetLemmatizer()\n",
    "        lst_text = [lem.lemmatize(word) for word in lst_text]\n",
    "    lst_text = \" \".join(lst_text)\n",
    "    return lst_text"
   ]
  },
  {
   "cell_type": "code",
   "execution_count": 212,
   "metadata": {},
   "outputs": [],
   "source": [
    "df['Text_new'] = df['Q&A'].apply(lambda x:text_cleaning(x,stem_flag=False,lem_flag=True,lst_stopwords=lst_stopwords))"
   ]
  },
  {
   "cell_type": "code",
   "execution_count": 213,
   "metadata": {},
   "outputs": [
    {
     "data": {
      "text/html": [
       "<div>\n",
       "<style scoped>\n",
       "    .dataframe tbody tr th:only-of-type {\n",
       "        vertical-align: middle;\n",
       "    }\n",
       "\n",
       "    .dataframe tbody tr th {\n",
       "        vertical-align: top;\n",
       "    }\n",
       "\n",
       "    .dataframe thead th {\n",
       "        text-align: right;\n",
       "    }\n",
       "</style>\n",
       "<table border=\"1\" class=\"dataframe\">\n",
       "  <thead>\n",
       "    <tr style=\"text-align: right;\">\n",
       "      <th></th>\n",
       "      <th>target</th>\n",
       "      <th>question_title</th>\n",
       "      <th>question_content</th>\n",
       "      <th>best_answer</th>\n",
       "      <th>Q</th>\n",
       "      <th>Q&amp;A</th>\n",
       "      <th>Text_new</th>\n",
       "    </tr>\n",
       "  </thead>\n",
       "  <tbody>\n",
       "    <tr>\n",
       "      <th>250885</th>\n",
       "      <td>7</td>\n",
       "      <td>is there anyone out there who needs a new friend?</td>\n",
       "      <td>i need someone i can talk to im loosing my min...</td>\n",
       "      <td>Talk to me friend. email me at mhasalek@yahoo....</td>\n",
       "      <td>is there anyone out there who needs a new frie...</td>\n",
       "      <td>is there anyone out there who needs a new frie...</td>\n",
       "      <td>anyone need new friend need someone talk im lo...</td>\n",
       "    </tr>\n",
       "    <tr>\n",
       "      <th>1035828</th>\n",
       "      <td>2</td>\n",
       "      <td>a question in math?</td>\n",
       "      <td>We all know that, if we want to know is a numb...</td>\n",
       "      <td>Numerals whose sum of digits is divisible by 3...</td>\n",
       "      <td>a question in math?We all know that, if we wan...</td>\n",
       "      <td>a question in math?We all know that, if we wan...</td>\n",
       "      <td>question math know want know number devidable ...</td>\n",
       "    </tr>\n",
       "    <tr>\n",
       "      <th>22614</th>\n",
       "      <td>7</td>\n",
       "      <td>can somebody help me?</td>\n",
       "      <td></td>\n",
       "      <td>Yes.  You.  If you don't help yourself, no one...</td>\n",
       "      <td>can somebody help me?</td>\n",
       "      <td>can somebody help me?Yes.  You.  If you don't ...</td>\n",
       "      <td>somebody help yes help one else</td>\n",
       "    </tr>\n",
       "    <tr>\n",
       "      <th>1195019</th>\n",
       "      <td>7</td>\n",
       "      <td>How can I reduce my tax payable income to save...</td>\n",
       "      <td>There may be certain govt bonds, investments t...</td>\n",
       "      <td>YOU SHOULD GET PAID NOT TAXED!\\n\\n\\nThe Alaska...</td>\n",
       "      <td>How can I reduce my tax payable income to save...</td>\n",
       "      <td>How can I reduce my tax payable income to save...</td>\n",
       "      <td>reduce tax payable income save money usa speci...</td>\n",
       "    </tr>\n",
       "    <tr>\n",
       "      <th>203659</th>\n",
       "      <td>3</td>\n",
       "      <td>Is it a good idea to take specially formulated...</td>\n",
       "      <td>Some sources say it is difficult to get all th...</td>\n",
       "      <td>Since you may be in the process of getting pre...</td>\n",
       "      <td>Is it a good idea to take specially formulated...</td>\n",
       "      <td>Is it a good idea to take specially formulated...</td>\n",
       "      <td>good idea take specially formulated vitamin su...</td>\n",
       "    </tr>\n",
       "    <tr>\n",
       "      <th>195402</th>\n",
       "      <td>6</td>\n",
       "      <td>what is the fastest production vehicle?</td>\n",
       "      <td></td>\n",
       "      <td>to date: the Bugatti Veyron, top speed of 253m...</td>\n",
       "      <td>what is the fastest production vehicle?</td>\n",
       "      <td>what is the fastest production vehicle?to date...</td>\n",
       "      <td>fastest production vehicle date bugatti veyron...</td>\n",
       "    </tr>\n",
       "    <tr>\n",
       "      <th>854159</th>\n",
       "      <td>8</td>\n",
       "      <td>The song:L is 4 the way you look at me; O is 4...</td>\n",
       "      <td>this is song sang by Nat King; but there is th...</td>\n",
       "      <td>Natalie Cole, Nat King Cole's daughter, made s...</td>\n",
       "      <td>The song:L is 4 the way you look at me; O is 4...</td>\n",
       "      <td>The song:L is 4 the way you look at me; O is 4...</td>\n",
       "      <td>song l 4 way look 4 1 song sang nat king versi...</td>\n",
       "    </tr>\n",
       "    <tr>\n",
       "      <th>87173</th>\n",
       "      <td>7</td>\n",
       "      <td>how  long  does  mardi gras last??</td>\n",
       "      <td></td>\n",
       "      <td>Usually the carnival season last for 12 days, ...</td>\n",
       "      <td>how  long  does  mardi gras last??</td>\n",
       "      <td>how  long  does  mardi gras last??Usually the ...</td>\n",
       "      <td>long mardi gras last usually carnival season l...</td>\n",
       "    </tr>\n",
       "    <tr>\n",
       "      <th>298352</th>\n",
       "      <td>6</td>\n",
       "      <td>Why do people hate John Cena?</td>\n",
       "      <td>Over the past few weeks loud boo's can be hear...</td>\n",
       "      <td>I think its because when he started becoming a...</td>\n",
       "      <td>Why do people hate John Cena?Over the past few...</td>\n",
       "      <td>Why do people hate John Cena?Over the past few...</td>\n",
       "      <td>people hate john cena past week loud boo heard...</td>\n",
       "    </tr>\n",
       "    <tr>\n",
       "      <th>449095</th>\n",
       "      <td>9</td>\n",
       "      <td>what can i do to change her thoughts to let he...</td>\n",
       "      <td>there was a big pressure on my gf from me she ...</td>\n",
       "      <td>Let it go and be a friend.  Afterall, that sou...</td>\n",
       "      <td>what can i do to change her thoughts to let he...</td>\n",
       "      <td>what can i do to change her thoughts to let he...</td>\n",
       "      <td>change thought let love back big pressure gf s...</td>\n",
       "    </tr>\n",
       "  </tbody>\n",
       "</table>\n",
       "</div>"
      ],
      "text/plain": [
       "         target                                     question_title  \\\n",
       "250885        7  is there anyone out there who needs a new friend?   \n",
       "1035828       2                                a question in math?   \n",
       "22614         7                              can somebody help me?   \n",
       "1195019       7  How can I reduce my tax payable income to save...   \n",
       "203659        3  Is it a good idea to take specially formulated...   \n",
       "195402        6            what is the fastest production vehicle?   \n",
       "854159        8  The song:L is 4 the way you look at me; O is 4...   \n",
       "87173         7                 how  long  does  mardi gras last??   \n",
       "298352        6                      Why do people hate John Cena?   \n",
       "449095        9  what can i do to change her thoughts to let he...   \n",
       "\n",
       "                                          question_content  \\\n",
       "250885   i need someone i can talk to im loosing my min...   \n",
       "1035828  We all know that, if we want to know is a numb...   \n",
       "22614                                                        \n",
       "1195019  There may be certain govt bonds, investments t...   \n",
       "203659   Some sources say it is difficult to get all th...   \n",
       "195402                                                       \n",
       "854159   this is song sang by Nat King; but there is th...   \n",
       "87173                                                        \n",
       "298352   Over the past few weeks loud boo's can be hear...   \n",
       "449095   there was a big pressure on my gf from me she ...   \n",
       "\n",
       "                                               best_answer  \\\n",
       "250885   Talk to me friend. email me at mhasalek@yahoo....   \n",
       "1035828  Numerals whose sum of digits is divisible by 3...   \n",
       "22614    Yes.  You.  If you don't help yourself, no one...   \n",
       "1195019  YOU SHOULD GET PAID NOT TAXED!\\n\\n\\nThe Alaska...   \n",
       "203659   Since you may be in the process of getting pre...   \n",
       "195402   to date: the Bugatti Veyron, top speed of 253m...   \n",
       "854159   Natalie Cole, Nat King Cole's daughter, made s...   \n",
       "87173    Usually the carnival season last for 12 days, ...   \n",
       "298352   I think its because when he started becoming a...   \n",
       "449095   Let it go and be a friend.  Afterall, that sou...   \n",
       "\n",
       "                                                         Q  \\\n",
       "250885   is there anyone out there who needs a new frie...   \n",
       "1035828  a question in math?We all know that, if we wan...   \n",
       "22614                                can somebody help me?   \n",
       "1195019  How can I reduce my tax payable income to save...   \n",
       "203659   Is it a good idea to take specially formulated...   \n",
       "195402             what is the fastest production vehicle?   \n",
       "854159   The song:L is 4 the way you look at me; O is 4...   \n",
       "87173                   how  long  does  mardi gras last??   \n",
       "298352   Why do people hate John Cena?Over the past few...   \n",
       "449095   what can i do to change her thoughts to let he...   \n",
       "\n",
       "                                                       Q&A  \\\n",
       "250885   is there anyone out there who needs a new frie...   \n",
       "1035828  a question in math?We all know that, if we wan...   \n",
       "22614    can somebody help me?Yes.  You.  If you don't ...   \n",
       "1195019  How can I reduce my tax payable income to save...   \n",
       "203659   Is it a good idea to take specially formulated...   \n",
       "195402   what is the fastest production vehicle?to date...   \n",
       "854159   The song:L is 4 the way you look at me; O is 4...   \n",
       "87173    how  long  does  mardi gras last??Usually the ...   \n",
       "298352   Why do people hate John Cena?Over the past few...   \n",
       "449095   what can i do to change her thoughts to let he...   \n",
       "\n",
       "                                                  Text_new  \n",
       "250885   anyone need new friend need someone talk im lo...  \n",
       "1035828  question math know want know number devidable ...  \n",
       "22614                      somebody help yes help one else  \n",
       "1195019  reduce tax payable income save money usa speci...  \n",
       "203659   good idea take specially formulated vitamin su...  \n",
       "195402   fastest production vehicle date bugatti veyron...  \n",
       "854159   song l 4 way look 4 1 song sang nat king versi...  \n",
       "87173    long mardi gras last usually carnival season l...  \n",
       "298352   people hate john cena past week loud boo heard...  \n",
       "449095   change thought let love back big pressure gf s...  "
      ]
     },
     "execution_count": 213,
     "metadata": {},
     "output_type": "execute_result"
    }
   ],
   "source": [
    "df.head(10)"
   ]
  },
  {
   "cell_type": "code",
   "execution_count": null,
   "metadata": {},
   "outputs": [],
   "source": []
  },
  {
   "cell_type": "code",
   "execution_count": null,
   "metadata": {},
   "outputs": [],
   "source": []
  },
  {
   "cell_type": "code",
   "execution_count": 214,
   "metadata": {},
   "outputs": [],
   "source": [
    "df['word_count'] = df['Q&A'].apply(lambda x:len(str(x).split(\" \")))\n",
    "df['char_count'] = df['Q&A'].apply(lambda x: sum(len(word)for word in str(x).split(\" \")))\n",
    "df['sentence_count'] = df['Q&A'].apply(lambda x:len(str(x).split(\".\")))\n",
    "df['word_length'] = df['char_count']/df['word_count']\n",
    "df['word_per_sentence'] = df['word_count']/df['sentence_count']"
   ]
  },
  {
   "cell_type": "code",
   "execution_count": 215,
   "metadata": {},
   "outputs": [
    {
     "data": {
      "text/html": [
       "<div>\n",
       "<style scoped>\n",
       "    .dataframe tbody tr th:only-of-type {\n",
       "        vertical-align: middle;\n",
       "    }\n",
       "\n",
       "    .dataframe tbody tr th {\n",
       "        vertical-align: top;\n",
       "    }\n",
       "\n",
       "    .dataframe thead th {\n",
       "        text-align: right;\n",
       "    }\n",
       "</style>\n",
       "<table border=\"1\" class=\"dataframe\">\n",
       "  <thead>\n",
       "    <tr style=\"text-align: right;\">\n",
       "      <th></th>\n",
       "      <th>target</th>\n",
       "      <th>question_title</th>\n",
       "      <th>question_content</th>\n",
       "      <th>best_answer</th>\n",
       "      <th>Q</th>\n",
       "      <th>Q&amp;A</th>\n",
       "      <th>Text_new</th>\n",
       "      <th>word_count</th>\n",
       "      <th>char_count</th>\n",
       "      <th>sentence_count</th>\n",
       "      <th>word_length</th>\n",
       "      <th>word_per_sentence</th>\n",
       "    </tr>\n",
       "  </thead>\n",
       "  <tbody>\n",
       "    <tr>\n",
       "      <th>250885</th>\n",
       "      <td>7</td>\n",
       "      <td>is there anyone out there who needs a new friend?</td>\n",
       "      <td>i need someone i can talk to im loosing my min...</td>\n",
       "      <td>Talk to me friend. email me at mhasalek@yahoo....</td>\n",
       "      <td>is there anyone out there who needs a new frie...</td>\n",
       "      <td>is there anyone out there who needs a new frie...</td>\n",
       "      <td>anyone need new friend need someone talk im lo...</td>\n",
       "      <td>69</td>\n",
       "      <td>255</td>\n",
       "      <td>5</td>\n",
       "      <td>3.695652</td>\n",
       "      <td>13.800000</td>\n",
       "    </tr>\n",
       "    <tr>\n",
       "      <th>1035828</th>\n",
       "      <td>2</td>\n",
       "      <td>a question in math?</td>\n",
       "      <td>We all know that, if we want to know is a numb...</td>\n",
       "      <td>Numerals whose sum of digits is divisible by 3...</td>\n",
       "      <td>a question in math?We all know that, if we wan...</td>\n",
       "      <td>a question in math?We all know that, if we wan...</td>\n",
       "      <td>question math know want know number devidable ...</td>\n",
       "      <td>354</td>\n",
       "      <td>1355</td>\n",
       "      <td>33</td>\n",
       "      <td>3.827684</td>\n",
       "      <td>10.727273</td>\n",
       "    </tr>\n",
       "  </tbody>\n",
       "</table>\n",
       "</div>"
      ],
      "text/plain": [
       "         target                                     question_title  \\\n",
       "250885        7  is there anyone out there who needs a new friend?   \n",
       "1035828       2                                a question in math?   \n",
       "\n",
       "                                          question_content  \\\n",
       "250885   i need someone i can talk to im loosing my min...   \n",
       "1035828  We all know that, if we want to know is a numb...   \n",
       "\n",
       "                                               best_answer  \\\n",
       "250885   Talk to me friend. email me at mhasalek@yahoo....   \n",
       "1035828  Numerals whose sum of digits is divisible by 3...   \n",
       "\n",
       "                                                         Q  \\\n",
       "250885   is there anyone out there who needs a new frie...   \n",
       "1035828  a question in math?We all know that, if we wan...   \n",
       "\n",
       "                                                       Q&A  \\\n",
       "250885   is there anyone out there who needs a new frie...   \n",
       "1035828  a question in math?We all know that, if we wan...   \n",
       "\n",
       "                                                  Text_new  word_count  \\\n",
       "250885   anyone need new friend need someone talk im lo...          69   \n",
       "1035828  question math know want know number devidable ...         354   \n",
       "\n",
       "         char_count  sentence_count  word_length  word_per_sentence  \n",
       "250885          255               5     3.695652          13.800000  \n",
       "1035828        1355              33     3.827684          10.727273  "
      ]
     },
     "execution_count": 215,
     "metadata": {},
     "output_type": "execute_result"
    }
   ],
   "source": [
    "df.head(2)"
   ]
  },
  {
   "cell_type": "code",
   "execution_count": 216,
   "metadata": {},
   "outputs": [
    {
     "data": {
      "text/plain": [
       "10"
      ]
     },
     "execution_count": 216,
     "metadata": {},
     "output_type": "execute_result"
    }
   ],
   "source": [
    "colors=['b','g','r','k','magenta','orange','aqua','violet','peachpuff','pink']\n",
    "len(colors)"
   ]
  },
  {
   "cell_type": "code",
   "execution_count": 217,
   "metadata": {},
   "outputs": [
    {
     "data": {
      "image/png": "[encoded data removed]",
      "text/plain": [
       "<Figure size 1296x432 with 2 Axes>"
      ]
     },
     "metadata": {
      "needs_background": "light"
     },
     "output_type": "display_data"
    }
   ],
   "source": [
    "plt_list = ['word_count','char_count','sentence_count','word_length','word_per_sentence']\n",
    "fig,ax = plt.subplots(1,2,figsize=(18,6))\n",
    "for i in range(5):#df.target.unique():\n",
    "    sns.histplot(df[df.target==i+1][plt_list[1]],kde=False,bins=10,ax=ax[0],alpha=0.3,color=colors[i],label=target_classes[i]);\n",
    "    sns.histplot(df[df.target==i+1][plt_list[1]],kde=True,bins=10,ax=ax[1],alpha=0.3,color=colors[i],label=target_classes[i]);\n",
    "ax[0].legend();\n",
    "ax[1].legend();\n",
    "plt.show();"
   ]
  },
  {
   "cell_type": "code",
   "execution_count": 218,
   "metadata": {},
   "outputs": [
    {
     "data": {
      "text/plain": [
       "target\n",
       "1     72\n",
       "2     66\n",
       "3     75\n",
       "4     52\n",
       "5     58\n",
       "6     45\n",
       "7     52\n",
       "8     41\n",
       "9     74\n",
       "10    73\n",
       "Name: word_count, dtype: int64"
      ]
     },
     "execution_count": 218,
     "metadata": {},
     "output_type": "execute_result"
    }
   ],
   "source": [
    "df.groupby('target').word_count.median()"
   ]
  },
  {
   "cell_type": "code",
   "execution_count": 219,
   "metadata": {},
   "outputs": [
    {
     "data": {
      "image/png": "[encoded data removed]",
      "text/plain": [
       "<Figure size 432x288 with 1 Axes>"
      ]
     },
     "metadata": {
      "needs_background": "light"
     },
     "output_type": "display_data"
    }
   ],
   "source": [
    "ax = sns.boxplot(x=\"target\", y=\"word_count\", data=df)\n",
    "ax.set_yscale('log')"
   ]
  },
  {
   "cell_type": "code",
   "execution_count": 220,
   "metadata": {},
   "outputs": [
    {
     "data": {
      "image/png": "[encoded data removed]",
      "text/plain": [
       "<Figure size 432x288 with 1 Axes>"
      ]
     },
     "metadata": {
      "needs_background": "light"
     },
     "output_type": "display_data"
    }
   ],
   "source": [
    "ax = sns.boxplot(x=\"target\", y=\"char_count\", data=df)\n",
    "ax.set_yscale('log')"
   ]
  },
  {
   "cell_type": "code",
   "execution_count": 221,
   "metadata": {},
   "outputs": [
    {
     "data": {
      "image/png": "[encoded data removed]",
      "text/plain": [
       "<Figure size 432x288 with 1 Axes>"
      ]
     },
     "metadata": {
      "needs_background": "light"
     },
     "output_type": "display_data"
    }
   ],
   "source": [
    "ax = sns.boxplot(x=\"target\", y=\"sentence_count\", data=df)\n",
    "ax.set_yscale('log')"
   ]
  },
  {
   "cell_type": "code",
   "execution_count": 222,
   "metadata": {},
   "outputs": [
    {
     "data": {
      "image/png": "[encoded data removed]",
      "text/plain": [
       "<Figure size 432x288 with 1 Axes>"
      ]
     },
     "metadata": {
      "needs_background": "light"
     },
     "output_type": "display_data"
    }
   ],
   "source": [
    "ax = sns.boxplot(x=\"target\", y=\"word_per_sentence\", data=df)\n",
    "ax.set_yscale('log')"
   ]
  },
  {
   "cell_type": "code",
   "execution_count": null,
   "metadata": {},
   "outputs": [],
   "source": []
  },
  {
   "cell_type": "markdown",
   "metadata": {},
   "source": [
    "### Tf-idf Method for text classification"
   ]
  },
  {
   "cell_type": "code",
   "execution_count": 239,
   "metadata": {},
   "outputs": [],
   "source": [
    "X = df.Text_new\n",
    "y = df.target"
   ]
  },
  {
   "cell_type": "code",
   "execution_count": 240,
   "metadata": {},
   "outputs": [],
   "source": [
    "X_train,X_test,y_train,y_test = train_test_split(X,y,stratify=y,test_size=0.1,random_state=20)"
   ]
  },
  {
   "cell_type": "code",
   "execution_count": 241,
   "metadata": {},
   "outputs": [],
   "source": [
    "vect = TfidfVectorizer(max_features=10000,ngram_range=(1,2))"
   ]
  },
  {
   "cell_type": "code",
   "execution_count": 242,
   "metadata": {},
   "outputs": [
    {
     "data": {
      "text/plain": [
       "TfidfVectorizer(max_features=10000, ngram_range=(1, 2))"
      ]
     },
     "execution_count": 242,
     "metadata": {},
     "output_type": "execute_result"
    }
   ],
   "source": [
    "vect.fit(X_train)"
   ]
  },
  {
   "cell_type": "code",
   "execution_count": 243,
   "metadata": {},
   "outputs": [],
   "source": [
    "# X_train is the raw data\n",
    "# XX_train is the matrix based on the X_train\n",
    "XX_train = vect.transform(X_train)"
   ]
  },
  {
   "cell_type": "code",
   "execution_count": 244,
   "metadata": {},
   "outputs": [],
   "source": [
    "vocab = vect.vocabulary_"
   ]
  },
  {
   "cell_type": "code",
   "execution_count": null,
   "metadata": {},
   "outputs": [],
   "source": []
  },
  {
   "cell_type": "code",
   "execution_count": 245,
   "metadata": {},
   "outputs": [
    {
     "data": {
      "image/png": "[encoded data removed]",
      "text/plain": [
       "<Figure size 432x288 with 1 Axes>"
      ]
     },
     "metadata": {
      "needs_background": "light"
     },
     "output_type": "display_data"
    }
   ],
   "source": [
    "sns.heatmap(XX_train.todense()[:,np.random.randint(0,XX_train.shape[1],100)]==0 , vmin=0 , vmax=1,cbar=False).set_title('Sample of Sparse Matrix');"
   ]
  },
  {
   "cell_type": "code",
   "execution_count": 262,
   "metadata": {},
   "outputs": [],
   "source": [
    "X_names = vect.get_feature_names()\n",
    "df_features = pd.DataFrame()\n",
    "for category in np.unique(y_train):\n",
    "    chi2,p = feature_selection.chi2(XX_train,y_train==category)\n",
    "    df_features = df_features.append(pd.DataFrame({'feature':X_names,'Score':1-p,\"y\":category}))\n",
    "    #df_features = df_features.sort_values([\"y\",\"Score\"],ascending=[True,False])\n"
   ]
  },
  {
   "cell_type": "code",
   "execution_count": null,
   "metadata": {},
   "outputs": [],
   "source": []
  },
  {
   "cell_type": "code",
   "execution_count": null,
   "metadata": {},
   "outputs": [],
   "source": []
  },
  {
   "cell_type": "code",
   "execution_count": null,
   "metadata": {},
   "outputs": [],
   "source": []
  },
  {
   "cell_type": "code",
   "execution_count": null,
   "metadata": {},
   "outputs": [],
   "source": []
  },
  {
   "cell_type": "code",
   "execution_count": null,
   "metadata": {},
   "outputs": [],
   "source": []
  },
  {
   "cell_type": "code",
   "execution_count": 33,
   "metadata": {},
   "outputs": [],
   "source": [
    "count = CountVectorizer(stop_words=lst_stopwords,max_features=5000,max_df=20,min_df=2)"
   ]
  },
  {
   "cell_type": "code",
   "execution_count": null,
   "metadata": {},
   "outputs": [],
   "source": []
  },
  {
   "cell_type": "code",
   "execution_count": null,
   "metadata": {},
   "outputs": [],
   "source": []
  },
  {
   "cell_type": "code",
   "execution_count": null,
   "metadata": {},
   "outputs": [],
   "source": []
  },
  {
   "cell_type": "code",
   "execution_count": null,
   "metadata": {},
   "outputs": [],
   "source": [
    "# Creating a cloud of words"
   ]
  },
  {
   "cell_type": "code",
   "execution_count": null,
   "metadata": {},
   "outputs": [],
   "source": []
  },
  {
   "cell_type": "code",
   "execution_count": null,
   "metadata": {},
   "outputs": [],
   "source": []
  },
  {
   "cell_type": "code",
   "execution_count": null,
   "metadata": {},
   "outputs": [],
   "source": []
  },
  {
   "cell_type": "markdown",
   "metadata": {},
   "source": [
    "### Naive Bayes Classifier\n",
    "In this section, we used Naive bayes classifer to fit our model to training data"
   ]
  },
  {
   "cell_type": "code",
   "execution_count": 178,
   "metadata": {},
   "outputs": [],
   "source": [
    "nb = naive_bayes.MultinomialNB()"
   ]
  },
  {
   "cell_type": "code",
   "execution_count": 179,
   "metadata": {},
   "outputs": [],
   "source": [
    "# pipeline\n",
    "model = pipeline.Pipeline([(\"vectorizer\",vect),\n",
    "                           (\"classifier\",nb)])"
   ]
  },
  {
   "cell_type": "code",
   "execution_count": 180,
   "metadata": {},
   "outputs": [
    {
     "data": {
      "text/plain": [
       "array([0.66527778, 0.67161111, 0.668     , 0.67022222, 0.67422222])"
      ]
     },
     "execution_count": 180,
     "metadata": {},
     "output_type": "execute_result"
    }
   ],
   "source": [
    "cross_val_score(model,X_train,y_train,cv=5,n_jobs=-1)"
   ]
  },
  {
   "cell_type": "code",
   "execution_count": 169,
   "metadata": {},
   "outputs": [
    {
     "data": {
      "text/plain": [
       "Pipeline(steps=[('vectorizer',\n",
       "                 TfidfVectorizer(max_features=10000, ngram_range=(1, 2))),\n",
       "                ('classifier', MultinomialNB())])"
      ]
     },
     "execution_count": 169,
     "metadata": {},
     "output_type": "execute_result"
    }
   ],
   "source": [
    "# Train Classifier\n",
    "#model['classifier'].fit(XX_train,y_train)\n",
    "model.fit(X_train,y_train)"
   ]
  },
  {
   "cell_type": "code",
   "execution_count": 170,
   "metadata": {},
   "outputs": [],
   "source": [
    "## Test Classifier\n",
    "Predicted = model.predict(X_test)\n",
    "Predicted_prob = model.predict_proba(X_test)"
   ]
  },
  {
   "cell_type": "code",
   "execution_count": 177,
   "metadata": {},
   "outputs": [
    {
     "data": {
      "text/plain": [
       "<sklearn.metrics._plot.confusion_matrix.ConfusionMatrixDisplay at 0x7fa532818910>"
      ]
     },
     "execution_count": 177,
     "metadata": {},
     "output_type": "execute_result"
    },
    {
     "data": {
      "image/png": "[encoded data removed]",
      "text/plain": [
       "<Figure size 720x720 with 2 Axes>"
      ]
     },
     "metadata": {
      "needs_background": "light"
     },
     "output_type": "display_data"
    }
   ],
   "source": [
    "fig, ax = plt.subplots(figsize=(10, 10));\n",
    "plot_confusion_matrix(model,X_test,y_test,ax=ax);"
   ]
  },
  {
   "cell_type": "markdown",
   "metadata": {},
   "source": [
    "### Logistic Regression Classifier\n",
    "In this section, we used logistic classifer to fit our model to training data"
   ]
  },
  {
   "cell_type": "code",
   "execution_count": 187,
   "metadata": {},
   "outputs": [],
   "source": [
    "lr = LogisticRegression(max_iter=5000)"
   ]
  },
  {
   "cell_type": "code",
   "execution_count": 188,
   "metadata": {},
   "outputs": [],
   "source": [
    "# pipeline\n",
    "model_lr = pipeline.Pipeline([(\"vectorizer\",vect),\n",
    "                           (\"classifier\",lr)])"
   ]
  },
  {
   "cell_type": "code",
   "execution_count": 189,
   "metadata": {},
   "outputs": [
    {
     "data": {
      "text/plain": [
       "array([0.67572222, 0.67666667, 0.67955556, 0.68055556, 0.68733333])"
      ]
     },
     "execution_count": 189,
     "metadata": {},
     "output_type": "execute_result"
    }
   ],
   "source": [
    "cross_val_score(model_lr,X_train,y_train,cv=5,n_jobs=-1)"
   ]
  },
  {
   "cell_type": "code",
   "execution_count": 190,
   "metadata": {},
   "outputs": [
    {
     "data": {
      "text/plain": [
       "Pipeline(steps=[('vectorizer',\n",
       "                 TfidfVectorizer(max_features=10000, ngram_range=(1, 2))),\n",
       "                ('classifier', LogisticRegression(max_iter=5000))])"
      ]
     },
     "execution_count": 190,
     "metadata": {},
     "output_type": "execute_result"
    }
   ],
   "source": [
    "# Train Classifier\n",
    "#model['classifier'].fit(XX_train,y_train)\n",
    "model_lr.fit(X_train,y_train)"
   ]
  },
  {
   "cell_type": "code",
   "execution_count": 191,
   "metadata": {},
   "outputs": [],
   "source": [
    "## Test Classifier\n",
    "Predicted = model_lr.predict(X_test)\n",
    "Predicted_prob = model_lr.predict_proba(X_test)"
   ]
  },
  {
   "cell_type": "code",
   "execution_count": 192,
   "metadata": {},
   "outputs": [
    {
     "data": {
      "image/png": "[encoded data removed]",
      "text/plain": [
       "<Figure size 720x720 with 2 Axes>"
      ]
     },
     "metadata": {
      "needs_background": "light"
     },
     "output_type": "display_data"
    }
   ],
   "source": [
    "fig, ax = plt.subplots(figsize=(10, 10));\n",
    "plot_confusion_matrix(model_lr,X_test,y_test,ax=ax);"
   ]
  },
  {
   "cell_type": "code",
   "execution_count": null,
   "metadata": {},
   "outputs": [],
   "source": []
  },
  {
   "cell_type": "code",
   "execution_count": null,
   "metadata": {},
   "outputs": [],
   "source": []
  },
  {
   "cell_type": "code",
   "execution_count": null,
   "metadata": {},
   "outputs": [],
   "source": [
    "vectorizer = TfidfVectorizer(stop_words=lst_stopwords,min_df=5,max_features=5000)"
   ]
  },
  {
   "cell_type": "code",
   "execution_count": null,
   "metadata": {},
   "outputs": [],
   "source": [
    "vec_df = vectorizer.fit_transform(df['Q&A'])"
   ]
  },
  {
   "cell_type": "code",
   "execution_count": null,
   "metadata": {},
   "outputs": [],
   "source": [
    "vec_df.shape"
   ]
  },
  {
   "cell_type": "code",
   "execution_count": null,
   "metadata": {},
   "outputs": [],
   "source": [
    "features_name = vectorizer.get_feature_names()"
   ]
  },
  {
   "cell_type": "code",
   "execution_count": null,
   "metadata": {},
   "outputs": [],
   "source": [
    "X_vec = vec_df\n",
    "A = np.squeeze(np.asarray(X_vec.sum(axis=0)))\n",
    "A = pd.Series(A)"
   ]
  },
  {
   "cell_type": "code",
   "execution_count": null,
   "metadata": {},
   "outputs": [],
   "source": [
    "v =  A.sort_values(ascending=False)[:20]\n",
    "top_words_index = A.sort_values(ascending=False).index[:20]\n",
    "top_words_index"
   ]
  },
  {
   "cell_type": "code",
   "execution_count": null,
   "metadata": {},
   "outputs": [],
   "source": [
    "top_words=[]\n",
    "for i in top_words_index:\n",
    "    top_words.append(features_name[i])\n",
    "    \n",
    "top_words"
   ]
  },
  {
   "cell_type": "code",
   "execution_count": null,
   "metadata": {},
   "outputs": [],
   "source": []
  },
  {
   "cell_type": "code",
   "execution_count": null,
   "metadata": {},
   "outputs": [],
   "source": []
  },
  {
   "cell_type": "code",
   "execution_count": null,
   "metadata": {},
   "outputs": [],
   "source": []
  },
  {
   "cell_type": "code",
   "execution_count": null,
   "metadata": {},
   "outputs": [],
   "source": []
  },
  {
   "cell_type": "code",
   "execution_count": null,
   "metadata": {},
   "outputs": [],
   "source": []
  },
  {
   "cell_type": "code",
   "execution_count": null,
   "metadata": {},
   "outputs": [],
   "source": []
  }
 ],
 "metadata": {
  "kernelspec": {
   "display_name": "Python 3",
   "language": "python",
   "name": "python3"
  },
  "language_info": {
   "codemirror_mode": {
    "name": "ipython",
    "version": 3
   },
   "file_extension": ".py",
   "mimetype": "text/x-python",
   "name": "python",
   "nbconvert_exporter": "python",
   "pygments_lexer": "ipython3",
   "version": "3.7.9"
  }
 },
 "nbformat": 4,
 "nbformat_minor": 4
}
