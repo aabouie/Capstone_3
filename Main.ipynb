{
 "cells": [
  {
   "cell_type": "code",
   "execution_count": 1,
   "metadata": {},
   "outputs": [
    {
     "name": "stderr",
     "output_type": "stream",
     "text": [
      "/home/ubuntu/anaconda3/lib/python3.8/site-packages/gensim/similarities/__init__.py:15: UserWarning: The gensim.similarities.levenshtein submodule is disabled, because the optional Levenshtein package <https://pypi.org/project/python-Levenshtein/> is unavailable. Install Levenhstein (e.g. `pip install python-Levenshtein`) to suppress this warning.\n",
      "  warnings.warn(msg)\n"
     ]
    }
   ],
   "source": [
    "import pandas as pd\n",
    "import unicodedata\n",
    "import string\n",
    "import re\n",
    "import seaborn as sns\n",
    "import random\n",
    "\n",
    "import matplotlib.pyplot as plt\n",
    "import matplotlib.cm as cm\n",
    "import nltk\n",
    "from nltk.util import ngrams\n",
    "from nltk.tokenize import sent_tokenize, word_tokenize\n",
    "from nltk.corpus import stopwords\n",
    "from nltk.stem.snowball import SnowballStemmer\n",
    "from nltk.stem import WordNetLemmatizer\n",
    "from wordcloud import WordCloud\n",
    "\n",
    "\n",
    "from sklearn.model_selection import train_test_split,cross_val_score,KFold,GridSearchCV\n",
    "from sklearn.metrics import precision_recall_curve,precision_score,recall_score,accuracy_score\n",
    "from sklearn.metrics import plot_confusion_matrix,plot_precision_recall_curve,plot_roc_curve\n",
    "from sklearn.metrics import roc_auc_score,roc_curve\n",
    "from sklearn.linear_model import LogisticRegression\n",
    "from sklearn.ensemble import GradientBoostingClassifier,RandomForestClassifier\n",
    "from sklearn import feature_extraction,naive_bayes,pipeline,manifold,preprocessing\n",
    "from sklearn.feature_extraction.text import TfidfVectorizer,CountVectorizer\n",
    "from sklearn.naive_bayes import MultinomialNB\n",
    "from sklearn import feature_selection\n",
    "\n",
    "from lime import lime_text\n",
    "import gensim\n",
    "import gensim.downloader as gensim_api\n",
    "\n",
    "# from tensorflow.keras import models,layers,preprocessing as kprocessing\n",
    "# from tensorflow.keras import backend as K\n",
    "\n",
    "# import transformers\n",
    "\n",
    "import numpy as np"
   ]
  },
  {
   "cell_type": "code",
   "execution_count": 2,
   "metadata": {},
   "outputs": [],
   "source": [
    "col_names = ['target','question_title','question_content','best_answer']\n",
    "target_classes = ['Society & Culture','Science & Mathematics','Health','Education & Reference',\n",
    "                  'Computers & Internet','Sports','Business & Finance','Entertainment & Music',\n",
    "                  'Family & Relationships','Politics & Government']\n",
    "target_classes_dict = {1:'Society & Culture',\n",
    "                       2:'Science & Mathematics',\n",
    "                       3:'Health',\n",
    "                       4:'Education & Reference',\n",
    "                       5:'Computers & Internet',\n",
    "                       6:'Sports',\n",
    "                       7:'Business & Finance',\n",
    "                       8:'Entertainment & Music',\n",
    "                       9:'Family & Relationships',\n",
    "                       10:'Politics & Government'}"
   ]
  },
  {
   "cell_type": "code",
   "execution_count": 3,
   "metadata": {},
   "outputs": [
    {
     "name": "stdout",
     "output_type": "stream",
     "text": [
      "<class 'pandas.core.frame.DataFrame'>\n",
      "RangeIndex: 1400000 entries, 0 to 1399999\n",
      "Data columns (total 4 columns):\n",
      " #   Column            Non-Null Count    Dtype \n",
      "---  ------            --------------    ----- \n",
      " 0   target            1400000 non-null  int64 \n",
      " 1   question_title    1400000 non-null  object\n",
      " 2   question_content  768325 non-null   object\n",
      " 3   best_answer       1375421 non-null  object\n",
      "dtypes: int64(1), object(3)\n",
      "memory usage: 42.7+ MB\n"
     ]
    }
   ],
   "source": [
    "df = pd.read_csv('data_yahoo/train.csv',header=None,names=col_names)\n",
    "# df_test = pd.read_csv('data_yahoo/test.csv',header=None,names=col_names)\n",
    "df.info()"
   ]
  },
  {
   "cell_type": "code",
   "execution_count": 4,
   "metadata": {},
   "outputs": [
    {
     "data": {
      "text/html": [
       "<div>\n",
       "<style scoped>\n",
       "    .dataframe tbody tr th:only-of-type {\n",
       "        vertical-align: middle;\n",
       "    }\n",
       "\n",
       "    .dataframe tbody tr th {\n",
       "        vertical-align: top;\n",
       "    }\n",
       "\n",
       "    .dataframe thead th {\n",
       "        text-align: right;\n",
       "    }\n",
       "</style>\n",
       "<table border=\"1\" class=\"dataframe\">\n",
       "  <thead>\n",
       "    <tr style=\"text-align: right;\">\n",
       "      <th></th>\n",
       "      <th>target</th>\n",
       "      <th>question_title</th>\n",
       "      <th>question_content</th>\n",
       "      <th>best_answer</th>\n",
       "    </tr>\n",
       "  </thead>\n",
       "  <tbody>\n",
       "    <tr>\n",
       "      <th>0</th>\n",
       "      <td>5</td>\n",
       "      <td>why doesn't an optical mouse work on a glass t...</td>\n",
       "      <td>or even on some surfaces?</td>\n",
       "      <td>Optical mice use an LED and a camera to rapidl...</td>\n",
       "    </tr>\n",
       "    <tr>\n",
       "      <th>1</th>\n",
       "      <td>6</td>\n",
       "      <td>What is the best off-road motorcycle trail ?</td>\n",
       "      <td>long-distance trail throughout CA</td>\n",
       "      <td>i hear that the mojave road is amazing!&lt;br /&gt;\\...</td>\n",
       "    </tr>\n",
       "    <tr>\n",
       "      <th>2</th>\n",
       "      <td>3</td>\n",
       "      <td>What is Trans Fat? How to reduce that?</td>\n",
       "      <td>I heard that tras fat is bad for the body.  Wh...</td>\n",
       "      <td>Trans fats occur in manufactured foods during ...</td>\n",
       "    </tr>\n",
       "    <tr>\n",
       "      <th>3</th>\n",
       "      <td>7</td>\n",
       "      <td>How many planes Fedex has?</td>\n",
       "      <td>I heard that it is the largest airline in the ...</td>\n",
       "      <td>according to the www.fedex.com web site:\\nAir ...</td>\n",
       "    </tr>\n",
       "    <tr>\n",
       "      <th>4</th>\n",
       "      <td>7</td>\n",
       "      <td>In the san francisco bay area, does it make se...</td>\n",
       "      <td>the prices of rent and the price of buying doe...</td>\n",
       "      <td>renting vs buying depends on your goals. &lt;br /...</td>\n",
       "    </tr>\n",
       "  </tbody>\n",
       "</table>\n",
       "</div>"
      ],
      "text/plain": [
       "   target                                     question_title  \\\n",
       "0       5  why doesn't an optical mouse work on a glass t...   \n",
       "1       6       What is the best off-road motorcycle trail ?   \n",
       "2       3             What is Trans Fat? How to reduce that?   \n",
       "3       7                         How many planes Fedex has?   \n",
       "4       7  In the san francisco bay area, does it make se...   \n",
       "\n",
       "                                    question_content  \\\n",
       "0                          or even on some surfaces?   \n",
       "1                  long-distance trail throughout CA   \n",
       "2  I heard that tras fat is bad for the body.  Wh...   \n",
       "3  I heard that it is the largest airline in the ...   \n",
       "4  the prices of rent and the price of buying doe...   \n",
       "\n",
       "                                         best_answer  \n",
       "0  Optical mice use an LED and a camera to rapidl...  \n",
       "1  i hear that the mojave road is amazing!<br />\\...  \n",
       "2  Trans fats occur in manufactured foods during ...  \n",
       "3  according to the www.fedex.com web site:\\nAir ...  \n",
       "4  renting vs buying depends on your goals. <br /...  "
      ]
     },
     "execution_count": 4,
     "metadata": {},
     "output_type": "execute_result"
    }
   ],
   "source": [
    "df.head()"
   ]
  },
  {
   "cell_type": "code",
   "execution_count": 5,
   "metadata": {},
   "outputs": [],
   "source": [
    "def get_samples(df, num_samples):\n",
    "    idx_lst = list(range(len(df)))\n",
    "    idx_samps = random.sample(idx_lst, num_samples)\n",
    "    df_samp = df.iloc[idx_samps]\n",
    "    return df_samp"
   ]
  },
  {
   "cell_type": "markdown",
   "metadata": {},
   "source": [
    "### Sampling the dataset since I'm running that on my computer. \n",
    "**** NEED to remove that in AWS"
   ]
  },
  {
   "cell_type": "code",
   "execution_count": 6,
   "metadata": {},
   "outputs": [],
   "source": [
    "df = get_samples(df,300000)"
   ]
  },
  {
   "cell_type": "code",
   "execution_count": null,
   "metadata": {},
   "outputs": [],
   "source": []
  },
  {
   "cell_type": "code",
   "execution_count": 7,
   "metadata": {},
   "outputs": [],
   "source": [
    "df.question_content.fillna(value='',axis=0,inplace=True)\n",
    "df.best_answer.fillna(value='',axis=0,inplace=True)"
   ]
  },
  {
   "cell_type": "code",
   "execution_count": 8,
   "metadata": {},
   "outputs": [
    {
     "data": {
      "text/plain": [
       "(300000, 4)"
      ]
     },
     "execution_count": 8,
     "metadata": {},
     "output_type": "execute_result"
    }
   ],
   "source": [
    "df.shape"
   ]
  },
  {
   "cell_type": "code",
   "execution_count": 9,
   "metadata": {},
   "outputs": [],
   "source": [
    "df['Q'] = df.question_title + df.question_content\n",
    "df['Q&A'] = df.question_title + df.question_content + df.best_answer"
   ]
  },
  {
   "cell_type": "code",
   "execution_count": 10,
   "metadata": {},
   "outputs": [
    {
     "data": {
      "text/html": [
       "<div>\n",
       "<style scoped>\n",
       "    .dataframe tbody tr th:only-of-type {\n",
       "        vertical-align: middle;\n",
       "    }\n",
       "\n",
       "    .dataframe tbody tr th {\n",
       "        vertical-align: top;\n",
       "    }\n",
       "\n",
       "    .dataframe thead th {\n",
       "        text-align: right;\n",
       "    }\n",
       "</style>\n",
       "<table border=\"1\" class=\"dataframe\">\n",
       "  <thead>\n",
       "    <tr style=\"text-align: right;\">\n",
       "      <th></th>\n",
       "      <th>target</th>\n",
       "      <th>question_title</th>\n",
       "      <th>question_content</th>\n",
       "      <th>best_answer</th>\n",
       "      <th>Q</th>\n",
       "      <th>Q&amp;A</th>\n",
       "    </tr>\n",
       "  </thead>\n",
       "  <tbody>\n",
       "    <tr>\n",
       "      <th>1258846</th>\n",
       "      <td>4</td>\n",
       "      <td>i would like to know what day, month, and year...</td>\n",
       "      <td></td>\n",
       "      <td>350,000 days = 958 non-leap years, 330 days.\\n...</td>\n",
       "      <td>i would like to know what day, month, and year...</td>\n",
       "      <td>i would like to know what day, month, and year...</td>\n",
       "    </tr>\n",
       "    <tr>\n",
       "      <th>1232104</th>\n",
       "      <td>2</td>\n",
       "      <td>what percent of fingerpring matches are false ...</td>\n",
       "      <td></td>\n",
       "      <td>none all fingerprints are unique</td>\n",
       "      <td>what percent of fingerpring matches are false ...</td>\n",
       "      <td>what percent of fingerpring matches are false ...</td>\n",
       "    </tr>\n",
       "    <tr>\n",
       "      <th>1133312</th>\n",
       "      <td>8</td>\n",
       "      <td>Not sure if any of you read this before...?</td>\n",
       "      <td>Mr Honda, of the Honda Motorcycle Corporation,...</td>\n",
       "      <td>Good one, and no, never heard it before.</td>\n",
       "      <td>Not sure if any of you read this before...?Mr ...</td>\n",
       "      <td>Not sure if any of you read this before...?Mr ...</td>\n",
       "    </tr>\n",
       "    <tr>\n",
       "      <th>1372500</th>\n",
       "      <td>8</td>\n",
       "      <td>How do people wiggle their ears?</td>\n",
       "      <td></td>\n",
       "      <td>I can do this.  You have to relax and then ten...</td>\n",
       "      <td>How do people wiggle their ears?</td>\n",
       "      <td>How do people wiggle their ears?I can do this....</td>\n",
       "    </tr>\n",
       "    <tr>\n",
       "      <th>1354842</th>\n",
       "      <td>4</td>\n",
       "      <td>Why does it seem that so many people today are...</td>\n",
       "      <td>Should concern for proper grammar and correct ...</td>\n",
       "      <td>me am not to be undersatnd youre qestion. what...</td>\n",
       "      <td>Why does it seem that so many people today are...</td>\n",
       "      <td>Why does it seem that so many people today are...</td>\n",
       "    </tr>\n",
       "  </tbody>\n",
       "</table>\n",
       "</div>"
      ],
      "text/plain": [
       "         target                                     question_title  \\\n",
       "1258846       4  i would like to know what day, month, and year...   \n",
       "1232104       2  what percent of fingerpring matches are false ...   \n",
       "1133312       8        Not sure if any of you read this before...?   \n",
       "1372500       8                   How do people wiggle their ears?   \n",
       "1354842       4  Why does it seem that so many people today are...   \n",
       "\n",
       "                                          question_content  \\\n",
       "1258846                                                      \n",
       "1232104                                                      \n",
       "1133312  Mr Honda, of the Honda Motorcycle Corporation,...   \n",
       "1372500                                                      \n",
       "1354842  Should concern for proper grammar and correct ...   \n",
       "\n",
       "                                               best_answer  \\\n",
       "1258846  350,000 days = 958 non-leap years, 330 days.\\n...   \n",
       "1232104                   none all fingerprints are unique   \n",
       "1133312           Good one, and no, never heard it before.   \n",
       "1372500  I can do this.  You have to relax and then ten...   \n",
       "1354842  me am not to be undersatnd youre qestion. what...   \n",
       "\n",
       "                                                         Q  \\\n",
       "1258846  i would like to know what day, month, and year...   \n",
       "1232104  what percent of fingerpring matches are false ...   \n",
       "1133312  Not sure if any of you read this before...?Mr ...   \n",
       "1372500                   How do people wiggle their ears?   \n",
       "1354842  Why does it seem that so many people today are...   \n",
       "\n",
       "                                                       Q&A  \n",
       "1258846  i would like to know what day, month, and year...  \n",
       "1232104  what percent of fingerpring matches are false ...  \n",
       "1133312  Not sure if any of you read this before...?Mr ...  \n",
       "1372500  How do people wiggle their ears?I can do this....  \n",
       "1354842  Why does it seem that so many people today are...  "
      ]
     },
     "execution_count": 10,
     "metadata": {},
     "output_type": "execute_result"
    }
   ],
   "source": [
    "df.head(5)"
   ]
  },
  {
   "cell_type": "code",
   "execution_count": 11,
   "metadata": {},
   "outputs": [
    {
     "data": {
      "image/png": "[encoded data removed]",
      "text/plain": [
       "<Figure size 432x360 with 1 Axes>"
      ]
     },
     "metadata": {
      "needs_background": "light"
     },
     "output_type": "display_data"
    }
   ],
   "source": [
    "fig,ax = plt.subplots(figsize=(6,5));\n",
    "ax.barh(y = target_classes,width=df.target.value_counts().values,color='b',alpha=0.4,height=0.6);\n",
    "ax.set_ylabel('Classes');\n",
    "ax.set_xlabel('Counts per Classes');"
   ]
  },
  {
   "cell_type": "code",
   "execution_count": 12,
   "metadata": {},
   "outputs": [],
   "source": [
    "# df['lang'] = df['Q&A'].apply(lambda x:langdetect.detect(x) if x.strip()!=\"\" else \"\")"
   ]
  },
  {
   "cell_type": "code",
   "execution_count": 13,
   "metadata": {},
   "outputs": [],
   "source": [
    "lst_stopwords = stopwords.words('english')"
   ]
  },
  {
   "cell_type": "code",
   "execution_count": 14,
   "metadata": {},
   "outputs": [],
   "source": [
    "def text_cleaning(text,stem_flag=False,lem_flag=True,lst_stopwords=None):\n",
    "    text = text.replace('\\\\n',' ')\n",
    "    text = text.replace('\\n',' ')\n",
    "    text = re.sub(r'[^\\w\\s]',' ',str(text).lower().strip())\n",
    "    text = re.sub(\"^\\d+\\s|\\s\\d+\\s|\\s\\d+$\", \" \", str(text).lower().strip())\n",
    "    text = re.sub(' 0 ',' ',str(text).lower().strip())\n",
    "    text = re.sub(' 00 ',' ',str(text).lower().strip())\n",
    "    text = re.sub(' 000 ',' ',str(text).lower().strip())\n",
    "    \n",
    "    lst_text = text.split()\n",
    "    if lst_stopwords is not None:\n",
    "        lst_text = [word for word in lst_text if word not in lst_stopwords]\n",
    "    if stem_flag == True:\n",
    "        ps = nltk.stem.porter.PorterStemmer()\n",
    "        lst_text = [ps.stem(word) for word in lst_text]\n",
    "    if lem_flag == True:\n",
    "        lem = nltk.stem.wordnet.WordNetLemmatizer()\n",
    "        lst_text = [lem.lemmatize(word) for word in lst_text]\n",
    "    lst_text = \" \".join(lst_text)\n",
    "    return lst_text"
   ]
  },
  {
   "cell_type": "code",
   "execution_count": 15,
   "metadata": {},
   "outputs": [],
   "source": [
    "df['Text_new'] = df['Q&A'].apply(lambda x:text_cleaning(x,stem_flag=False,lem_flag=True,lst_stopwords=lst_stopwords))"
   ]
  },
  {
   "cell_type": "code",
   "execution_count": 16,
   "metadata": {},
   "outputs": [
    {
     "data": {
      "text/html": [
       "<div>\n",
       "<style scoped>\n",
       "    .dataframe tbody tr th:only-of-type {\n",
       "        vertical-align: middle;\n",
       "    }\n",
       "\n",
       "    .dataframe tbody tr th {\n",
       "        vertical-align: top;\n",
       "    }\n",
       "\n",
       "    .dataframe thead th {\n",
       "        text-align: right;\n",
       "    }\n",
       "</style>\n",
       "<table border=\"1\" class=\"dataframe\">\n",
       "  <thead>\n",
       "    <tr style=\"text-align: right;\">\n",
       "      <th></th>\n",
       "      <th>target</th>\n",
       "      <th>question_title</th>\n",
       "      <th>question_content</th>\n",
       "      <th>best_answer</th>\n",
       "      <th>Q</th>\n",
       "      <th>Q&amp;A</th>\n",
       "      <th>Text_new</th>\n",
       "    </tr>\n",
       "  </thead>\n",
       "  <tbody>\n",
       "    <tr>\n",
       "      <th>1258846</th>\n",
       "      <td>4</td>\n",
       "      <td>i would like to know what day, month, and year...</td>\n",
       "      <td></td>\n",
       "      <td>350,000 days = 958 non-leap years, 330 days.\\n...</td>\n",
       "      <td>i would like to know what day, month, and year...</td>\n",
       "      <td>i would like to know what day, month, and year...</td>\n",
       "      <td>would like know day month year would day today...</td>\n",
       "    </tr>\n",
       "    <tr>\n",
       "      <th>1232104</th>\n",
       "      <td>2</td>\n",
       "      <td>what percent of fingerpring matches are false ...</td>\n",
       "      <td></td>\n",
       "      <td>none all fingerprints are unique</td>\n",
       "      <td>what percent of fingerpring matches are false ...</td>\n",
       "      <td>what percent of fingerpring matches are false ...</td>\n",
       "      <td>percent fingerpring match false positive none ...</td>\n",
       "    </tr>\n",
       "    <tr>\n",
       "      <th>1133312</th>\n",
       "      <td>8</td>\n",
       "      <td>Not sure if any of you read this before...?</td>\n",
       "      <td>Mr Honda, of the Honda Motorcycle Corporation,...</td>\n",
       "      <td>Good one, and no, never heard it before.</td>\n",
       "      <td>Not sure if any of you read this before...?Mr ...</td>\n",
       "      <td>Not sure if any of you read this before...?Mr ...</td>\n",
       "      <td>sure read mr honda honda motorcycle corporatio...</td>\n",
       "    </tr>\n",
       "    <tr>\n",
       "      <th>1372500</th>\n",
       "      <td>8</td>\n",
       "      <td>How do people wiggle their ears?</td>\n",
       "      <td></td>\n",
       "      <td>I can do this.  You have to relax and then ten...</td>\n",
       "      <td>How do people wiggle their ears?</td>\n",
       "      <td>How do people wiggle their ears?I can do this....</td>\n",
       "      <td>people wiggle ear relax tense scalp muscle tak...</td>\n",
       "    </tr>\n",
       "    <tr>\n",
       "      <th>1354842</th>\n",
       "      <td>4</td>\n",
       "      <td>Why does it seem that so many people today are...</td>\n",
       "      <td>Should concern for proper grammar and correct ...</td>\n",
       "      <td>me am not to be undersatnd youre qestion. what...</td>\n",
       "      <td>Why does it seem that so many people today are...</td>\n",
       "      <td>Why does it seem that so many people today are...</td>\n",
       "      <td>seem many people today embarassed bad grammar ...</td>\n",
       "    </tr>\n",
       "    <tr>\n",
       "      <th>1183087</th>\n",
       "      <td>4</td>\n",
       "      <td>is it better to get a diploma or a GED?</td>\n",
       "      <td>i got expelled from school and i could get my ...</td>\n",
       "      <td>This may sound weird.  \\n\\n If I were in your ...</td>\n",
       "      <td>is it better to get a diploma or a GED?i got e...</td>\n",
       "      <td>is it better to get a diploma or a GED?i got e...</td>\n",
       "      <td>better get diploma ged got expelled school cou...</td>\n",
       "    </tr>\n",
       "    <tr>\n",
       "      <th>768519</th>\n",
       "      <td>4</td>\n",
       "      <td>When are the isc results 2006 being declared a...</td>\n",
       "      <td></td>\n",
       "      <td>today</td>\n",
       "      <td>When are the isc results 2006 being declared a...</td>\n",
       "      <td>When are the isc results 2006 being declared a...</td>\n",
       "      <td>isc result declared time today</td>\n",
       "    </tr>\n",
       "    <tr>\n",
       "      <th>1314210</th>\n",
       "      <td>10</td>\n",
       "      <td>Stop Africans migrating to Europe or face the ...</td>\n",
       "      <td>Africans say, we can stand to see others enjoy...</td>\n",
       "      <td>Too True. Why not? the 'West' continue to enjo...</td>\n",
       "      <td>Stop Africans migrating to Europe or face the ...</td>\n",
       "      <td>Stop Africans migrating to Europe or face the ...</td>\n",
       "      <td>stop african migrating europe face headache af...</td>\n",
       "    </tr>\n",
       "    <tr>\n",
       "      <th>1034944</th>\n",
       "      <td>6</td>\n",
       "      <td>shall i go to the pub and watch football?</td>\n",
       "      <td>or shall i stay in and get to bed early ready ...</td>\n",
       "      <td>get to the pub, have a good night</td>\n",
       "      <td>shall i go to the pub and watch football?or sh...</td>\n",
       "      <td>shall i go to the pub and watch football?or sh...</td>\n",
       "      <td>shall go pub watch football shall stay get bed...</td>\n",
       "    </tr>\n",
       "    <tr>\n",
       "      <th>285969</th>\n",
       "      <td>10</td>\n",
       "      <td>How does war change people's relationships?</td>\n",
       "      <td></td>\n",
       "      <td>depends on the person. i am against the war co...</td>\n",
       "      <td>How does war change people's relationships?</td>\n",
       "      <td>How does war change people's relationships?dep...</td>\n",
       "      <td>war change people relationship depends person ...</td>\n",
       "    </tr>\n",
       "  </tbody>\n",
       "</table>\n",
       "</div>"
      ],
      "text/plain": [
       "         target                                     question_title  \\\n",
       "1258846       4  i would like to know what day, month, and year...   \n",
       "1232104       2  what percent of fingerpring matches are false ...   \n",
       "1133312       8        Not sure if any of you read this before...?   \n",
       "1372500       8                   How do people wiggle their ears?   \n",
       "1354842       4  Why does it seem that so many people today are...   \n",
       "1183087       4            is it better to get a diploma or a GED?   \n",
       "768519        4  When are the isc results 2006 being declared a...   \n",
       "1314210      10  Stop Africans migrating to Europe or face the ...   \n",
       "1034944       6          shall i go to the pub and watch football?   \n",
       "285969       10        How does war change people's relationships?   \n",
       "\n",
       "                                          question_content  \\\n",
       "1258846                                                      \n",
       "1232104                                                      \n",
       "1133312  Mr Honda, of the Honda Motorcycle Corporation,...   \n",
       "1372500                                                      \n",
       "1354842  Should concern for proper grammar and correct ...   \n",
       "1183087  i got expelled from school and i could get my ...   \n",
       "768519                                                       \n",
       "1314210  Africans say, we can stand to see others enjoy...   \n",
       "1034944  or shall i stay in and get to bed early ready ...   \n",
       "285969                                                       \n",
       "\n",
       "                                               best_answer  \\\n",
       "1258846  350,000 days = 958 non-leap years, 330 days.\\n...   \n",
       "1232104                   none all fingerprints are unique   \n",
       "1133312           Good one, and no, never heard it before.   \n",
       "1372500  I can do this.  You have to relax and then ten...   \n",
       "1354842  me am not to be undersatnd youre qestion. what...   \n",
       "1183087  This may sound weird.  \\n\\n If I were in your ...   \n",
       "768519                                               today   \n",
       "1314210  Too True. Why not? the 'West' continue to enjo...   \n",
       "1034944                  get to the pub, have a good night   \n",
       "285969   depends on the person. i am against the war co...   \n",
       "\n",
       "                                                         Q  \\\n",
       "1258846  i would like to know what day, month, and year...   \n",
       "1232104  what percent of fingerpring matches are false ...   \n",
       "1133312  Not sure if any of you read this before...?Mr ...   \n",
       "1372500                   How do people wiggle their ears?   \n",
       "1354842  Why does it seem that so many people today are...   \n",
       "1183087  is it better to get a diploma or a GED?i got e...   \n",
       "768519   When are the isc results 2006 being declared a...   \n",
       "1314210  Stop Africans migrating to Europe or face the ...   \n",
       "1034944  shall i go to the pub and watch football?or sh...   \n",
       "285969         How does war change people's relationships?   \n",
       "\n",
       "                                                       Q&A  \\\n",
       "1258846  i would like to know what day, month, and year...   \n",
       "1232104  what percent of fingerpring matches are false ...   \n",
       "1133312  Not sure if any of you read this before...?Mr ...   \n",
       "1372500  How do people wiggle their ears?I can do this....   \n",
       "1354842  Why does it seem that so many people today are...   \n",
       "1183087  is it better to get a diploma or a GED?i got e...   \n",
       "768519   When are the isc results 2006 being declared a...   \n",
       "1314210  Stop Africans migrating to Europe or face the ...   \n",
       "1034944  shall i go to the pub and watch football?or sh...   \n",
       "285969   How does war change people's relationships?dep...   \n",
       "\n",
       "                                                  Text_new  \n",
       "1258846  would like know day month year would day today...  \n",
       "1232104  percent fingerpring match false positive none ...  \n",
       "1133312  sure read mr honda honda motorcycle corporatio...  \n",
       "1372500  people wiggle ear relax tense scalp muscle tak...  \n",
       "1354842  seem many people today embarassed bad grammar ...  \n",
       "1183087  better get diploma ged got expelled school cou...  \n",
       "768519                      isc result declared time today  \n",
       "1314210  stop african migrating europe face headache af...  \n",
       "1034944  shall go pub watch football shall stay get bed...  \n",
       "285969   war change people relationship depends person ...  "
      ]
     },
     "execution_count": 16,
     "metadata": {},
     "output_type": "execute_result"
    }
   ],
   "source": [
    "df.head(10)"
   ]
  },
  {
   "cell_type": "code",
   "execution_count": null,
   "metadata": {},
   "outputs": [],
   "source": []
  },
  {
   "cell_type": "code",
   "execution_count": null,
   "metadata": {},
   "outputs": [],
   "source": []
  },
  {
   "cell_type": "code",
   "execution_count": 17,
   "metadata": {},
   "outputs": [],
   "source": [
    "df['word_count'] = df['Q&A'].apply(lambda x:len(str(x).split(\" \")))\n",
    "df['char_count'] = df['Q&A'].apply(lambda x: sum(len(word)for word in str(x).split(\" \")))\n",
    "df['sentence_count'] = df['Q&A'].apply(lambda x:len(str(x).split(\".\")))\n",
    "df['word_length'] = df['char_count']/df['word_count']\n",
    "df['word_per_sentence'] = df['word_count']/df['sentence_count']"
   ]
  },
  {
   "cell_type": "code",
   "execution_count": 18,
   "metadata": {},
   "outputs": [
    {
     "data": {
      "text/html": [
       "<div>\n",
       "<style scoped>\n",
       "    .dataframe tbody tr th:only-of-type {\n",
       "        vertical-align: middle;\n",
       "    }\n",
       "\n",
       "    .dataframe tbody tr th {\n",
       "        vertical-align: top;\n",
       "    }\n",
       "\n",
       "    .dataframe thead th {\n",
       "        text-align: right;\n",
       "    }\n",
       "</style>\n",
       "<table border=\"1\" class=\"dataframe\">\n",
       "  <thead>\n",
       "    <tr style=\"text-align: right;\">\n",
       "      <th></th>\n",
       "      <th>target</th>\n",
       "      <th>question_title</th>\n",
       "      <th>question_content</th>\n",
       "      <th>best_answer</th>\n",
       "      <th>Q</th>\n",
       "      <th>Q&amp;A</th>\n",
       "      <th>Text_new</th>\n",
       "      <th>word_count</th>\n",
       "      <th>char_count</th>\n",
       "      <th>sentence_count</th>\n",
       "      <th>word_length</th>\n",
       "      <th>word_per_sentence</th>\n",
       "    </tr>\n",
       "  </thead>\n",
       "  <tbody>\n",
       "    <tr>\n",
       "      <th>1258846</th>\n",
       "      <td>4</td>\n",
       "      <td>i would like to know what day, month, and year...</td>\n",
       "      <td></td>\n",
       "      <td>350,000 days = 958 non-leap years, 330 days.\\n...</td>\n",
       "      <td>i would like to know what day, month, and year...</td>\n",
       "      <td>i would like to know what day, month, and year...</td>\n",
       "      <td>would like know day month year would day today...</td>\n",
       "      <td>52</td>\n",
       "      <td>249</td>\n",
       "      <td>4</td>\n",
       "      <td>4.788462</td>\n",
       "      <td>13.0</td>\n",
       "    </tr>\n",
       "    <tr>\n",
       "      <th>1232104</th>\n",
       "      <td>2</td>\n",
       "      <td>what percent of fingerpring matches are false ...</td>\n",
       "      <td></td>\n",
       "      <td>none all fingerprints are unique</td>\n",
       "      <td>what percent of fingerpring matches are false ...</td>\n",
       "      <td>what percent of fingerpring matches are false ...</td>\n",
       "      <td>percent fingerpring match false positive none ...</td>\n",
       "      <td>12</td>\n",
       "      <td>76</td>\n",
       "      <td>1</td>\n",
       "      <td>6.333333</td>\n",
       "      <td>12.0</td>\n",
       "    </tr>\n",
       "  </tbody>\n",
       "</table>\n",
       "</div>"
      ],
      "text/plain": [
       "         target                                     question_title  \\\n",
       "1258846       4  i would like to know what day, month, and year...   \n",
       "1232104       2  what percent of fingerpring matches are false ...   \n",
       "\n",
       "        question_content                                        best_answer  \\\n",
       "1258846                   350,000 days = 958 non-leap years, 330 days.\\n...   \n",
       "1232104                                    none all fingerprints are unique   \n",
       "\n",
       "                                                         Q  \\\n",
       "1258846  i would like to know what day, month, and year...   \n",
       "1232104  what percent of fingerpring matches are false ...   \n",
       "\n",
       "                                                       Q&A  \\\n",
       "1258846  i would like to know what day, month, and year...   \n",
       "1232104  what percent of fingerpring matches are false ...   \n",
       "\n",
       "                                                  Text_new  word_count  \\\n",
       "1258846  would like know day month year would day today...          52   \n",
       "1232104  percent fingerpring match false positive none ...          12   \n",
       "\n",
       "         char_count  sentence_count  word_length  word_per_sentence  \n",
       "1258846         249               4     4.788462               13.0  \n",
       "1232104          76               1     6.333333               12.0  "
      ]
     },
     "execution_count": 18,
     "metadata": {},
     "output_type": "execute_result"
    }
   ],
   "source": [
    "df.head(2)"
   ]
  },
  {
   "cell_type": "code",
   "execution_count": 19,
   "metadata": {},
   "outputs": [
    {
     "data": {
      "text/plain": [
       "10"
      ]
     },
     "execution_count": 19,
     "metadata": {},
     "output_type": "execute_result"
    }
   ],
   "source": [
    "colors=['b','g','r','k','magenta','orange','aqua','violet','peachpuff','pink']\n",
    "len(colors)"
   ]
  },
  {
   "cell_type": "code",
   "execution_count": 20,
   "metadata": {},
   "outputs": [
    {
     "data": {
      "image/png": "[encoded data removed]",
      "text/plain": [
       "<Figure size 1296x432 with 2 Axes>"
      ]
     },
     "metadata": {
      "needs_background": "light"
     },
     "output_type": "display_data"
    }
   ],
   "source": [
    "plt_list = ['word_count','char_count','sentence_count','word_length','word_per_sentence']\n",
    "fig,ax = plt.subplots(1,2,figsize=(18,6))\n",
    "for i in range(5):#df.target.unique():\n",
    "    sns.histplot(df[df.target==i+1][plt_list[1]],kde=False,bins=10,ax=ax[0],alpha=0.3,color=colors[i],label=target_classes[i]);\n",
    "    sns.histplot(df[df.target==i+1][plt_list[1]],kde=True,bins=10,ax=ax[1],alpha=0.3,color=colors[i],label=target_classes[i]);\n",
    "ax[0].legend();\n",
    "ax[1].legend();\n",
    "plt.show();"
   ]
  },
  {
   "cell_type": "code",
   "execution_count": 21,
   "metadata": {},
   "outputs": [
    {
     "data": {
      "text/plain": [
       "target\n",
       "1     71\n",
       "2     66\n",
       "3     74\n",
       "4     51\n",
       "5     59\n",
       "6     45\n",
       "7     53\n",
       "8     41\n",
       "9     75\n",
       "10    72\n",
       "Name: word_count, dtype: int64"
      ]
     },
     "execution_count": 21,
     "metadata": {},
     "output_type": "execute_result"
    }
   ],
   "source": [
    "df.groupby('target').word_count.median()"
   ]
  },
  {
   "cell_type": "code",
   "execution_count": 22,
   "metadata": {},
   "outputs": [
    {
     "data": {
      "image/png": "[encoded data removed]",
      "text/plain": [
       "<Figure size 432x288 with 1 Axes>"
      ]
     },
     "metadata": {
      "needs_background": "light"
     },
     "output_type": "display_data"
    }
   ],
   "source": [
    "ax = sns.boxplot(x=\"target\", y=\"word_count\", data=df)\n",
    "ax.set_yscale('log')"
   ]
  },
  {
   "cell_type": "code",
   "execution_count": 23,
   "metadata": {},
   "outputs": [
    {
     "data": {
      "image/png": "[encoded data removed]",
      "text/plain": [
       "<Figure size 432x288 with 1 Axes>"
      ]
     },
     "metadata": {
      "needs_background": "light"
     },
     "output_type": "display_data"
    }
   ],
   "source": [
    "ax = sns.boxplot(x=\"target\", y=\"char_count\", data=df)\n",
    "ax.set_yscale('log')"
   ]
  },
  {
   "cell_type": "code",
   "execution_count": 24,
   "metadata": {},
   "outputs": [
    {
     "data": {
      "image/png": "[encoded data removed]",
      "text/plain": [
       "<Figure size 432x288 with 1 Axes>"
      ]
     },
     "metadata": {
      "needs_background": "light"
     },
     "output_type": "display_data"
    }
   ],
   "source": [
    "ax = sns.boxplot(x=\"target\", y=\"sentence_count\", data=df)\n",
    "ax.set_yscale('log')"
   ]
  },
  {
   "cell_type": "code",
   "execution_count": 25,
   "metadata": {},
   "outputs": [
    {
     "data": {
      "image/png": "[encoded data removed]",
      "text/plain": [
       "<Figure size 432x288 with 1 Axes>"
      ]
     },
     "metadata": {
      "needs_background": "light"
     },
     "output_type": "display_data"
    }
   ],
   "source": [
    "ax = sns.boxplot(x=\"target\", y=\"word_per_sentence\", data=df)\n",
    "ax.set_yscale('log')"
   ]
  },
  {
   "cell_type": "code",
   "execution_count": null,
   "metadata": {},
   "outputs": [],
   "source": []
  },
  {
   "cell_type": "markdown",
   "metadata": {},
   "source": [
    "### Tf-idf Method for text classification"
   ]
  },
  {
   "cell_type": "code",
   "execution_count": 26,
   "metadata": {},
   "outputs": [],
   "source": [
    "X = df.Text_new\n",
    "y = df.target"
   ]
  },
  {
   "cell_type": "code",
   "execution_count": 27,
   "metadata": {},
   "outputs": [],
   "source": [
    "X_train,X_test,y_train,y_test = train_test_split(X,y,stratify=y,test_size=0.1,random_state=20)"
   ]
  },
  {
   "cell_type": "code",
   "execution_count": 28,
   "metadata": {},
   "outputs": [],
   "source": [
    "vect = TfidfVectorizer(max_features=5000,ngram_range=(1,2))"
   ]
  },
  {
   "cell_type": "code",
   "execution_count": 29,
   "metadata": {},
   "outputs": [],
   "source": [
    "XX_train = vect.fit_transform(X_train)"
   ]
  },
  {
   "cell_type": "code",
   "execution_count": 30,
   "metadata": {},
   "outputs": [],
   "source": [
    "XX_test = vect.transform(X_test)"
   ]
  },
  {
   "cell_type": "code",
   "execution_count": null,
   "metadata": {},
   "outputs": [],
   "source": []
  },
  {
   "cell_type": "code",
   "execution_count": 31,
   "metadata": {},
   "outputs": [],
   "source": [
    "vocab = vect.vocabulary_"
   ]
  },
  {
   "cell_type": "code",
   "execution_count": null,
   "metadata": {},
   "outputs": [],
   "source": []
  },
  {
   "cell_type": "code",
   "execution_count": 32,
   "metadata": {},
   "outputs": [],
   "source": [
    "# sns.heatmap(XX_train.todense()[:,np.random.randint(0,XX_train.shape[1],100)]==0 , vmin=0 , vmax=1,cbar=False).set_title('Sample of Sparse Matrix');"
   ]
  },
  {
   "cell_type": "code",
   "execution_count": 33,
   "metadata": {},
   "outputs": [
    {
     "data": {
      "text/plain": [
       "4891"
      ]
     },
     "execution_count": 33,
     "metadata": {},
     "output_type": "execute_result"
    }
   ],
   "source": [
    "X_names = vect.get_feature_names()\n",
    "df_features = pd.DataFrame()\n",
    "for category in np.unique(y_train):\n",
    "    chi2,p = feature_selection.chi2(XX_train,y_train==category)\n",
    "    df_features = df_features.append(pd.DataFrame({'feature':X_names,'Score':1-p,\"y\":category}))\n",
    "    df_features = df_features.sort_values([\"y\",\"Score\"],ascending=[True,False])\n",
    "    df_features = df_features[df_features.Score>0.95]\n",
    "\n",
    "X_names_unique = df_features.feature.unique().tolist()\n",
    "len(X_names_unique)"
   ]
  },
  {
   "cell_type": "code",
   "execution_count": 34,
   "metadata": {},
   "outputs": [
    {
     "data": {
      "text/html": [
       "<div>\n",
       "<style scoped>\n",
       "    .dataframe tbody tr th:only-of-type {\n",
       "        vertical-align: middle;\n",
       "    }\n",
       "\n",
       "    .dataframe tbody tr th {\n",
       "        vertical-align: top;\n",
       "    }\n",
       "\n",
       "    .dataframe thead th {\n",
       "        text-align: right;\n",
       "    }\n",
       "</style>\n",
       "<table border=\"1\" class=\"dataframe\">\n",
       "  <thead>\n",
       "    <tr style=\"text-align: right;\">\n",
       "      <th></th>\n",
       "      <th>feature</th>\n",
       "      <th>Score</th>\n",
       "      <th>y</th>\n",
       "    </tr>\n",
       "  </thead>\n",
       "  <tbody>\n",
       "    <tr>\n",
       "      <th>42</th>\n",
       "      <td>abraham</td>\n",
       "      <td>1.0</td>\n",
       "      <td>1</td>\n",
       "    </tr>\n",
       "    <tr>\n",
       "      <th>52</th>\n",
       "      <td>accent</td>\n",
       "      <td>1.0</td>\n",
       "      <td>1</td>\n",
       "    </tr>\n",
       "    <tr>\n",
       "      <th>53</th>\n",
       "      <td>accept</td>\n",
       "      <td>1.0</td>\n",
       "      <td>1</td>\n",
       "    </tr>\n",
       "    <tr>\n",
       "      <th>80</th>\n",
       "      <td>adam</td>\n",
       "      <td>1.0</td>\n",
       "      <td>1</td>\n",
       "    </tr>\n",
       "    <tr>\n",
       "      <th>142</th>\n",
       "      <td>allah</td>\n",
       "      <td>1.0</td>\n",
       "      <td>1</td>\n",
       "    </tr>\n",
       "  </tbody>\n",
       "</table>\n",
       "</div>"
      ],
      "text/plain": [
       "     feature  Score  y\n",
       "42   abraham    1.0  1\n",
       "52    accent    1.0  1\n",
       "53    accept    1.0  1\n",
       "80      adam    1.0  1\n",
       "142    allah    1.0  1"
      ]
     },
     "execution_count": 34,
     "metadata": {},
     "output_type": "execute_result"
    }
   ],
   "source": [
    "df_features.head(5)"
   ]
  },
  {
   "cell_type": "code",
   "execution_count": 35,
   "metadata": {},
   "outputs": [
    {
     "name": "stdout",
     "output_type": "stream",
     "text": [
      "category 1: Society & Culture\n",
      "length of category 1: 2139\n",
      "abraham,accent,accept,adam,allah,ancient,angel,arabic,atheist,being,belief,believe,believe god,believer,believing,bible,bible say,biblical,black,black people,bless,blessed,blessing,book,born,catholic,catholic church,celebrate,chinese,christ\n",
      "\n",
      "category 2: Science & Mathematics\n",
      "length of category 2: 3103\n",
      "10,25,2x,3x,4x,5x,6x,acceleration,acid,air,algebra,american,amount,analysis,angle,animal,ant,anyone,area,ask,atmosphere,atom,atomic,axis,bacteria,bad,balloon,bang,base,beam\n",
      "\n",
      "category 3: Health\n",
      "length of category 3: 2837\n",
      "ab,abnormal,acid,acne,active,addiction,affect,aid,alcohol,allergic,allergy,also,american,ankle,antibiotic,anxiety,appointment,arm,arthritis,asleep,avoid,bacteria,bad,bath,bed,belly,best way,bigger,bipolar,birth\n",
      "\n",
      "category 4: Education & Reference\n",
      "length of category 4: 1816\n",
      "academic,admission,algebra,ap,art,assignment,attend,author,bachelor,biology,book,campus,career,class,classroom,college,course,degree,dictionary,diploma,economics,ed,edu,education,educational,en wikipedia,engineering,english,essay,exam\n",
      "\n",
      "category 5: Computers & Internet\n",
      "length of category 5: 3471\n",
      "3d,access,account,ad,add,address,administrator,adobe,advanced,aim,allows,amd,american,animation,anti,anti virus,antivirus,aol,apple,application,asp,aspx,attachment,audio,automatically,available,avg,background,backup,bar\n",
      "\n",
      "category 6: Sports\n",
      "length of category 6: 2844\n",
      "2nd,allen,argentina,arsenal,athlete,atlanta,au,australia,ball,baseball,basketball,bat,bay,bear,beat,ben,bench,best,better,bike,boat,boston,bowl,boxing,brasil,brazil,bull,business,captain,carolina\n",
      "\n",
      "category 7: Business & Finance\n",
      "length of category 7: 1803\n",
      "account,accounting,advertise,advertising,agency,agent,amount,annual,apartment,asset,bank,bank account,bankruptcy,bill,bos,broker,bureau,business,business plan,buy,buyer,buying,capital,card,career,cash,check,commission,company,consumer\n",
      "\n",
      "category 8: Entertainment & Music\n",
      "length of category 8: 2538\n",
      "actor,actress,album,american idol,angel,anime,anyone,anyone know,artist,awesome,band,bass,beautiful,blonde,bob,bow,brown,cartoon,cd,celebrity,channel,character,chorus,chris,classic,clip,comedy,comic,commercial,computer\n",
      "\n",
      "category 9: Family & Relationships\n",
      "length of category 9: 3291\n",
      "act,act like,advice,affair,afraid,age,alone,alot,always,american,anymore,anything,around,ask,asked,asking,attention,attracted,attraction,attractive,away,back,bad,beautiful,best friend,bf,birthday,boy,boyfriend,break\n",
      "\n",
      "category 10: Politics & Government\n",
      "length of category 10: 2392\n",
      "11,abortion,accused,act,action,administration,afghanistan,agency,agenda,agree,air force,al,alien,allowed,amendment,america,american,another country,appeal,approval,arab,armed,army,arrest,arrested,attack,attacked,attorney,authority,benefit\n",
      "\n"
     ]
    }
   ],
   "source": [
    "for category in np.unique(y_train):\n",
    "    print(f'category {category}:',target_classes[category-1])\n",
    "    print(f'length of category {category}:',len(df_features[df_features.y==category]))\n",
    "    print(\",\".join(df_features[df_features.y==category].feature[:30]))\n",
    "    print(\"\")"
   ]
  },
  {
   "cell_type": "code",
   "execution_count": 36,
   "metadata": {},
   "outputs": [],
   "source": [
    "vect = TfidfVectorizer(vocabulary=X_names_unique)"
   ]
  },
  {
   "cell_type": "code",
   "execution_count": 37,
   "metadata": {},
   "outputs": [
    {
     "data": {
      "text/plain": [
       "(270000, 4891)"
      ]
     },
     "execution_count": 37,
     "metadata": {},
     "output_type": "execute_result"
    }
   ],
   "source": [
    "XX_train = vect.fit_transform(X_train)\n",
    "XX_train.shape"
   ]
  },
  {
   "cell_type": "code",
   "execution_count": 38,
   "metadata": {},
   "outputs": [],
   "source": [
    "XX_test = vect.transform(X_test)"
   ]
  },
  {
   "cell_type": "code",
   "execution_count": 39,
   "metadata": {
    "scrolled": true
   },
   "outputs": [],
   "source": [
    "# sns.heatmap(XX_train.todense()[:,np.random.randint(0,XX_train.shape[1],100)]==0 , vmin=0 , vmax=1,cbar=False).set_title('Sample of Sparse Matrix');"
   ]
  },
  {
   "cell_type": "code",
   "execution_count": null,
   "metadata": {},
   "outputs": [],
   "source": []
  },
  {
   "cell_type": "code",
   "execution_count": null,
   "metadata": {},
   "outputs": [],
   "source": []
  },
  {
   "cell_type": "code",
   "execution_count": null,
   "metadata": {},
   "outputs": [],
   "source": []
  },
  {
   "cell_type": "code",
   "execution_count": 40,
   "metadata": {},
   "outputs": [],
   "source": [
    "# Creating a cloud of words"
   ]
  },
  {
   "cell_type": "code",
   "execution_count": 41,
   "metadata": {},
   "outputs": [],
   "source": [
    "def plot_cloud(wordcloud):\n",
    "    plt.figure(figsize=(10,10))\n",
    "    plt.imshow(wordcloud)\n",
    "    plt.axis('off')"
   ]
  },
  {
   "cell_type": "code",
   "execution_count": 42,
   "metadata": {},
   "outputs": [
    {
     "data": {
      "text/plain": [
       "'2nd allen argentina arsenal athlete atlanta au australia ball baseball basketball bat bay bear beat ben bench best better bike boat boston bowl boxing brasil brazil bull business captain carolina'"
      ]
     },
     "execution_count": 42,
     "metadata": {},
     "output_type": "execute_result"
    }
   ],
   "source": [
    "Text = \" \".join(df_features[df_features.y==6].feature[:30])\n",
    "Text"
   ]
  },
  {
   "cell_type": "code",
   "execution_count": 43,
   "metadata": {},
   "outputs": [],
   "source": [
    "wordcloud = WordCloud(width=1000,height=880,random_state=1,background_color='black',colormap='Set2',\n",
    "                      collocations=False,stopwords=lst_stopwords).generate(Text)"
   ]
  },
  {
   "cell_type": "code",
   "execution_count": 44,
   "metadata": {},
   "outputs": [
    {
     "data": {
      "image/png": "[encoded data removed]",
      "text/plain": [
       "<Figure size 720x720 with 1 Axes>"
      ]
     },
     "metadata": {
      "needs_background": "light"
     },
     "output_type": "display_data"
    }
   ],
   "source": [
    "plot_cloud(wordcloud)"
   ]
  },
  {
   "cell_type": "code",
   "execution_count": null,
   "metadata": {},
   "outputs": [],
   "source": []
  },
  {
   "cell_type": "code",
   "execution_count": null,
   "metadata": {},
   "outputs": [],
   "source": []
  },
  {
   "cell_type": "code",
   "execution_count": 45,
   "metadata": {},
   "outputs": [],
   "source": [
    "cvec = CountVectorizer(max_features=5000, ngram_range=(1, 2),stop_words='english')"
   ]
  },
  {
   "cell_type": "code",
   "execution_count": 46,
   "metadata": {},
   "outputs": [],
   "source": [
    "X_train_cvec = cvec.fit_transform(X_train)\n",
    "X_test_cvec  = cvec.transform(X_test)"
   ]
  },
  {
   "cell_type": "code",
   "execution_count": null,
   "metadata": {},
   "outputs": [],
   "source": []
  },
  {
   "cell_type": "code",
   "execution_count": null,
   "metadata": {},
   "outputs": [],
   "source": []
  },
  {
   "cell_type": "code",
   "execution_count": null,
   "metadata": {},
   "outputs": [],
   "source": []
  },
  {
   "cell_type": "markdown",
   "metadata": {},
   "source": [
    "### Naive Bayes Classifier\n",
    "In this section, we used Naive bayes classifer to fit our model to training data"
   ]
  },
  {
   "cell_type": "code",
   "execution_count": 47,
   "metadata": {},
   "outputs": [],
   "source": [
    "nb = naive_bayes.MultinomialNB()"
   ]
  },
  {
   "cell_type": "code",
   "execution_count": 48,
   "metadata": {},
   "outputs": [],
   "source": [
    "# # pipeline\n",
    "# model = pipeline.Pipeline([(\"vectorizer\",vect),\n",
    "#                            (\"classifier\",nb)])"
   ]
  },
  {
   "cell_type": "code",
   "execution_count": 49,
   "metadata": {},
   "outputs": [
    {
     "data": {
      "text/plain": [
       "0.6648740740740741"
      ]
     },
     "execution_count": 49,
     "metadata": {},
     "output_type": "execute_result"
    }
   ],
   "source": [
    "cross_val_score(nb,XX_train,y_train,cv=5,n_jobs=-1).mean()"
   ]
  },
  {
   "cell_type": "code",
   "execution_count": 50,
   "metadata": {},
   "outputs": [
    {
     "data": {
      "text/plain": [
       "MultinomialNB()"
      ]
     },
     "execution_count": 50,
     "metadata": {},
     "output_type": "execute_result"
    }
   ],
   "source": [
    "# Train Classifier\n",
    "#model['classifier'].fit(XX_train,y_train)\n",
    "nb.fit(XX_train,y_train)"
   ]
  },
  {
   "cell_type": "code",
   "execution_count": 51,
   "metadata": {},
   "outputs": [],
   "source": [
    "## Test Classifier\n",
    "Predicted = nb.predict(XX_test)\n",
    "Predicted_prob = nb.predict_proba(XX_test)"
   ]
  },
  {
   "cell_type": "code",
   "execution_count": 52,
   "metadata": {},
   "outputs": [
    {
     "data": {
      "image/png": "[encoded data removed]",
      "text/plain": [
       "<Figure size 720x720 with 2 Axes>"
      ]
     },
     "metadata": {
      "needs_background": "light"
     },
     "output_type": "display_data"
    }
   ],
   "source": [
    "fig, ax = plt.subplots(figsize=(10, 10));\n",
    "plot_confusion_matrix(nb,XX_test,y_test,ax=ax);"
   ]
  },
  {
   "cell_type": "code",
   "execution_count": 53,
   "metadata": {},
   "outputs": [
    {
     "data": {
      "text/plain": [
       "0.6592"
      ]
     },
     "execution_count": 53,
     "metadata": {},
     "output_type": "execute_result"
    }
   ],
   "source": [
    "cross_val_score(nb,X_train_cvec,y_train,cv=5,n_jobs=-1).mean()"
   ]
  },
  {
   "cell_type": "code",
   "execution_count": null,
   "metadata": {},
   "outputs": [],
   "source": []
  },
  {
   "cell_type": "code",
   "execution_count": null,
   "metadata": {},
   "outputs": [],
   "source": []
  },
  {
   "cell_type": "markdown",
   "metadata": {},
   "source": [
    "## Logistic Regression Classifier\n",
    "In this section, we used logistic classifer to fit our model to training data"
   ]
  },
  {
   "cell_type": "code",
   "execution_count": 54,
   "metadata": {},
   "outputs": [],
   "source": [
    "model_lr = LogisticRegression(max_iter=5000)"
   ]
  },
  {
   "cell_type": "code",
   "execution_count": 55,
   "metadata": {},
   "outputs": [],
   "source": [
    "# # pipeline\n",
    "# model_lr = pipeline.Pipeline([(\"vectorizer\",vect),\n",
    "#                            (\"classifier\",lr)])"
   ]
  },
  {
   "cell_type": "code",
   "execution_count": 56,
   "metadata": {},
   "outputs": [
    {
     "data": {
      "text/plain": [
       "0.6816407407407408"
      ]
     },
     "execution_count": 56,
     "metadata": {},
     "output_type": "execute_result"
    }
   ],
   "source": [
    "cross_val_score(model_lr,XX_train,y_train,cv=5,n_jobs=-1).mean()"
   ]
  },
  {
   "cell_type": "code",
   "execution_count": 57,
   "metadata": {},
   "outputs": [
    {
     "data": {
      "text/plain": [
       "LogisticRegression(max_iter=5000)"
      ]
     },
     "execution_count": 57,
     "metadata": {},
     "output_type": "execute_result"
    }
   ],
   "source": [
    "# Train Classifier\n",
    "#model['classifier'].fit(XX_train,y_train)\n",
    "model_lr.fit(XX_train,y_train)"
   ]
  },
  {
   "cell_type": "code",
   "execution_count": 58,
   "metadata": {},
   "outputs": [],
   "source": [
    "## Test Classifier\n",
    "Predicted = model_lr.predict(XX_test)\n",
    "Predicted_prob = model_lr.predict_proba(XX_test)"
   ]
  },
  {
   "cell_type": "code",
   "execution_count": 59,
   "metadata": {},
   "outputs": [
    {
     "data": {
      "image/png": "[encoded data removed]",
      "text/plain": [
       "<Figure size 720x720 with 2 Axes>"
      ]
     },
     "metadata": {
      "needs_background": "light"
     },
     "output_type": "display_data"
    }
   ],
   "source": [
    "fig, ax = plt.subplots(figsize=(10, 10));\n",
    "plot_confusion_matrix(model_lr,XX_test,y_test,ax=ax);"
   ]
  },
  {
   "cell_type": "markdown",
   "metadata": {},
   "source": [
    "## Random Forest Classifier\n",
    "In this section, we will use random forest classiier to fit our model to the training dataset"
   ]
  },
  {
   "cell_type": "code",
   "execution_count": null,
   "metadata": {},
   "outputs": [],
   "source": [
    "model_rf = RandomForestClassifier(n_estimators=2000,max_depth=30,n_jobs=-1)"
   ]
  },
  {
   "cell_type": "code",
   "execution_count": null,
   "metadata": {},
   "outputs": [],
   "source": [
    "# # pipeline\n",
    "# model_rf = pipeline.Pipeline([(\"vectorizer\",vect),\n",
    "#                               (\"classifier\",rf)])"
   ]
  },
  {
   "cell_type": "code",
   "execution_count": null,
   "metadata": {},
   "outputs": [],
   "source": [
    "cross_val_score(model_rf,XX_train,y_train,cv=5,n_jobs=-1).mean()"
   ]
  },
  {
   "cell_type": "code",
   "execution_count": null,
   "metadata": {},
   "outputs": [],
   "source": [
    "model_rf.fit(XX_train,y_train)"
   ]
  },
  {
   "cell_type": "code",
   "execution_count": null,
   "metadata": {},
   "outputs": [],
   "source": [
    "## Test Classifier\n",
    "Predicted_rf = model_rf.predict(XX_test)\n",
    "Predicted_prob_rf = model_rf.predict_proba(XX_test)"
   ]
  },
  {
   "cell_type": "code",
   "execution_count": null,
   "metadata": {},
   "outputs": [],
   "source": [
    "fig, ax = plt.subplots(figsize=(10, 10));\n",
    "plot_confusion_matrix(model_rf,XX_test,y_test,ax=ax);"
   ]
  },
  {
   "cell_type": "code",
   "execution_count": null,
   "metadata": {},
   "outputs": [],
   "source": [
    "feature_names = list(X_names_unique)\n",
    "feature_scores = pd.DataFrame({'Mean Decrease Impurity' : model_rf.feature_importances_}, index=feature_names)\n",
    "feature_scores = feature_scores.sort_values(by='Mean Decrease Impurity', ascending=False)[:20]\n",
    "feature_scores.plot(kind='barh', color = 'b', alpha=0.3, figsize=(8,8))\n",
    "ax = plt.gca().invert_yaxis()\n",
    "leg = plt.legend( loc = 'lower right')"
   ]
  },
  {
   "cell_type": "code",
   "execution_count": null,
   "metadata": {},
   "outputs": [],
   "source": []
  },
  {
   "cell_type": "code",
   "execution_count": null,
   "metadata": {},
   "outputs": [],
   "source": []
  },
  {
   "cell_type": "code",
   "execution_count": null,
   "metadata": {},
   "outputs": [],
   "source": []
  },
  {
   "cell_type": "code",
   "execution_count": null,
   "metadata": {},
   "outputs": [],
   "source": [
    "classes = np.unique(y_test)\n",
    "y_test_dummy = pd.get_dummies(y_test).values\n",
    "\n",
    "accuracy = accuracy_score(y_test,Predicted)\n",
    "auc = roc_auc_score(y_test,Predicted_prob,multi_class='ovr')"
   ]
  },
  {
   "cell_type": "code",
   "execution_count": null,
   "metadata": {},
   "outputs": [],
   "source": [
    "fig,axs = plt.subplots(1,2,figsize=(18,7.5))\n",
    "for i in range(10):\n",
    "    # ROC Curve\n",
    "    fpr,tpr,thresholds = roc_curve(y_test_dummy[:,i],Predicted_prob[:,i])\n",
    "    axs[0].plot(fpr,tpr,lw=3,label=target_classes[i],color=colors[i])\n",
    "    axs[0].plot([0,1],[0,1],color='k',ls='--')\n",
    "    axs[0].set_xlabel('False Positive Rate')\n",
    "    axs[0].set_ylabel('True Positive Rate')\n",
    "    axs[0].legend()\n",
    "    axs[0].set_title('ROC Curve')\n",
    "    # Precision-Recall Curve\n",
    "    precision,recall,thresholds = precision_recall_curve(y_test_dummy[:,i],Predicted_prob[:,i])\n",
    "    axs[1].plot(recall,precision,label=target_classes[i],color=colors[i])\n",
    "    axs[1].set_xlabel('Recall')\n",
    "    axs[1].set_ylabel('Precision')\n",
    "    axs[1].set_title('Precision-Recall Curve')\n",
    "    axs[1].legend()\n",
    "    "
   ]
  },
  {
   "cell_type": "markdown",
   "metadata": {},
   "source": [
    "### GridSearch CV"
   ]
  },
  {
   "cell_type": "code",
   "execution_count": 110,
   "metadata": {},
   "outputs": [],
   "source": [
    "opt_model = pipeline.Pipeline([\n",
    "           ('vectopt', TfidfVectorizer()),\n",
    "           ('classifier', model_lr)])"
   ]
  },
  {
   "cell_type": "code",
   "execution_count": 111,
   "metadata": {},
   "outputs": [],
   "source": [
    "parameters = {\n",
    "    'vectopt__max_df': (0.98, 1.0),\n",
    "    'vectopt__min_df': (0.01, 0.02 ),\n",
    "    'vectopt__max_features': (2000, 5000, 10000),\n",
    "    'vectopt__ngram_range': ((1, 1), (1, 2), (1,3))  \n",
    "                }"
   ]
  },
  {
   "cell_type": "code",
   "execution_count": 112,
   "metadata": {},
   "outputs": [],
   "source": [
    "# lr_gs = GridSearchCV(opt_model,param_grid=parameters,cv=2,verbose=1,scoring='accuracy',n_jobs=-1)\n",
    "lr_gs = GridSearchCV(opt_model,param_grid=parameters,cv=5,verbose=1,n_jobs=-1)"
   ]
  },
  {
   "cell_type": "code",
   "execution_count": null,
   "metadata": {},
   "outputs": [
    {
     "name": "stdout",
     "output_type": "stream",
     "text": [
      "Fitting 5 folds for each of 36 candidates, totalling 180 fits\n"
     ]
    },
    {
     "name": "stderr",
     "output_type": "stream",
     "text": [
      "[Parallel(n_jobs=-1)]: Using backend LokyBackend with 72 concurrent workers.\n"
     ]
    }
   ],
   "source": [
    "lr_gs.fit(X_train,y_train)"
   ]
  },
  {
   "cell_type": "code",
   "execution_count": 99,
   "metadata": {
    "scrolled": true
   },
   "outputs": [],
   "source": [
    "e = pd.DataFrame(lr_gs.cv_results_)"
   ]
  },
  {
   "cell_type": "code",
   "execution_count": 104,
   "metadata": {
    "scrolled": true
   },
   "outputs": [
    {
     "data": {
      "text/html": [
       "<div>\n",
       "<style scoped>\n",
       "    .dataframe tbody tr th:only-of-type {\n",
       "        vertical-align: middle;\n",
       "    }\n",
       "\n",
       "    .dataframe tbody tr th {\n",
       "        vertical-align: top;\n",
       "    }\n",
       "\n",
       "    .dataframe thead th {\n",
       "        text-align: right;\n",
       "    }\n",
       "</style>\n",
       "<table border=\"1\" class=\"dataframe\">\n",
       "  <thead>\n",
       "    <tr style=\"text-align: right;\">\n",
       "      <th></th>\n",
       "      <th>mean_fit_time</th>\n",
       "      <th>std_fit_time</th>\n",
       "      <th>mean_score_time</th>\n",
       "      <th>std_score_time</th>\n",
       "      <th>param_vectopt__max_df</th>\n",
       "      <th>param_vectopt__max_features</th>\n",
       "      <th>param_vectopt__min_df</th>\n",
       "      <th>param_vectopt__ngram_range</th>\n",
       "      <th>params</th>\n",
       "      <th>split0_test_score</th>\n",
       "      <th>split1_test_score</th>\n",
       "      <th>mean_test_score</th>\n",
       "      <th>std_test_score</th>\n",
       "      <th>rank_test_score</th>\n",
       "    </tr>\n",
       "  </thead>\n",
       "  <tbody>\n",
       "    <tr>\n",
       "      <th>1</th>\n",
       "      <td>65.699461</td>\n",
       "      <td>1.052816</td>\n",
       "      <td>10.067201</td>\n",
       "      <td>1.407657</td>\n",
       "      <td>0.98</td>\n",
       "      <td>2000</td>\n",
       "      <td>0.01</td>\n",
       "      <td>(1, 2)</td>\n",
       "      <td>{'vectopt__max_df': 0.98, 'vectopt__max_featur...</td>\n",
       "      <td>0.566874</td>\n",
       "      <td>0.564444</td>\n",
       "      <td>0.565659</td>\n",
       "      <td>0.001215</td>\n",
       "      <td>1</td>\n",
       "    </tr>\n",
       "    <tr>\n",
       "      <th>2</th>\n",
       "      <td>109.451415</td>\n",
       "      <td>2.154058</td>\n",
       "      <td>12.584241</td>\n",
       "      <td>0.056680</td>\n",
       "      <td>0.98</td>\n",
       "      <td>2000</td>\n",
       "      <td>0.01</td>\n",
       "      <td>(1, 3)</td>\n",
       "      <td>{'vectopt__max_df': 0.98, 'vectopt__max_featur...</td>\n",
       "      <td>0.566874</td>\n",
       "      <td>0.564444</td>\n",
       "      <td>0.565659</td>\n",
       "      <td>0.001215</td>\n",
       "      <td>1</td>\n",
       "    </tr>\n",
       "    <tr>\n",
       "      <th>32</th>\n",
       "      <td>108.044366</td>\n",
       "      <td>5.137068</td>\n",
       "      <td>12.061401</td>\n",
       "      <td>0.740423</td>\n",
       "      <td>1</td>\n",
       "      <td>10000</td>\n",
       "      <td>0.01</td>\n",
       "      <td>(1, 3)</td>\n",
       "      <td>{'vectopt__max_df': 1.0, 'vectopt__max_feature...</td>\n",
       "      <td>0.566874</td>\n",
       "      <td>0.564444</td>\n",
       "      <td>0.565659</td>\n",
       "      <td>0.001215</td>\n",
       "      <td>1</td>\n",
       "    </tr>\n",
       "    <tr>\n",
       "      <th>31</th>\n",
       "      <td>68.789744</td>\n",
       "      <td>1.768978</td>\n",
       "      <td>8.484592</td>\n",
       "      <td>0.101755</td>\n",
       "      <td>1</td>\n",
       "      <td>10000</td>\n",
       "      <td>0.01</td>\n",
       "      <td>(1, 2)</td>\n",
       "      <td>{'vectopt__max_df': 1.0, 'vectopt__max_feature...</td>\n",
       "      <td>0.566874</td>\n",
       "      <td>0.564444</td>\n",
       "      <td>0.565659</td>\n",
       "      <td>0.001215</td>\n",
       "      <td>1</td>\n",
       "    </tr>\n",
       "    <tr>\n",
       "      <th>26</th>\n",
       "      <td>109.416539</td>\n",
       "      <td>1.750828</td>\n",
       "      <td>11.853248</td>\n",
       "      <td>0.023738</td>\n",
       "      <td>1</td>\n",
       "      <td>5000</td>\n",
       "      <td>0.01</td>\n",
       "      <td>(1, 3)</td>\n",
       "      <td>{'vectopt__max_df': 1.0, 'vectopt__max_feature...</td>\n",
       "      <td>0.566874</td>\n",
       "      <td>0.564444</td>\n",
       "      <td>0.565659</td>\n",
       "      <td>0.001215</td>\n",
       "      <td>1</td>\n",
       "    </tr>\n",
       "    <tr>\n",
       "      <th>7</th>\n",
       "      <td>68.094164</td>\n",
       "      <td>0.558520</td>\n",
       "      <td>10.153522</td>\n",
       "      <td>1.427916</td>\n",
       "      <td>0.98</td>\n",
       "      <td>5000</td>\n",
       "      <td>0.01</td>\n",
       "      <td>(1, 2)</td>\n",
       "      <td>{'vectopt__max_df': 0.98, 'vectopt__max_featur...</td>\n",
       "      <td>0.566874</td>\n",
       "      <td>0.564444</td>\n",
       "      <td>0.565659</td>\n",
       "      <td>0.001215</td>\n",
       "      <td>1</td>\n",
       "    </tr>\n",
       "    <tr>\n",
       "      <th>8</th>\n",
       "      <td>107.452776</td>\n",
       "      <td>2.136446</td>\n",
       "      <td>12.385799</td>\n",
       "      <td>0.121605</td>\n",
       "      <td>0.98</td>\n",
       "      <td>5000</td>\n",
       "      <td>0.01</td>\n",
       "      <td>(1, 3)</td>\n",
       "      <td>{'vectopt__max_df': 0.98, 'vectopt__max_featur...</td>\n",
       "      <td>0.566874</td>\n",
       "      <td>0.564444</td>\n",
       "      <td>0.565659</td>\n",
       "      <td>0.001215</td>\n",
       "      <td>1</td>\n",
       "    </tr>\n",
       "    <tr>\n",
       "      <th>25</th>\n",
       "      <td>70.405002</td>\n",
       "      <td>4.431756</td>\n",
       "      <td>8.577147</td>\n",
       "      <td>0.045715</td>\n",
       "      <td>1</td>\n",
       "      <td>5000</td>\n",
       "      <td>0.01</td>\n",
       "      <td>(1, 2)</td>\n",
       "      <td>{'vectopt__max_df': 1.0, 'vectopt__max_feature...</td>\n",
       "      <td>0.566874</td>\n",
       "      <td>0.564444</td>\n",
       "      <td>0.565659</td>\n",
       "      <td>0.001215</td>\n",
       "      <td>1</td>\n",
       "    </tr>\n",
       "    <tr>\n",
       "      <th>20</th>\n",
       "      <td>110.960746</td>\n",
       "      <td>1.488968</td>\n",
       "      <td>12.010169</td>\n",
       "      <td>0.025215</td>\n",
       "      <td>1</td>\n",
       "      <td>2000</td>\n",
       "      <td>0.01</td>\n",
       "      <td>(1, 3)</td>\n",
       "      <td>{'vectopt__max_df': 1.0, 'vectopt__max_feature...</td>\n",
       "      <td>0.566874</td>\n",
       "      <td>0.564444</td>\n",
       "      <td>0.565659</td>\n",
       "      <td>0.001215</td>\n",
       "      <td>1</td>\n",
       "    </tr>\n",
       "    <tr>\n",
       "      <th>19</th>\n",
       "      <td>68.339333</td>\n",
       "      <td>1.602056</td>\n",
       "      <td>8.562168</td>\n",
       "      <td>0.017590</td>\n",
       "      <td>1</td>\n",
       "      <td>2000</td>\n",
       "      <td>0.01</td>\n",
       "      <td>(1, 2)</td>\n",
       "      <td>{'vectopt__max_df': 1.0, 'vectopt__max_feature...</td>\n",
       "      <td>0.566874</td>\n",
       "      <td>0.564444</td>\n",
       "      <td>0.565659</td>\n",
       "      <td>0.001215</td>\n",
       "      <td>1</td>\n",
       "    </tr>\n",
       "    <tr>\n",
       "      <th>13</th>\n",
       "      <td>70.061380</td>\n",
       "      <td>3.199947</td>\n",
       "      <td>8.823983</td>\n",
       "      <td>0.337837</td>\n",
       "      <td>0.98</td>\n",
       "      <td>10000</td>\n",
       "      <td>0.01</td>\n",
       "      <td>(1, 2)</td>\n",
       "      <td>{'vectopt__max_df': 0.98, 'vectopt__max_featur...</td>\n",
       "      <td>0.566874</td>\n",
       "      <td>0.564444</td>\n",
       "      <td>0.565659</td>\n",
       "      <td>0.001215</td>\n",
       "      <td>1</td>\n",
       "    </tr>\n",
       "    <tr>\n",
       "      <th>14</th>\n",
       "      <td>115.617413</td>\n",
       "      <td>2.454541</td>\n",
       "      <td>12.171259</td>\n",
       "      <td>0.040491</td>\n",
       "      <td>0.98</td>\n",
       "      <td>10000</td>\n",
       "      <td>0.01</td>\n",
       "      <td>(1, 3)</td>\n",
       "      <td>{'vectopt__max_df': 0.98, 'vectopt__max_featur...</td>\n",
       "      <td>0.566874</td>\n",
       "      <td>0.564444</td>\n",
       "      <td>0.565659</td>\n",
       "      <td>0.001215</td>\n",
       "      <td>1</td>\n",
       "    </tr>\n",
       "    <tr>\n",
       "      <th>0</th>\n",
       "      <td>32.480093</td>\n",
       "      <td>0.518946</td>\n",
       "      <td>7.384467</td>\n",
       "      <td>0.506191</td>\n",
       "      <td>0.98</td>\n",
       "      <td>2000</td>\n",
       "      <td>0.01</td>\n",
       "      <td>(1, 1)</td>\n",
       "      <td>{'vectopt__max_df': 0.98, 'vectopt__max_featur...</td>\n",
       "      <td>0.566867</td>\n",
       "      <td>0.564437</td>\n",
       "      <td>0.565652</td>\n",
       "      <td>0.001215</td>\n",
       "      <td>13</td>\n",
       "    </tr>\n",
       "    <tr>\n",
       "      <th>30</th>\n",
       "      <td>37.588218</td>\n",
       "      <td>0.396123</td>\n",
       "      <td>5.582092</td>\n",
       "      <td>1.258304</td>\n",
       "      <td>1</td>\n",
       "      <td>10000</td>\n",
       "      <td>0.01</td>\n",
       "      <td>(1, 1)</td>\n",
       "      <td>{'vectopt__max_df': 1.0, 'vectopt__max_feature...</td>\n",
       "      <td>0.566867</td>\n",
       "      <td>0.564437</td>\n",
       "      <td>0.565652</td>\n",
       "      <td>0.001215</td>\n",
       "      <td>13</td>\n",
       "    </tr>\n",
       "    <tr>\n",
       "      <th>24</th>\n",
       "      <td>42.871072</td>\n",
       "      <td>1.536273</td>\n",
       "      <td>6.294987</td>\n",
       "      <td>0.094774</td>\n",
       "      <td>1</td>\n",
       "      <td>5000</td>\n",
       "      <td>0.01</td>\n",
       "      <td>(1, 1)</td>\n",
       "      <td>{'vectopt__max_df': 1.0, 'vectopt__max_feature...</td>\n",
       "      <td>0.566867</td>\n",
       "      <td>0.564437</td>\n",
       "      <td>0.565652</td>\n",
       "      <td>0.001215</td>\n",
       "      <td>13</td>\n",
       "    </tr>\n",
       "    <tr>\n",
       "      <th>18</th>\n",
       "      <td>40.957354</td>\n",
       "      <td>2.442234</td>\n",
       "      <td>7.855403</td>\n",
       "      <td>0.003592</td>\n",
       "      <td>1</td>\n",
       "      <td>2000</td>\n",
       "      <td>0.01</td>\n",
       "      <td>(1, 1)</td>\n",
       "      <td>{'vectopt__max_df': 1.0, 'vectopt__max_feature...</td>\n",
       "      <td>0.566867</td>\n",
       "      <td>0.564437</td>\n",
       "      <td>0.565652</td>\n",
       "      <td>0.001215</td>\n",
       "      <td>13</td>\n",
       "    </tr>\n",
       "    <tr>\n",
       "      <th>6</th>\n",
       "      <td>34.534378</td>\n",
       "      <td>0.349799</td>\n",
       "      <td>7.109649</td>\n",
       "      <td>0.306710</td>\n",
       "      <td>0.98</td>\n",
       "      <td>5000</td>\n",
       "      <td>0.01</td>\n",
       "      <td>(1, 1)</td>\n",
       "      <td>{'vectopt__max_df': 0.98, 'vectopt__max_featur...</td>\n",
       "      <td>0.566867</td>\n",
       "      <td>0.564437</td>\n",
       "      <td>0.565652</td>\n",
       "      <td>0.001215</td>\n",
       "      <td>13</td>\n",
       "    </tr>\n",
       "    <tr>\n",
       "      <th>12</th>\n",
       "      <td>34.784635</td>\n",
       "      <td>2.714667</td>\n",
       "      <td>6.326203</td>\n",
       "      <td>0.084489</td>\n",
       "      <td>0.98</td>\n",
       "      <td>10000</td>\n",
       "      <td>0.01</td>\n",
       "      <td>(1, 1)</td>\n",
       "      <td>{'vectopt__max_df': 0.98, 'vectopt__max_featur...</td>\n",
       "      <td>0.566867</td>\n",
       "      <td>0.564437</td>\n",
       "      <td>0.565652</td>\n",
       "      <td>0.001215</td>\n",
       "      <td>13</td>\n",
       "    </tr>\n",
       "    <tr>\n",
       "      <th>17</th>\n",
       "      <td>104.771691</td>\n",
       "      <td>2.547653</td>\n",
       "      <td>12.080671</td>\n",
       "      <td>0.019021</td>\n",
       "      <td>0.98</td>\n",
       "      <td>10000</td>\n",
       "      <td>0.02</td>\n",
       "      <td>(1, 3)</td>\n",
       "      <td>{'vectopt__max_df': 0.98, 'vectopt__max_featur...</td>\n",
       "      <td>0.469415</td>\n",
       "      <td>0.469267</td>\n",
       "      <td>0.469341</td>\n",
       "      <td>0.000074</td>\n",
       "      <td>19</td>\n",
       "    </tr>\n",
       "    <tr>\n",
       "      <th>34</th>\n",
       "      <td>59.338222</td>\n",
       "      <td>3.779657</td>\n",
       "      <td>8.272032</td>\n",
       "      <td>0.067489</td>\n",
       "      <td>1</td>\n",
       "      <td>10000</td>\n",
       "      <td>0.02</td>\n",
       "      <td>(1, 2)</td>\n",
       "      <td>{'vectopt__max_df': 1.0, 'vectopt__max_feature...</td>\n",
       "      <td>0.469415</td>\n",
       "      <td>0.469267</td>\n",
       "      <td>0.469341</td>\n",
       "      <td>0.000074</td>\n",
       "      <td>19</td>\n",
       "    </tr>\n",
       "    <tr>\n",
       "      <th>4</th>\n",
       "      <td>64.685759</td>\n",
       "      <td>5.218365</td>\n",
       "      <td>11.316693</td>\n",
       "      <td>2.034709</td>\n",
       "      <td>0.98</td>\n",
       "      <td>2000</td>\n",
       "      <td>0.02</td>\n",
       "      <td>(1, 2)</td>\n",
       "      <td>{'vectopt__max_df': 0.98, 'vectopt__max_featur...</td>\n",
       "      <td>0.469415</td>\n",
       "      <td>0.469267</td>\n",
       "      <td>0.469341</td>\n",
       "      <td>0.000074</td>\n",
       "      <td>19</td>\n",
       "    </tr>\n",
       "    <tr>\n",
       "      <th>5</th>\n",
       "      <td>105.849372</td>\n",
       "      <td>5.093193</td>\n",
       "      <td>12.196097</td>\n",
       "      <td>0.112347</td>\n",
       "      <td>0.98</td>\n",
       "      <td>2000</td>\n",
       "      <td>0.02</td>\n",
       "      <td>(1, 3)</td>\n",
       "      <td>{'vectopt__max_df': 0.98, 'vectopt__max_featur...</td>\n",
       "      <td>0.469415</td>\n",
       "      <td>0.469267</td>\n",
       "      <td>0.469341</td>\n",
       "      <td>0.000074</td>\n",
       "      <td>19</td>\n",
       "    </tr>\n",
       "    <tr>\n",
       "      <th>29</th>\n",
       "      <td>102.114593</td>\n",
       "      <td>4.380923</td>\n",
       "      <td>11.816946</td>\n",
       "      <td>0.153877</td>\n",
       "      <td>1</td>\n",
       "      <td>5000</td>\n",
       "      <td>0.02</td>\n",
       "      <td>(1, 3)</td>\n",
       "      <td>{'vectopt__max_df': 1.0, 'vectopt__max_feature...</td>\n",
       "      <td>0.469415</td>\n",
       "      <td>0.469267</td>\n",
       "      <td>0.469341</td>\n",
       "      <td>0.000074</td>\n",
       "      <td>19</td>\n",
       "    </tr>\n",
       "    <tr>\n",
       "      <th>28</th>\n",
       "      <td>63.111559</td>\n",
       "      <td>1.610278</td>\n",
       "      <td>8.195023</td>\n",
       "      <td>0.026499</td>\n",
       "      <td>1</td>\n",
       "      <td>5000</td>\n",
       "      <td>0.02</td>\n",
       "      <td>(1, 2)</td>\n",
       "      <td>{'vectopt__max_df': 1.0, 'vectopt__max_feature...</td>\n",
       "      <td>0.469415</td>\n",
       "      <td>0.469267</td>\n",
       "      <td>0.469341</td>\n",
       "      <td>0.000074</td>\n",
       "      <td>19</td>\n",
       "    </tr>\n",
       "    <tr>\n",
       "      <th>16</th>\n",
       "      <td>69.139739</td>\n",
       "      <td>6.224049</td>\n",
       "      <td>8.320928</td>\n",
       "      <td>0.109677</td>\n",
       "      <td>0.98</td>\n",
       "      <td>10000</td>\n",
       "      <td>0.02</td>\n",
       "      <td>(1, 2)</td>\n",
       "      <td>{'vectopt__max_df': 0.98, 'vectopt__max_featur...</td>\n",
       "      <td>0.469415</td>\n",
       "      <td>0.469267</td>\n",
       "      <td>0.469341</td>\n",
       "      <td>0.000074</td>\n",
       "      <td>19</td>\n",
       "    </tr>\n",
       "    <tr>\n",
       "      <th>10</th>\n",
       "      <td>60.330904</td>\n",
       "      <td>2.944028</td>\n",
       "      <td>8.338853</td>\n",
       "      <td>0.093567</td>\n",
       "      <td>0.98</td>\n",
       "      <td>5000</td>\n",
       "      <td>0.02</td>\n",
       "      <td>(1, 2)</td>\n",
       "      <td>{'vectopt__max_df': 0.98, 'vectopt__max_featur...</td>\n",
       "      <td>0.469415</td>\n",
       "      <td>0.469267</td>\n",
       "      <td>0.469341</td>\n",
       "      <td>0.000074</td>\n",
       "      <td>19</td>\n",
       "    </tr>\n",
       "    <tr>\n",
       "      <th>23</th>\n",
       "      <td>104.715416</td>\n",
       "      <td>3.215198</td>\n",
       "      <td>11.977968</td>\n",
       "      <td>0.133190</td>\n",
       "      <td>1</td>\n",
       "      <td>2000</td>\n",
       "      <td>0.02</td>\n",
       "      <td>(1, 3)</td>\n",
       "      <td>{'vectopt__max_df': 1.0, 'vectopt__max_feature...</td>\n",
       "      <td>0.469415</td>\n",
       "      <td>0.469267</td>\n",
       "      <td>0.469341</td>\n",
       "      <td>0.000074</td>\n",
       "      <td>19</td>\n",
       "    </tr>\n",
       "    <tr>\n",
       "      <th>22</th>\n",
       "      <td>63.512166</td>\n",
       "      <td>3.562829</td>\n",
       "      <td>8.651313</td>\n",
       "      <td>0.377935</td>\n",
       "      <td>1</td>\n",
       "      <td>2000</td>\n",
       "      <td>0.02</td>\n",
       "      <td>(1, 2)</td>\n",
       "      <td>{'vectopt__max_df': 1.0, 'vectopt__max_feature...</td>\n",
       "      <td>0.469415</td>\n",
       "      <td>0.469267</td>\n",
       "      <td>0.469341</td>\n",
       "      <td>0.000074</td>\n",
       "      <td>19</td>\n",
       "    </tr>\n",
       "    <tr>\n",
       "      <th>11</th>\n",
       "      <td>103.837297</td>\n",
       "      <td>3.293176</td>\n",
       "      <td>12.176307</td>\n",
       "      <td>0.021706</td>\n",
       "      <td>0.98</td>\n",
       "      <td>5000</td>\n",
       "      <td>0.02</td>\n",
       "      <td>(1, 3)</td>\n",
       "      <td>{'vectopt__max_df': 0.98, 'vectopt__max_featur...</td>\n",
       "      <td>0.469415</td>\n",
       "      <td>0.469267</td>\n",
       "      <td>0.469341</td>\n",
       "      <td>0.000074</td>\n",
       "      <td>19</td>\n",
       "    </tr>\n",
       "    <tr>\n",
       "      <th>35</th>\n",
       "      <td>102.408964</td>\n",
       "      <td>0.053234</td>\n",
       "      <td>11.655791</td>\n",
       "      <td>0.009282</td>\n",
       "      <td>1</td>\n",
       "      <td>10000</td>\n",
       "      <td>0.02</td>\n",
       "      <td>(1, 3)</td>\n",
       "      <td>{'vectopt__max_df': 1.0, 'vectopt__max_feature...</td>\n",
       "      <td>0.469415</td>\n",
       "      <td>0.469267</td>\n",
       "      <td>0.469341</td>\n",
       "      <td>0.000074</td>\n",
       "      <td>19</td>\n",
       "    </tr>\n",
       "    <tr>\n",
       "      <th>9</th>\n",
       "      <td>27.619588</td>\n",
       "      <td>2.154185</td>\n",
       "      <td>7.219327</td>\n",
       "      <td>0.229654</td>\n",
       "      <td>0.98</td>\n",
       "      <td>5000</td>\n",
       "      <td>0.02</td>\n",
       "      <td>(1, 1)</td>\n",
       "      <td>{'vectopt__max_df': 0.98, 'vectopt__max_featur...</td>\n",
       "      <td>0.469096</td>\n",
       "      <td>0.469185</td>\n",
       "      <td>0.469141</td>\n",
       "      <td>0.000044</td>\n",
       "      <td>31</td>\n",
       "    </tr>\n",
       "    <tr>\n",
       "      <th>27</th>\n",
       "      <td>30.893824</td>\n",
       "      <td>1.033629</td>\n",
       "      <td>5.027057</td>\n",
       "      <td>0.991073</td>\n",
       "      <td>1</td>\n",
       "      <td>5000</td>\n",
       "      <td>0.02</td>\n",
       "      <td>(1, 1)</td>\n",
       "      <td>{'vectopt__max_df': 1.0, 'vectopt__max_feature...</td>\n",
       "      <td>0.469096</td>\n",
       "      <td>0.469185</td>\n",
       "      <td>0.469141</td>\n",
       "      <td>0.000044</td>\n",
       "      <td>31</td>\n",
       "    </tr>\n",
       "    <tr>\n",
       "      <th>21</th>\n",
       "      <td>31.962279</td>\n",
       "      <td>1.006761</td>\n",
       "      <td>5.427899</td>\n",
       "      <td>0.934772</td>\n",
       "      <td>1</td>\n",
       "      <td>2000</td>\n",
       "      <td>0.02</td>\n",
       "      <td>(1, 1)</td>\n",
       "      <td>{'vectopt__max_df': 1.0, 'vectopt__max_feature...</td>\n",
       "      <td>0.469096</td>\n",
       "      <td>0.469185</td>\n",
       "      <td>0.469141</td>\n",
       "      <td>0.000044</td>\n",
       "      <td>31</td>\n",
       "    </tr>\n",
       "    <tr>\n",
       "      <th>3</th>\n",
       "      <td>25.375109</td>\n",
       "      <td>0.605318</td>\n",
       "      <td>6.941178</td>\n",
       "      <td>0.222945</td>\n",
       "      <td>0.98</td>\n",
       "      <td>2000</td>\n",
       "      <td>0.02</td>\n",
       "      <td>(1, 1)</td>\n",
       "      <td>{'vectopt__max_df': 0.98, 'vectopt__max_featur...</td>\n",
       "      <td>0.469096</td>\n",
       "      <td>0.469185</td>\n",
       "      <td>0.469141</td>\n",
       "      <td>0.000044</td>\n",
       "      <td>31</td>\n",
       "    </tr>\n",
       "    <tr>\n",
       "      <th>33</th>\n",
       "      <td>31.848492</td>\n",
       "      <td>0.549434</td>\n",
       "      <td>6.788512</td>\n",
       "      <td>0.923448</td>\n",
       "      <td>1</td>\n",
       "      <td>10000</td>\n",
       "      <td>0.02</td>\n",
       "      <td>(1, 1)</td>\n",
       "      <td>{'vectopt__max_df': 1.0, 'vectopt__max_feature...</td>\n",
       "      <td>0.469096</td>\n",
       "      <td>0.469185</td>\n",
       "      <td>0.469141</td>\n",
       "      <td>0.000044</td>\n",
       "      <td>31</td>\n",
       "    </tr>\n",
       "    <tr>\n",
       "      <th>15</th>\n",
       "      <td>27.858435</td>\n",
       "      <td>1.878698</td>\n",
       "      <td>6.680956</td>\n",
       "      <td>0.505755</td>\n",
       "      <td>0.98</td>\n",
       "      <td>10000</td>\n",
       "      <td>0.02</td>\n",
       "      <td>(1, 1)</td>\n",
       "      <td>{'vectopt__max_df': 0.98, 'vectopt__max_featur...</td>\n",
       "      <td>0.469096</td>\n",
       "      <td>0.469185</td>\n",
       "      <td>0.469141</td>\n",
       "      <td>0.000044</td>\n",
       "      <td>31</td>\n",
       "    </tr>\n",
       "  </tbody>\n",
       "</table>\n",
       "</div>"
      ],
      "text/plain": [
       "    mean_fit_time  std_fit_time  mean_score_time  std_score_time  \\\n",
       "1       65.699461      1.052816        10.067201        1.407657   \n",
       "2      109.451415      2.154058        12.584241        0.056680   \n",
       "32     108.044366      5.137068        12.061401        0.740423   \n",
       "31      68.789744      1.768978         8.484592        0.101755   \n",
       "26     109.416539      1.750828        11.853248        0.023738   \n",
       "7       68.094164      0.558520        10.153522        1.427916   \n",
       "8      107.452776      2.136446        12.385799        0.121605   \n",
       "25      70.405002      4.431756         8.577147        0.045715   \n",
       "20     110.960746      1.488968        12.010169        0.025215   \n",
       "19      68.339333      1.602056         8.562168        0.017590   \n",
       "13      70.061380      3.199947         8.823983        0.337837   \n",
       "14     115.617413      2.454541        12.171259        0.040491   \n",
       "0       32.480093      0.518946         7.384467        0.506191   \n",
       "30      37.588218      0.396123         5.582092        1.258304   \n",
       "24      42.871072      1.536273         6.294987        0.094774   \n",
       "18      40.957354      2.442234         7.855403        0.003592   \n",
       "6       34.534378      0.349799         7.109649        0.306710   \n",
       "12      34.784635      2.714667         6.326203        0.084489   \n",
       "17     104.771691      2.547653        12.080671        0.019021   \n",
       "34      59.338222      3.779657         8.272032        0.067489   \n",
       "4       64.685759      5.218365        11.316693        2.034709   \n",
       "5      105.849372      5.093193        12.196097        0.112347   \n",
       "29     102.114593      4.380923        11.816946        0.153877   \n",
       "28      63.111559      1.610278         8.195023        0.026499   \n",
       "16      69.139739      6.224049         8.320928        0.109677   \n",
       "10      60.330904      2.944028         8.338853        0.093567   \n",
       "23     104.715416      3.215198        11.977968        0.133190   \n",
       "22      63.512166      3.562829         8.651313        0.377935   \n",
       "11     103.837297      3.293176        12.176307        0.021706   \n",
       "35     102.408964      0.053234        11.655791        0.009282   \n",
       "9       27.619588      2.154185         7.219327        0.229654   \n",
       "27      30.893824      1.033629         5.027057        0.991073   \n",
       "21      31.962279      1.006761         5.427899        0.934772   \n",
       "3       25.375109      0.605318         6.941178        0.222945   \n",
       "33      31.848492      0.549434         6.788512        0.923448   \n",
       "15      27.858435      1.878698         6.680956        0.505755   \n",
       "\n",
       "   param_vectopt__max_df param_vectopt__max_features param_vectopt__min_df  \\\n",
       "1                   0.98                        2000                  0.01   \n",
       "2                   0.98                        2000                  0.01   \n",
       "32                     1                       10000                  0.01   \n",
       "31                     1                       10000                  0.01   \n",
       "26                     1                        5000                  0.01   \n",
       "7                   0.98                        5000                  0.01   \n",
       "8                   0.98                        5000                  0.01   \n",
       "25                     1                        5000                  0.01   \n",
       "20                     1                        2000                  0.01   \n",
       "19                     1                        2000                  0.01   \n",
       "13                  0.98                       10000                  0.01   \n",
       "14                  0.98                       10000                  0.01   \n",
       "0                   0.98                        2000                  0.01   \n",
       "30                     1                       10000                  0.01   \n",
       "24                     1                        5000                  0.01   \n",
       "18                     1                        2000                  0.01   \n",
       "6                   0.98                        5000                  0.01   \n",
       "12                  0.98                       10000                  0.01   \n",
       "17                  0.98                       10000                  0.02   \n",
       "34                     1                       10000                  0.02   \n",
       "4                   0.98                        2000                  0.02   \n",
       "5                   0.98                        2000                  0.02   \n",
       "29                     1                        5000                  0.02   \n",
       "28                     1                        5000                  0.02   \n",
       "16                  0.98                       10000                  0.02   \n",
       "10                  0.98                        5000                  0.02   \n",
       "23                     1                        2000                  0.02   \n",
       "22                     1                        2000                  0.02   \n",
       "11                  0.98                        5000                  0.02   \n",
       "35                     1                       10000                  0.02   \n",
       "9                   0.98                        5000                  0.02   \n",
       "27                     1                        5000                  0.02   \n",
       "21                     1                        2000                  0.02   \n",
       "3                   0.98                        2000                  0.02   \n",
       "33                     1                       10000                  0.02   \n",
       "15                  0.98                       10000                  0.02   \n",
       "\n",
       "   param_vectopt__ngram_range  \\\n",
       "1                      (1, 2)   \n",
       "2                      (1, 3)   \n",
       "32                     (1, 3)   \n",
       "31                     (1, 2)   \n",
       "26                     (1, 3)   \n",
       "7                      (1, 2)   \n",
       "8                      (1, 3)   \n",
       "25                     (1, 2)   \n",
       "20                     (1, 3)   \n",
       "19                     (1, 2)   \n",
       "13                     (1, 2)   \n",
       "14                     (1, 3)   \n",
       "0                      (1, 1)   \n",
       "30                     (1, 1)   \n",
       "24                     (1, 1)   \n",
       "18                     (1, 1)   \n",
       "6                      (1, 1)   \n",
       "12                     (1, 1)   \n",
       "17                     (1, 3)   \n",
       "34                     (1, 2)   \n",
       "4                      (1, 2)   \n",
       "5                      (1, 3)   \n",
       "29                     (1, 3)   \n",
       "28                     (1, 2)   \n",
       "16                     (1, 2)   \n",
       "10                     (1, 2)   \n",
       "23                     (1, 3)   \n",
       "22                     (1, 2)   \n",
       "11                     (1, 3)   \n",
       "35                     (1, 3)   \n",
       "9                      (1, 1)   \n",
       "27                     (1, 1)   \n",
       "21                     (1, 1)   \n",
       "3                      (1, 1)   \n",
       "33                     (1, 1)   \n",
       "15                     (1, 1)   \n",
       "\n",
       "                                               params  split0_test_score  \\\n",
       "1   {'vectopt__max_df': 0.98, 'vectopt__max_featur...           0.566874   \n",
       "2   {'vectopt__max_df': 0.98, 'vectopt__max_featur...           0.566874   \n",
       "32  {'vectopt__max_df': 1.0, 'vectopt__max_feature...           0.566874   \n",
       "31  {'vectopt__max_df': 1.0, 'vectopt__max_feature...           0.566874   \n",
       "26  {'vectopt__max_df': 1.0, 'vectopt__max_feature...           0.566874   \n",
       "7   {'vectopt__max_df': 0.98, 'vectopt__max_featur...           0.566874   \n",
       "8   {'vectopt__max_df': 0.98, 'vectopt__max_featur...           0.566874   \n",
       "25  {'vectopt__max_df': 1.0, 'vectopt__max_feature...           0.566874   \n",
       "20  {'vectopt__max_df': 1.0, 'vectopt__max_feature...           0.566874   \n",
       "19  {'vectopt__max_df': 1.0, 'vectopt__max_feature...           0.566874   \n",
       "13  {'vectopt__max_df': 0.98, 'vectopt__max_featur...           0.566874   \n",
       "14  {'vectopt__max_df': 0.98, 'vectopt__max_featur...           0.566874   \n",
       "0   {'vectopt__max_df': 0.98, 'vectopt__max_featur...           0.566867   \n",
       "30  {'vectopt__max_df': 1.0, 'vectopt__max_feature...           0.566867   \n",
       "24  {'vectopt__max_df': 1.0, 'vectopt__max_feature...           0.566867   \n",
       "18  {'vectopt__max_df': 1.0, 'vectopt__max_feature...           0.566867   \n",
       "6   {'vectopt__max_df': 0.98, 'vectopt__max_featur...           0.566867   \n",
       "12  {'vectopt__max_df': 0.98, 'vectopt__max_featur...           0.566867   \n",
       "17  {'vectopt__max_df': 0.98, 'vectopt__max_featur...           0.469415   \n",
       "34  {'vectopt__max_df': 1.0, 'vectopt__max_feature...           0.469415   \n",
       "4   {'vectopt__max_df': 0.98, 'vectopt__max_featur...           0.469415   \n",
       "5   {'vectopt__max_df': 0.98, 'vectopt__max_featur...           0.469415   \n",
       "29  {'vectopt__max_df': 1.0, 'vectopt__max_feature...           0.469415   \n",
       "28  {'vectopt__max_df': 1.0, 'vectopt__max_feature...           0.469415   \n",
       "16  {'vectopt__max_df': 0.98, 'vectopt__max_featur...           0.469415   \n",
       "10  {'vectopt__max_df': 0.98, 'vectopt__max_featur...           0.469415   \n",
       "23  {'vectopt__max_df': 1.0, 'vectopt__max_feature...           0.469415   \n",
       "22  {'vectopt__max_df': 1.0, 'vectopt__max_feature...           0.469415   \n",
       "11  {'vectopt__max_df': 0.98, 'vectopt__max_featur...           0.469415   \n",
       "35  {'vectopt__max_df': 1.0, 'vectopt__max_feature...           0.469415   \n",
       "9   {'vectopt__max_df': 0.98, 'vectopt__max_featur...           0.469096   \n",
       "27  {'vectopt__max_df': 1.0, 'vectopt__max_feature...           0.469096   \n",
       "21  {'vectopt__max_df': 1.0, 'vectopt__max_feature...           0.469096   \n",
       "3   {'vectopt__max_df': 0.98, 'vectopt__max_featur...           0.469096   \n",
       "33  {'vectopt__max_df': 1.0, 'vectopt__max_feature...           0.469096   \n",
       "15  {'vectopt__max_df': 0.98, 'vectopt__max_featur...           0.469096   \n",
       "\n",
       "    split1_test_score  mean_test_score  std_test_score  rank_test_score  \n",
       "1            0.564444         0.565659        0.001215                1  \n",
       "2            0.564444         0.565659        0.001215                1  \n",
       "32           0.564444         0.565659        0.001215                1  \n",
       "31           0.564444         0.565659        0.001215                1  \n",
       "26           0.564444         0.565659        0.001215                1  \n",
       "7            0.564444         0.565659        0.001215                1  \n",
       "8            0.564444         0.565659        0.001215                1  \n",
       "25           0.564444         0.565659        0.001215                1  \n",
       "20           0.564444         0.565659        0.001215                1  \n",
       "19           0.564444         0.565659        0.001215                1  \n",
       "13           0.564444         0.565659        0.001215                1  \n",
       "14           0.564444         0.565659        0.001215                1  \n",
       "0            0.564437         0.565652        0.001215               13  \n",
       "30           0.564437         0.565652        0.001215               13  \n",
       "24           0.564437         0.565652        0.001215               13  \n",
       "18           0.564437         0.565652        0.001215               13  \n",
       "6            0.564437         0.565652        0.001215               13  \n",
       "12           0.564437         0.565652        0.001215               13  \n",
       "17           0.469267         0.469341        0.000074               19  \n",
       "34           0.469267         0.469341        0.000074               19  \n",
       "4            0.469267         0.469341        0.000074               19  \n",
       "5            0.469267         0.469341        0.000074               19  \n",
       "29           0.469267         0.469341        0.000074               19  \n",
       "28           0.469267         0.469341        0.000074               19  \n",
       "16           0.469267         0.469341        0.000074               19  \n",
       "10           0.469267         0.469341        0.000074               19  \n",
       "23           0.469267         0.469341        0.000074               19  \n",
       "22           0.469267         0.469341        0.000074               19  \n",
       "11           0.469267         0.469341        0.000074               19  \n",
       "35           0.469267         0.469341        0.000074               19  \n",
       "9            0.469185         0.469141        0.000044               31  \n",
       "27           0.469185         0.469141        0.000044               31  \n",
       "21           0.469185         0.469141        0.000044               31  \n",
       "3            0.469185         0.469141        0.000044               31  \n",
       "33           0.469185         0.469141        0.000044               31  \n",
       "15           0.469185         0.469141        0.000044               31  "
      ]
     },
     "execution_count": 104,
     "metadata": {},
     "output_type": "execute_result"
    }
   ],
   "source": [
    "e.sort_values(by='mean_test_score',axis=0,ascending=False)"
   ]
  },
  {
   "cell_type": "code",
   "execution_count": null,
   "metadata": {},
   "outputs": [],
   "source": []
  },
  {
   "cell_type": "markdown",
   "metadata": {},
   "source": [
    "### USE THE BELOW LINES FOR DEBUGGING"
   ]
  },
  {
   "cell_type": "code",
   "execution_count": 64,
   "metadata": {},
   "outputs": [],
   "source": [
    "lr_test = LogisticRegression(max_iter=5000)\n",
    "# pipeline\n",
    "model_test = pipeline.Pipeline([(\"vectorizer\",vect),\n",
    "                                (\"classifier\",lr_test)])\n",
    "model_test.fit(X_train,y_train)\n",
    "## Test Classifier\n",
    "Predicted_test = model_test.predict(X_test)\n",
    "Predicted_prob_test = model_test.predict_proba(X_test)"
   ]
  },
  {
   "cell_type": "code",
   "execution_count": 65,
   "metadata": {},
   "outputs": [
    {
     "data": {
      "text/plain": [
       "Int64Index([ 282538,  190596,  807082,   68729,  977107,   62676,  162793,\n",
       "             172079,   70980, 1399501,\n",
       "            ...\n",
       "             251214,  229686,  271782,   88226,  328930,  652349,  270152,\n",
       "             158307,  114338,  111035],\n",
       "           dtype='int64', length=1544)"
      ]
     },
     "execution_count": 65,
     "metadata": {},
     "output_type": "execute_result"
    }
   ],
   "source": [
    "# Testing the error\n",
    "X_test[y_test!=Predicted].iloc[1]\n",
    "y_test[y_test!=Predicted]\n",
    "e = Predicted[y_test!=Predicted]\n",
    "index_incorrect = X_test[(y_test!=Predicted) & (y_test==7)].index\n",
    "index_incorrect"
   ]
  },
  {
   "cell_type": "code",
   "execution_count": 66,
   "metadata": {},
   "outputs": [
    {
     "data": {
      "text/plain": [
       "282538                    mind smell fart u smell used love\n",
       "190596    give lyric hymn give passion soul dear lord hy...\n",
       "807082    pro con money timothy 10 love money root evil ...\n",
       "68729                                     become actor luck\n",
       "977107    diet supplement could take increase milk yield...\n",
       "                                ...                        \n",
       "652349    term paper need write term paper book best man...\n",
       "270152    cosa nostra italian meaningcosa nostra transla...\n",
       "158307    get nozzle hover steam carpet cleaner fot hose...\n",
       "114338    hippopotamus hippopotamus really cool oppotamu...\n",
       "111035    best way clean silver ring put mole hcl heat d...\n",
       "Name: Text_new, Length: 1544, dtype: object"
      ]
     },
     "execution_count": 66,
     "metadata": {},
     "output_type": "execute_result"
    }
   ],
   "source": [
    "X_test[(y_test!=Predicted) & (y_test==7)]"
   ]
  },
  {
   "cell_type": "code",
   "execution_count": 67,
   "metadata": {},
   "outputs": [
    {
     "ename": "KeyError",
     "evalue": "689499",
     "output_type": "error",
     "traceback": [
      "\u001b[0;31m---------------------------------------------------------------------------\u001b[0m",
      "\u001b[0;31mKeyError\u001b[0m                                  Traceback (most recent call last)",
      "\u001b[0;32m~/anaconda3/lib/python3.8/site-packages/pandas/core/indexes/base.py\u001b[0m in \u001b[0;36mget_loc\u001b[0;34m(self, key, method, tolerance)\u001b[0m\n\u001b[1;32m   2894\u001b[0m             \u001b[0;32mtry\u001b[0m\u001b[0;34m:\u001b[0m\u001b[0;34m\u001b[0m\u001b[0;34m\u001b[0m\u001b[0m\n\u001b[0;32m-> 2895\u001b[0;31m                 \u001b[0;32mreturn\u001b[0m \u001b[0mself\u001b[0m\u001b[0;34m.\u001b[0m\u001b[0m_engine\u001b[0m\u001b[0;34m.\u001b[0m\u001b[0mget_loc\u001b[0m\u001b[0;34m(\u001b[0m\u001b[0mcasted_key\u001b[0m\u001b[0;34m)\u001b[0m\u001b[0;34m\u001b[0m\u001b[0;34m\u001b[0m\u001b[0m\n\u001b[0m\u001b[1;32m   2896\u001b[0m             \u001b[0;32mexcept\u001b[0m \u001b[0mKeyError\u001b[0m \u001b[0;32mas\u001b[0m \u001b[0merr\u001b[0m\u001b[0;34m:\u001b[0m\u001b[0;34m\u001b[0m\u001b[0;34m\u001b[0m\u001b[0m\n",
      "\u001b[0;32mpandas/_libs/index.pyx\u001b[0m in \u001b[0;36mpandas._libs.index.IndexEngine.get_loc\u001b[0;34m()\u001b[0m\n",
      "\u001b[0;32mpandas/_libs/index.pyx\u001b[0m in \u001b[0;36mpandas._libs.index.IndexEngine.get_loc\u001b[0;34m()\u001b[0m\n",
      "\u001b[0;32mpandas/_libs/hashtable_class_helper.pxi\u001b[0m in \u001b[0;36mpandas._libs.hashtable.Int64HashTable.get_item\u001b[0;34m()\u001b[0m\n",
      "\u001b[0;32mpandas/_libs/hashtable_class_helper.pxi\u001b[0m in \u001b[0;36mpandas._libs.hashtable.Int64HashTable.get_item\u001b[0;34m()\u001b[0m\n",
      "\u001b[0;31mKeyError\u001b[0m: 689499",
      "\nThe above exception was the direct cause of the following exception:\n",
      "\u001b[0;31mKeyError\u001b[0m                                  Traceback (most recent call last)",
      "\u001b[0;32m<ipython-input-67-518c6b854e27>\u001b[0m in \u001b[0;36m<module>\u001b[0;34m\u001b[0m\n\u001b[0;32m----> 1\u001b[0;31m \u001b[0mX_test\u001b[0m\u001b[0;34m.\u001b[0m\u001b[0mloc\u001b[0m\u001b[0;34m[\u001b[0m\u001b[0;36m689499\u001b[0m\u001b[0;34m]\u001b[0m\u001b[0;34m\u001b[0m\u001b[0;34m\u001b[0m\u001b[0m\n\u001b[0m",
      "\u001b[0;32m~/anaconda3/lib/python3.8/site-packages/pandas/core/indexing.py\u001b[0m in \u001b[0;36m__getitem__\u001b[0;34m(self, key)\u001b[0m\n\u001b[1;32m    877\u001b[0m \u001b[0;34m\u001b[0m\u001b[0m\n\u001b[1;32m    878\u001b[0m             \u001b[0mmaybe_callable\u001b[0m \u001b[0;34m=\u001b[0m \u001b[0mcom\u001b[0m\u001b[0;34m.\u001b[0m\u001b[0mapply_if_callable\u001b[0m\u001b[0;34m(\u001b[0m\u001b[0mkey\u001b[0m\u001b[0;34m,\u001b[0m \u001b[0mself\u001b[0m\u001b[0;34m.\u001b[0m\u001b[0mobj\u001b[0m\u001b[0;34m)\u001b[0m\u001b[0;34m\u001b[0m\u001b[0;34m\u001b[0m\u001b[0m\n\u001b[0;32m--> 879\u001b[0;31m             \u001b[0;32mreturn\u001b[0m \u001b[0mself\u001b[0m\u001b[0;34m.\u001b[0m\u001b[0m_getitem_axis\u001b[0m\u001b[0;34m(\u001b[0m\u001b[0mmaybe_callable\u001b[0m\u001b[0;34m,\u001b[0m \u001b[0maxis\u001b[0m\u001b[0;34m=\u001b[0m\u001b[0maxis\u001b[0m\u001b[0;34m)\u001b[0m\u001b[0;34m\u001b[0m\u001b[0;34m\u001b[0m\u001b[0m\n\u001b[0m\u001b[1;32m    880\u001b[0m \u001b[0;34m\u001b[0m\u001b[0m\n\u001b[1;32m    881\u001b[0m     \u001b[0;32mdef\u001b[0m \u001b[0m_is_scalar_access\u001b[0m\u001b[0;34m(\u001b[0m\u001b[0mself\u001b[0m\u001b[0;34m,\u001b[0m \u001b[0mkey\u001b[0m\u001b[0;34m:\u001b[0m \u001b[0mTuple\u001b[0m\u001b[0;34m)\u001b[0m\u001b[0;34m:\u001b[0m\u001b[0;34m\u001b[0m\u001b[0;34m\u001b[0m\u001b[0m\n",
      "\u001b[0;32m~/anaconda3/lib/python3.8/site-packages/pandas/core/indexing.py\u001b[0m in \u001b[0;36m_getitem_axis\u001b[0;34m(self, key, axis)\u001b[0m\n\u001b[1;32m   1108\u001b[0m         \u001b[0;31m# fall thru to straight lookup\u001b[0m\u001b[0;34m\u001b[0m\u001b[0;34m\u001b[0m\u001b[0;34m\u001b[0m\u001b[0m\n\u001b[1;32m   1109\u001b[0m         \u001b[0mself\u001b[0m\u001b[0;34m.\u001b[0m\u001b[0m_validate_key\u001b[0m\u001b[0;34m(\u001b[0m\u001b[0mkey\u001b[0m\u001b[0;34m,\u001b[0m \u001b[0maxis\u001b[0m\u001b[0;34m)\u001b[0m\u001b[0;34m\u001b[0m\u001b[0;34m\u001b[0m\u001b[0m\n\u001b[0;32m-> 1110\u001b[0;31m         \u001b[0;32mreturn\u001b[0m \u001b[0mself\u001b[0m\u001b[0;34m.\u001b[0m\u001b[0m_get_label\u001b[0m\u001b[0;34m(\u001b[0m\u001b[0mkey\u001b[0m\u001b[0;34m,\u001b[0m \u001b[0maxis\u001b[0m\u001b[0;34m=\u001b[0m\u001b[0maxis\u001b[0m\u001b[0;34m)\u001b[0m\u001b[0;34m\u001b[0m\u001b[0;34m\u001b[0m\u001b[0m\n\u001b[0m\u001b[1;32m   1111\u001b[0m \u001b[0;34m\u001b[0m\u001b[0m\n\u001b[1;32m   1112\u001b[0m     \u001b[0;32mdef\u001b[0m \u001b[0m_get_slice_axis\u001b[0m\u001b[0;34m(\u001b[0m\u001b[0mself\u001b[0m\u001b[0;34m,\u001b[0m \u001b[0mslice_obj\u001b[0m\u001b[0;34m:\u001b[0m \u001b[0mslice\u001b[0m\u001b[0;34m,\u001b[0m \u001b[0maxis\u001b[0m\u001b[0;34m:\u001b[0m \u001b[0mint\u001b[0m\u001b[0;34m)\u001b[0m\u001b[0;34m:\u001b[0m\u001b[0;34m\u001b[0m\u001b[0;34m\u001b[0m\u001b[0m\n",
      "\u001b[0;32m~/anaconda3/lib/python3.8/site-packages/pandas/core/indexing.py\u001b[0m in \u001b[0;36m_get_label\u001b[0;34m(self, label, axis)\u001b[0m\n\u001b[1;32m   1057\u001b[0m     \u001b[0;32mdef\u001b[0m \u001b[0m_get_label\u001b[0m\u001b[0;34m(\u001b[0m\u001b[0mself\u001b[0m\u001b[0;34m,\u001b[0m \u001b[0mlabel\u001b[0m\u001b[0;34m,\u001b[0m \u001b[0maxis\u001b[0m\u001b[0;34m:\u001b[0m \u001b[0mint\u001b[0m\u001b[0;34m)\u001b[0m\u001b[0;34m:\u001b[0m\u001b[0;34m\u001b[0m\u001b[0;34m\u001b[0m\u001b[0m\n\u001b[1;32m   1058\u001b[0m         \u001b[0;31m# GH#5667 this will fail if the label is not present in the axis.\u001b[0m\u001b[0;34m\u001b[0m\u001b[0;34m\u001b[0m\u001b[0;34m\u001b[0m\u001b[0m\n\u001b[0;32m-> 1059\u001b[0;31m         \u001b[0;32mreturn\u001b[0m \u001b[0mself\u001b[0m\u001b[0;34m.\u001b[0m\u001b[0mobj\u001b[0m\u001b[0;34m.\u001b[0m\u001b[0mxs\u001b[0m\u001b[0;34m(\u001b[0m\u001b[0mlabel\u001b[0m\u001b[0;34m,\u001b[0m \u001b[0maxis\u001b[0m\u001b[0;34m=\u001b[0m\u001b[0maxis\u001b[0m\u001b[0;34m)\u001b[0m\u001b[0;34m\u001b[0m\u001b[0;34m\u001b[0m\u001b[0m\n\u001b[0m\u001b[1;32m   1060\u001b[0m \u001b[0;34m\u001b[0m\u001b[0m\n\u001b[1;32m   1061\u001b[0m     \u001b[0;32mdef\u001b[0m \u001b[0m_handle_lowerdim_multi_index_axis0\u001b[0m\u001b[0;34m(\u001b[0m\u001b[0mself\u001b[0m\u001b[0;34m,\u001b[0m \u001b[0mtup\u001b[0m\u001b[0;34m:\u001b[0m \u001b[0mTuple\u001b[0m\u001b[0;34m)\u001b[0m\u001b[0;34m:\u001b[0m\u001b[0;34m\u001b[0m\u001b[0;34m\u001b[0m\u001b[0m\n",
      "\u001b[0;32m~/anaconda3/lib/python3.8/site-packages/pandas/core/generic.py\u001b[0m in \u001b[0;36mxs\u001b[0;34m(self, key, axis, level, drop_level)\u001b[0m\n\u001b[1;32m   3489\u001b[0m             \u001b[0mloc\u001b[0m\u001b[0;34m,\u001b[0m \u001b[0mnew_index\u001b[0m \u001b[0;34m=\u001b[0m \u001b[0mself\u001b[0m\u001b[0;34m.\u001b[0m\u001b[0mindex\u001b[0m\u001b[0;34m.\u001b[0m\u001b[0mget_loc_level\u001b[0m\u001b[0;34m(\u001b[0m\u001b[0mkey\u001b[0m\u001b[0;34m,\u001b[0m \u001b[0mdrop_level\u001b[0m\u001b[0;34m=\u001b[0m\u001b[0mdrop_level\u001b[0m\u001b[0;34m)\u001b[0m\u001b[0;34m\u001b[0m\u001b[0;34m\u001b[0m\u001b[0m\n\u001b[1;32m   3490\u001b[0m         \u001b[0;32melse\u001b[0m\u001b[0;34m:\u001b[0m\u001b[0;34m\u001b[0m\u001b[0;34m\u001b[0m\u001b[0m\n\u001b[0;32m-> 3491\u001b[0;31m             \u001b[0mloc\u001b[0m \u001b[0;34m=\u001b[0m \u001b[0mself\u001b[0m\u001b[0;34m.\u001b[0m\u001b[0mindex\u001b[0m\u001b[0;34m.\u001b[0m\u001b[0mget_loc\u001b[0m\u001b[0;34m(\u001b[0m\u001b[0mkey\u001b[0m\u001b[0;34m)\u001b[0m\u001b[0;34m\u001b[0m\u001b[0;34m\u001b[0m\u001b[0m\n\u001b[0m\u001b[1;32m   3492\u001b[0m \u001b[0;34m\u001b[0m\u001b[0m\n\u001b[1;32m   3493\u001b[0m             \u001b[0;32mif\u001b[0m \u001b[0misinstance\u001b[0m\u001b[0;34m(\u001b[0m\u001b[0mloc\u001b[0m\u001b[0;34m,\u001b[0m \u001b[0mnp\u001b[0m\u001b[0;34m.\u001b[0m\u001b[0mndarray\u001b[0m\u001b[0;34m)\u001b[0m\u001b[0;34m:\u001b[0m\u001b[0;34m\u001b[0m\u001b[0;34m\u001b[0m\u001b[0m\n",
      "\u001b[0;32m~/anaconda3/lib/python3.8/site-packages/pandas/core/indexes/base.py\u001b[0m in \u001b[0;36mget_loc\u001b[0;34m(self, key, method, tolerance)\u001b[0m\n\u001b[1;32m   2895\u001b[0m                 \u001b[0;32mreturn\u001b[0m \u001b[0mself\u001b[0m\u001b[0;34m.\u001b[0m\u001b[0m_engine\u001b[0m\u001b[0;34m.\u001b[0m\u001b[0mget_loc\u001b[0m\u001b[0;34m(\u001b[0m\u001b[0mcasted_key\u001b[0m\u001b[0;34m)\u001b[0m\u001b[0;34m\u001b[0m\u001b[0;34m\u001b[0m\u001b[0m\n\u001b[1;32m   2896\u001b[0m             \u001b[0;32mexcept\u001b[0m \u001b[0mKeyError\u001b[0m \u001b[0;32mas\u001b[0m \u001b[0merr\u001b[0m\u001b[0;34m:\u001b[0m\u001b[0;34m\u001b[0m\u001b[0;34m\u001b[0m\u001b[0m\n\u001b[0;32m-> 2897\u001b[0;31m                 \u001b[0;32mraise\u001b[0m \u001b[0mKeyError\u001b[0m\u001b[0;34m(\u001b[0m\u001b[0mkey\u001b[0m\u001b[0;34m)\u001b[0m \u001b[0;32mfrom\u001b[0m \u001b[0merr\u001b[0m\u001b[0;34m\u001b[0m\u001b[0;34m\u001b[0m\u001b[0m\n\u001b[0m\u001b[1;32m   2898\u001b[0m \u001b[0;34m\u001b[0m\u001b[0m\n\u001b[1;32m   2899\u001b[0m         \u001b[0;32mif\u001b[0m \u001b[0mtolerance\u001b[0m \u001b[0;32mis\u001b[0m \u001b[0;32mnot\u001b[0m \u001b[0;32mNone\u001b[0m\u001b[0;34m:\u001b[0m\u001b[0;34m\u001b[0m\u001b[0;34m\u001b[0m\u001b[0m\n",
      "\u001b[0;31mKeyError\u001b[0m: 689499"
     ]
    }
   ],
   "source": [
    "X_test.loc[689499]"
   ]
  },
  {
   "cell_type": "code",
   "execution_count": null,
   "metadata": {},
   "outputs": [],
   "source": [
    "df.loc[689499]['Q&A']"
   ]
  },
  {
   "cell_type": "code",
   "execution_count": null,
   "metadata": {},
   "outputs": [],
   "source": [
    "test_set = 55\n",
    "text = X_test.iloc[test_set]\n",
    "text"
   ]
  },
  {
   "cell_type": "code",
   "execution_count": null,
   "metadata": {},
   "outputs": [],
   "source": [
    "# print('Actual class -->',y_test.iloc[test_set],'|     Predicted class is -->',Predicted_test[test_set],\n",
    "#       '|     Probability -->  ',np.max(Predicted_prob_test[test_set]))\n",
    "print('Actual class -->',target_classes[y_test.iloc[test_set]-1])\n",
    "print('Predicted class -->',target_classes[Predicted[test_set]-1])"
   ]
  },
  {
   "cell_type": "code",
   "execution_count": null,
   "metadata": {},
   "outputs": [],
   "source": [
    "# explainer = lime_text.LimeTextExplainer(class_names=np.unique(y_train))\n",
    "explainer = lime_text.LimeTextExplainer(class_names=target_classes)"
   ]
  },
  {
   "cell_type": "code",
   "execution_count": null,
   "metadata": {},
   "outputs": [],
   "source": [
    "explained = explainer.explain_instance(text,model_test.predict_proba,num_features=5,top_labels=1)"
   ]
  },
  {
   "cell_type": "code",
   "execution_count": null,
   "metadata": {},
   "outputs": [],
   "source": [
    "explained.show_in_notebook(text=text,predict_proba=True)"
   ]
  },
  {
   "cell_type": "code",
   "execution_count": null,
   "metadata": {},
   "outputs": [],
   "source": []
  },
  {
   "cell_type": "code",
   "execution_count": null,
   "metadata": {},
   "outputs": [],
   "source": [
    "gg = model_lr.predict(XX_train)"
   ]
  },
  {
   "cell_type": "code",
   "execution_count": null,
   "metadata": {},
   "outputs": [],
   "source": [
    "index_incorrect_train = X_train[(gg!=y_train) & (y_train==7)].index\n",
    "index_incorrect_train"
   ]
  },
  {
   "cell_type": "code",
   "execution_count": null,
   "metadata": {},
   "outputs": [],
   "source": []
  },
  {
   "cell_type": "code",
   "execution_count": null,
   "metadata": {},
   "outputs": [],
   "source": []
  },
  {
   "cell_type": "code",
   "execution_count": null,
   "metadata": {},
   "outputs": [],
   "source": []
  },
  {
   "cell_type": "code",
   "execution_count": null,
   "metadata": {},
   "outputs": [],
   "source": [
    "g = df[df.target==7]\n",
    "g.head()"
   ]
  },
  {
   "cell_type": "code",
   "execution_count": null,
   "metadata": {},
   "outputs": [],
   "source": [
    "# sum_=0\n",
    "# lst=[]\n",
    "# lst2=[]\n",
    "# for i,text in enumerate(g.Text_new):\n",
    "#     if 'acid' in text:\n",
    "#         sum_ +=1\n",
    "#         lst.append(text)\n",
    "#         lst2.append(i)"
   ]
  },
  {
   "cell_type": "code",
   "execution_count": null,
   "metadata": {},
   "outputs": [],
   "source": []
  },
  {
   "cell_type": "code",
   "execution_count": null,
   "metadata": {},
   "outputs": [],
   "source": []
  },
  {
   "cell_type": "code",
   "execution_count": null,
   "metadata": {},
   "outputs": [],
   "source": []
  }
 ],
 "metadata": {
  "kernelspec": {
   "display_name": "Python 3",
   "language": "python",
   "name": "python3"
  },
  "language_info": {
   "codemirror_mode": {
    "name": "ipython",
    "version": 3
   },
   "file_extension": ".py",
   "mimetype": "text/x-python",
   "name": "python",
   "nbconvert_exporter": "python",
   "pygments_lexer": "ipython3",
   "version": "3.8.5"
  }
 },
 "nbformat": 4,
 "nbformat_minor": 4
}
